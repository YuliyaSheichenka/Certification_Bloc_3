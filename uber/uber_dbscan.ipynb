{
 "cells": [
  {
   "cell_type": "code",
   "execution_count": null,
   "metadata": {},
   "outputs": [],
   "source": [
    "import pandas as pd\n",
    "import numpy as np\n",
    "\n",
    "import plotly.express as px\n",
    "import plotly.io as pio\n",
    "pio.renderers.default = \"vscode\"\n",
    "\n",
    "from sklearn.preprocessing import  OneHotEncoder, StandardScaler\n",
    "from sklearn.pipeline import Pipeline\n",
    "from sklearn.compose import ColumnTransformer\n",
    "from sklearn.cluster import KMeans, DBSCAN"
   ]
  },
  {
   "attachments": {},
   "cell_type": "markdown",
   "metadata": {},
   "source": [
    "### EDA and Preprocessing with Pandas"
   ]
  },
  {
   "cell_type": "code",
   "execution_count": null,
   "metadata": {},
   "outputs": [],
   "source": [
    "# Importing data from S3 bucket\n",
    "url = 'https://uber-28-02-2023.s3.eu-west-3.amazonaws.com/uber-raw-data-apr14.csv'\n",
    "df = pd.read_csv(url)\n",
    "\n",
    "display(df.head())\n",
    "\n",
    "print(\"Number of rows in the DataFrame: \", len(df))"
   ]
  },
  {
   "attachments": {},
   "cell_type": "markdown",
   "metadata": {},
   "source": [
    "- 'Date/Time' column contains the time of a client was picked up by a Uber driver\n",
    "- 'Lat' and 'Lon' are the geographical coordinates of the place where the client was picked up\n",
    "- 'Base': TLC base company code affiliated with the Uber pickup. In fact, unlike in other cities, a driver needs to have a licence from the TLC (Taxi and Limousin Company) to drive in New York. I will consider that this is purely administrative information and will not take this column into account for further analysis."
   ]
  },
  {
   "cell_type": "code",
   "execution_count": null,
   "metadata": {},
   "outputs": [],
   "source": [
    "# Checking if there are missing values in the dataframe\n",
    "100*df.isnull().sum()/df.shape[0]"
   ]
  },
  {
   "cell_type": "code",
   "execution_count": null,
   "metadata": {},
   "outputs": [],
   "source": [
    "# Checking data types in the dataframe\n",
    "df.dtypes"
   ]
  },
  {
   "attachments": {},
   "cell_type": "markdown",
   "metadata": {},
   "source": [
    "The 'Date/Time' column contains data in object (string) format. We will convert this column to datetime data type in order to extract useful features from this columns."
   ]
  },
  {
   "cell_type": "code",
   "execution_count": null,
   "metadata": {},
   "outputs": [],
   "source": [
    "df[\"Date/Time\"] = pd.to_datetime(df[\"Date/Time\"], format='%m/%d/%Y %H:%M:%S')\n",
    "\n",
    "print(df.dtypes)\n",
    "\n",
    "df.head()"
   ]
  },
  {
   "attachments": {},
   "cell_type": "markdown",
   "metadata": {},
   "source": [
    "It looks like the time of a pickup is precise up to a minute. \n",
    "Let us check whether there are only one or more Uber pickups for a given timestamp."
   ]
  },
  {
   "cell_type": "code",
   "execution_count": null,
   "metadata": {},
   "outputs": [],
   "source": [
    "print(\"Top 10 timestamps with maximum pickups: \")\n",
    "display(df['Date/Time'].value_counts().head(10))\n",
    "\n",
    "print()\n",
    "print(\"Ten timestamps with the minimum pickups: \")\n",
    "display(df['Date/Time'].value_counts().tail(10))"
   ]
  },
  {
   "attachments": {},
   "cell_type": "markdown",
   "metadata": {},
   "source": [
    "At a first sight, it looks like the maximum number of pickups take place in the evening from about 17h00 to 20h30, and the least pickups take place late at night from midnight to around 5h in the morning."
   ]
  },
  {
   "attachments": {},
   "cell_type": "markdown",
   "metadata": {},
   "source": [
    "Intuitively, it seems that we might be able to see patterns in pickup points depending on the day of the week and on the hour of the day. Let us use time series to see if the number of pickups is cyclical in nature. If it is, it might be useful for further analysis of the data."
   ]
  },
  {
   "cell_type": "code",
   "execution_count": null,
   "metadata": {},
   "outputs": [],
   "source": [
    "pickup_time_df = df.groupby(by = \"Date/Time\").size().to_frame().reset_index()\n",
    "pickup_time_df.rename(columns = {0:'nb_pickups'}, inplace = True)\n",
    "pickup_time_df.head()"
   ]
  },
  {
   "cell_type": "code",
   "execution_count": null,
   "metadata": {},
   "outputs": [],
   "source": [
    "fig = px.line(x=pickup_time_df[\"Date/Time\"], y = pickup_time_df[\"nb_pickups\"])\n",
    "fig.update_layout(\n",
    "    title=\"Evolution of number of Uber pickups over a month\",\n",
    "    xaxis_title=\"Time\",\n",
    "    yaxis_title=\"Nb pickups\"\n",
    "    )\n",
    "fig.show()"
   ]
  },
  {
   "attachments": {},
   "cell_type": "markdown",
   "metadata": {},
   "source": [
    "30 cycles are clearly seen for the month of April, one cycle per day. If we zoom in to look at what happens during a single day, we can see the morning peak at approximately 8h to 10h in the morning and the evening peak that lasts from about 17h to 22h. If we zoom in to look at the evening peak, we can see that it is in its turn consists of two peaks separated by a trough at around 20h-20h30."
   ]
  },
  {
   "attachments": {},
   "cell_type": "markdown",
   "metadata": {},
   "source": [
    "For performance reasons, we will take a sample of 10000 rows from the dataframe for further analysis."
   ]
  },
  {
   "cell_type": "code",
   "execution_count": null,
   "metadata": {},
   "outputs": [],
   "source": [
    "df = df.sample(n=10000)\n",
    "df = df.reset_index(drop=True)"
   ]
  },
  {
   "attachments": {},
   "cell_type": "markdown",
   "metadata": {},
   "source": [
    "Let us visualize what these pickup points look like on a map."
   ]
  },
  {
   "cell_type": "code",
   "execution_count": null,
   "metadata": {},
   "outputs": [],
   "source": [
    "fig = px.scatter_mapbox(\n",
    "        df, \n",
    "        lat=\"Lat\", \n",
    "        lon=\"Lon\",\n",
    "        mapbox_style=\"open-street-map\"\n",
    ")\n",
    "\n",
    "fig.show()"
   ]
  },
  {
   "attachments": {},
   "cell_type": "markdown",
   "metadata": {},
   "source": [
    "As we have displayed all 10 000 points of the dataframe at once, they are very close to each other and it's difficult to see any pattern. For visualisation purposes, it might be more interesting not to visualize all pickup points known for the whole month, but to look at the daily or even hourly slots."
   ]
  },
  {
   "attachments": {},
   "cell_type": "markdown",
   "metadata": {},
   "source": [
    "### Preprocessing with Pandas and feature engineering"
   ]
  },
  {
   "cell_type": "code",
   "execution_count": null,
   "metadata": {},
   "outputs": [],
   "source": [
    "# Dropping the 'Base' column as explained before\n",
    "df = df.drop('Base', axis=1)\n",
    "\n",
    "# Sorting dataframe in chronological order\n",
    "df = df.sort_values(\"Date/Time\").reset_index(drop=True)\n",
    "\n",
    "# Extracting features from timestamps for future use\n",
    "df[\"Day_of_Month\"] = pd.DatetimeIndex(df[\"Date/Time\"]).day\n",
    "df[\"Week_Number\"] = df[\"Date/Time\"].dt.isocalendar().week\n",
    "df['Day_of_Week'] = pd.to_datetime(df[\"Date/Time\"]).dt.day_name()\n",
    "df['Hour'] = df[\"Date/Time\"].dt.hour\n",
    "#df['Minute'] = df[\"Date/Time\"].dt.minute\n"
   ]
  },
  {
   "cell_type": "code",
   "execution_count": null,
   "metadata": {},
   "outputs": [],
   "source": [
    "# Because of presumed daily and weekly cycles in activity, let us create a column \n",
    "# that will contain combined information on the day of the week and the hour\n",
    "df[\"Day_of_Week_and_Hour\"] = df[\"Day_of_Week\"] + \"_\" + df[\"Hour\"].astype(str)+\"_hrs\""
   ]
  },
  {
   "cell_type": "code",
   "execution_count": null,
   "metadata": {},
   "outputs": [],
   "source": [
    "\"\"\"day_of_week_df = df.groupby(by = \"Day_of_Week\").size().to_frame().reset_index()\n",
    "day_of_week_df\"\"\""
   ]
  },
  {
   "cell_type": "code",
   "execution_count": null,
   "metadata": {},
   "outputs": [],
   "source": [
    "hourly_df = df.groupby(by = \"Day_of_Week_and_Hour\").size().to_frame().reset_index()\n",
    "hourly_df.rename(columns = {0:'nb_pickups'}, inplace = True)\n",
    "hourly_df.head(5)"
   ]
  },
  {
   "cell_type": "code",
   "execution_count": null,
   "metadata": {},
   "outputs": [],
   "source": [
    "hourly_df = hourly_df.sort_values(by=['nb_pickups'], ascending=False)\n",
    "hourly_df.reset_index(inplace=True, drop=True)\n",
    "\n",
    "print(\"Ten hours in a week with maximum pickups: \")\n",
    "display(hourly_df.head(10))\n",
    "\n",
    "print()\n",
    "print(\"Ten hours in a week with the fewest pickups: \")\n",
    "display(hourly_df.tail(10))"
   ]
  },
  {
   "attachments": {},
   "cell_type": "markdown",
   "metadata": {},
   "source": [
    "We can see that late weekday nights have the fewest pickups, and weekday evening rush hours have the most pickups."
   ]
  },
  {
   "cell_type": "code",
   "execution_count": null,
   "metadata": {},
   "outputs": [],
   "source": [
    "#df[\"Year\"] = pd.DatetimeIndex(df[\"Date/Time\"]).year\n",
    "#df[\"Month\"] = pd.DatetimeIndex(df[\"Date/Time\"]).month"
   ]
  },
  {
   "cell_type": "code",
   "execution_count": null,
   "metadata": {},
   "outputs": [],
   "source": [
    "# Lets us look at an animated map where each frame shows pickup points in a given hour of a day\n",
    "fig = px.scatter_mapbox(df, \n",
    "                        lat=\"Lat\", lon=\"Lon\", animation_frame='Hour', zoom=10,\n",
    "                        mapbox_style=\"open-street-map\")\n",
    "fig.show()"
   ]
  },
  {
   "cell_type": "code",
   "execution_count": null,
   "metadata": {},
   "outputs": [],
   "source": [
    "# Lets us look at an animated map where each frame shows pickup points in a given hour of a day\n",
    "fig = px.scatter_mapbox(df, \n",
    "                        lat=\"Lat\", lon=\"Lon\", animation_frame='Day_of_Week_and_Hour', zoom=10,\n",
    "                        mapbox_style=\"open-street-map\")\n",
    "fig.show()"
   ]
  },
  {
   "attachments": {},
   "cell_type": "markdown",
   "metadata": {},
   "source": [
    "### Preprocessing with Scikit-Learn"
   ]
  },
  {
   "cell_type": "code",
   "execution_count": null,
   "metadata": {},
   "outputs": [],
   "source": [
    "#numeric_features = ['Lat', 'Lon', 'Day_of_Month', 'Hour', 'Minute']\n",
    "numeric_features = ['Lat', 'Lon', 'Day_of_Month']\n",
    "numeric_transformer = StandardScaler()\n",
    "\n",
    "categorical_features = ['Day_of_Week', \"Day_of_Week_and_Hour\", 'Hour']\n",
    "categorical_transformer = OneHotEncoder(drop='first')\n",
    "\n",
    "preprocessor = ColumnTransformer(\n",
    "    transformers=[\n",
    "        ('num', numeric_transformer, numeric_features),\n",
    "        ('cat', categorical_transformer, categorical_features)\n",
    "    ])"
   ]
  },
  {
   "cell_type": "code",
   "execution_count": null,
   "metadata": {},
   "outputs": [],
   "source": [
    "X = preprocessor.fit_transform(df)"
   ]
  },
  {
   "cell_type": "code",
   "execution_count": null,
   "metadata": {},
   "outputs": [],
   "source": [
    "db = DBSCAN(eps=0.2, min_samples=6)\n",
    "\n",
    "db.fit(X)\n",
    "prediction_1 = db.labels_"
   ]
  },
  {
   "cell_type": "code",
   "execution_count": null,
   "metadata": {},
   "outputs": [],
   "source": [
    "core_samples_mask = np.zeros_like(db.labels_, dtype=bool)\n",
    "core_samples_mask[db.core_sample_indices_] = True\n",
    "labels = db.labels_\n",
    "\n",
    "# Number of clusters in labels, ignoring noise if present.\n",
    "n_clusters_ = len(set(labels)) - (1 if -1 in labels else 0)\n",
    "\n",
    "print(\"Estimated number of clusters: %d\" % n_clusters_)"
   ]
  },
  {
   "cell_type": "code",
   "execution_count": null,
   "metadata": {},
   "outputs": [],
   "source": [
    "df[\"cluster\"] = labels\n",
    "\n",
    "df.tail(20)"
   ]
  },
  {
   "cell_type": "code",
   "execution_count": null,
   "metadata": {},
   "outputs": [],
   "source": [
    "df = df[df['cluster'] != -1]\n",
    "df.tail(20)"
   ]
  },
  {
   "cell_type": "code",
   "execution_count": null,
   "metadata": {},
   "outputs": [],
   "source": [
    "fig = px.scatter_mapbox(df, lat=\"Lat\", lon=\"Lon\", color=\"cluster\", zoom=10, mapbox_style=\"open-street-map\")\n",
    "fig.show()"
   ]
  },
  {
   "cell_type": "code",
   "execution_count": null,
   "metadata": {},
   "outputs": [],
   "source": [
    "# Lets us look at an animated map where each frame shows pickup points in a given day\n",
    "fig = px.scatter_mapbox(df, \n",
    "                        lat=\"Lat\", lon=\"Lon\", animation_frame='Day_of_Month', color=\"cluster\",\n",
    "                        mapbox_style=\"open-street-map\")\n",
    "fig.show()"
   ]
  },
  {
   "cell_type": "code",
   "execution_count": null,
   "metadata": {},
   "outputs": [],
   "source": [
    "# Lets us look at an animated map where each frame shows pickup points in a given day\n",
    "fig = px.scatter_mapbox(df, \n",
    "                        lat=\"Lat\", lon=\"Lon\", animation_frame='Day_of_Week', color=\"cluster\",\n",
    "                        mapbox_style=\"open-street-map\")\n",
    "\n",
    "fig.update_layout(\n",
    "    margin=dict(l=20, r=20, t=20, b=10),\n",
    ")\n",
    "\n",
    "fig.show()"
   ]
  },
  {
   "cell_type": "code",
   "execution_count": null,
   "metadata": {},
   "outputs": [],
   "source": [
    "# Lets us look at an animated map where each frame shows pickup points in a given hour of a day\n",
    "fig = px.scatter_mapbox(df, \n",
    "                        lat=\"Lat\", lon=\"Lon\", animation_frame='Day_of_Week_and_Hour', zoom=10,\n",
    "                        color=\"cluster\",\n",
    "                        mapbox_style=\"open-street-map\")\n",
    "fig.show()"
   ]
  }
 ],
 "metadata": {
  "kernelspec": {
   "display_name": "Python 3.10.8 64-bit (microsoft store)",
   "language": "python",
   "name": "python3"
  },
  "language_info": {
   "codemirror_mode": {
    "name": "ipython",
    "version": 3
   },
   "file_extension": ".py",
   "mimetype": "text/x-python",
   "name": "python",
   "nbconvert_exporter": "python",
   "pygments_lexer": "ipython3",
   "version": "3.10.10"
  },
  "orig_nbformat": 4,
  "vscode": {
   "interpreter": {
    "hash": "a0fdf8838102b5a6b2938995cfca801768491c1c6585082ea8435b0dad918ca1"
   }
  }
 },
 "nbformat": 4,
 "nbformat_minor": 2
}
