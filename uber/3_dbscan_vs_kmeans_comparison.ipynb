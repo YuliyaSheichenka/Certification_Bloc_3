{
 "cells": [
  {
   "cell_type": "code",
   "execution_count": 1,
   "metadata": {},
   "outputs": [],
   "source": [
    "import pandas as pd\n",
    "\n",
    "import plotly.express as px\n",
    "import plotly.io as pio\n",
    "pio.renderers.default = \"vscode\""
   ]
  },
  {
   "cell_type": "code",
   "execution_count": 2,
   "metadata": {},
   "outputs": [],
   "source": [
    "# Importing datasets with driver positions found using the differeng algorithms\n",
    "dbscan_df = pd.read_csv('dbscan_driver_positions.csv')\n",
    "kmeans_df = pd.read_csv('kmeans_driver_positions.csv')"
   ]
  },
  {
   "cell_type": "code",
   "execution_count": 3,
   "metadata": {},
   "outputs": [
    {
     "data": {
      "text/html": [
       "<div>\n",
       "<style scoped>\n",
       "    .dataframe tbody tr th:only-of-type {\n",
       "        vertical-align: middle;\n",
       "    }\n",
       "\n",
       "    .dataframe tbody tr th {\n",
       "        vertical-align: top;\n",
       "    }\n",
       "\n",
       "    .dataframe thead th {\n",
       "        text-align: right;\n",
       "    }\n",
       "</style>\n",
       "<table border=\"1\" class=\"dataframe\">\n",
       "  <thead>\n",
       "    <tr style=\"text-align: right;\">\n",
       "      <th></th>\n",
       "      <th>Day_of_Week_and_Hour</th>\n",
       "      <th>cluster</th>\n",
       "      <th>Lat</th>\n",
       "      <th>Lon</th>\n",
       "      <th>Day_of_Month</th>\n",
       "      <th>Week_Number</th>\n",
       "      <th>Hour</th>\n",
       "      <th>nb_pickups</th>\n",
       "      <th>algorithm</th>\n",
       "    </tr>\n",
       "  </thead>\n",
       "  <tbody>\n",
       "    <tr>\n",
       "      <th>0</th>\n",
       "      <td>Friday_0_hrs</td>\n",
       "      <td>361</td>\n",
       "      <td>40.740167</td>\n",
       "      <td>-74.004333</td>\n",
       "      <td>18.0</td>\n",
       "      <td>16.0</td>\n",
       "      <td>0.0</td>\n",
       "      <td>3</td>\n",
       "      <td>dbscan</td>\n",
       "    </tr>\n",
       "    <tr>\n",
       "      <th>1</th>\n",
       "      <td>Friday_0_hrs</td>\n",
       "      <td>362</td>\n",
       "      <td>40.726833</td>\n",
       "      <td>-73.994100</td>\n",
       "      <td>18.0</td>\n",
       "      <td>16.0</td>\n",
       "      <td>0.0</td>\n",
       "      <td>3</td>\n",
       "      <td>dbscan</td>\n",
       "    </tr>\n",
       "    <tr>\n",
       "      <th>2</th>\n",
       "      <td>Friday_10_hrs</td>\n",
       "      <td>70</td>\n",
       "      <td>40.712233</td>\n",
       "      <td>-74.013600</td>\n",
       "      <td>4.0</td>\n",
       "      <td>14.0</td>\n",
       "      <td>10.0</td>\n",
       "      <td>3</td>\n",
       "      <td>dbscan</td>\n",
       "    </tr>\n",
       "    <tr>\n",
       "      <th>3</th>\n",
       "      <td>Friday_10_hrs</td>\n",
       "      <td>227</td>\n",
       "      <td>40.748733</td>\n",
       "      <td>-73.972300</td>\n",
       "      <td>11.0</td>\n",
       "      <td>15.0</td>\n",
       "      <td>10.0</td>\n",
       "      <td>3</td>\n",
       "      <td>dbscan</td>\n",
       "    </tr>\n",
       "    <tr>\n",
       "      <th>4</th>\n",
       "      <td>Friday_10_hrs</td>\n",
       "      <td>228</td>\n",
       "      <td>40.724300</td>\n",
       "      <td>-74.002933</td>\n",
       "      <td>11.0</td>\n",
       "      <td>15.0</td>\n",
       "      <td>10.0</td>\n",
       "      <td>3</td>\n",
       "      <td>dbscan</td>\n",
       "    </tr>\n",
       "  </tbody>\n",
       "</table>\n",
       "</div>"
      ],
      "text/plain": [
       "  Day_of_Week_and_Hour  cluster        Lat        Lon  Day_of_Month  \\\n",
       "0         Friday_0_hrs      361  40.740167 -74.004333          18.0   \n",
       "1         Friday_0_hrs      362  40.726833 -73.994100          18.0   \n",
       "2        Friday_10_hrs       70  40.712233 -74.013600           4.0   \n",
       "3        Friday_10_hrs      227  40.748733 -73.972300          11.0   \n",
       "4        Friday_10_hrs      228  40.724300 -74.002933          11.0   \n",
       "\n",
       "   Week_Number  Hour  nb_pickups algorithm  \n",
       "0         16.0   0.0           3    dbscan  \n",
       "1         16.0   0.0           3    dbscan  \n",
       "2         14.0  10.0           3    dbscan  \n",
       "3         15.0  10.0           3    dbscan  \n",
       "4         15.0  10.0           3    dbscan  "
      ]
     },
     "metadata": {},
     "output_type": "display_data"
    },
    {
     "name": "stdout",
     "output_type": "stream",
     "text": [
      "Number or rows in the dataframe: 687\n"
     ]
    }
   ],
   "source": [
    "# Creating a column containing the name of the algorithm\n",
    "dbscan_df['algorithm'] = \"dbscan\"\n",
    "display(dbscan_df.head())\n",
    "print(\"Number or rows in the dataframe:\", len(dbscan_df))"
   ]
  },
  {
   "cell_type": "code",
   "execution_count": 4,
   "metadata": {},
   "outputs": [
    {
     "data": {
      "text/html": [
       "<div>\n",
       "<style scoped>\n",
       "    .dataframe tbody tr th:only-of-type {\n",
       "        vertical-align: middle;\n",
       "    }\n",
       "\n",
       "    .dataframe tbody tr th {\n",
       "        vertical-align: top;\n",
       "    }\n",
       "\n",
       "    .dataframe thead th {\n",
       "        text-align: right;\n",
       "    }\n",
       "</style>\n",
       "<table border=\"1\" class=\"dataframe\">\n",
       "  <thead>\n",
       "    <tr style=\"text-align: right;\">\n",
       "      <th></th>\n",
       "      <th>Day_of_Week_and_Hour</th>\n",
       "      <th>cluster</th>\n",
       "      <th>Lat</th>\n",
       "      <th>Lon</th>\n",
       "      <th>Day_of_Month</th>\n",
       "      <th>Week_Number</th>\n",
       "      <th>Hour</th>\n",
       "      <th>nb_pickups</th>\n",
       "      <th>algorithm</th>\n",
       "    </tr>\n",
       "  </thead>\n",
       "  <tbody>\n",
       "    <tr>\n",
       "      <th>0</th>\n",
       "      <td>Friday_0_hrs</td>\n",
       "      <td>10</td>\n",
       "      <td>40.739733</td>\n",
       "      <td>-73.991467</td>\n",
       "      <td>20.333333</td>\n",
       "      <td>16.333333</td>\n",
       "      <td>0.0</td>\n",
       "      <td>3</td>\n",
       "      <td>kmeans</td>\n",
       "    </tr>\n",
       "    <tr>\n",
       "      <th>1</th>\n",
       "      <td>Friday_0_hrs</td>\n",
       "      <td>19</td>\n",
       "      <td>40.742050</td>\n",
       "      <td>-74.004850</td>\n",
       "      <td>14.500000</td>\n",
       "      <td>15.500000</td>\n",
       "      <td>0.0</td>\n",
       "      <td>2</td>\n",
       "      <td>kmeans</td>\n",
       "    </tr>\n",
       "    <tr>\n",
       "      <th>2</th>\n",
       "      <td>Friday_0_hrs</td>\n",
       "      <td>30</td>\n",
       "      <td>40.758050</td>\n",
       "      <td>-73.985750</td>\n",
       "      <td>18.000000</td>\n",
       "      <td>16.000000</td>\n",
       "      <td>0.0</td>\n",
       "      <td>2</td>\n",
       "      <td>kmeans</td>\n",
       "    </tr>\n",
       "    <tr>\n",
       "      <th>3</th>\n",
       "      <td>Friday_0_hrs</td>\n",
       "      <td>35</td>\n",
       "      <td>40.726150</td>\n",
       "      <td>-74.004950</td>\n",
       "      <td>11.000000</td>\n",
       "      <td>15.000000</td>\n",
       "      <td>0.0</td>\n",
       "      <td>2</td>\n",
       "      <td>kmeans</td>\n",
       "    </tr>\n",
       "    <tr>\n",
       "      <th>4</th>\n",
       "      <td>Friday_0_hrs</td>\n",
       "      <td>54</td>\n",
       "      <td>40.731500</td>\n",
       "      <td>-73.990750</td>\n",
       "      <td>18.000000</td>\n",
       "      <td>16.000000</td>\n",
       "      <td>0.0</td>\n",
       "      <td>2</td>\n",
       "      <td>kmeans</td>\n",
       "    </tr>\n",
       "  </tbody>\n",
       "</table>\n",
       "</div>"
      ],
      "text/plain": [
       "  Day_of_Week_and_Hour  cluster        Lat        Lon  Day_of_Month  \\\n",
       "0         Friday_0_hrs       10  40.739733 -73.991467     20.333333   \n",
       "1         Friday_0_hrs       19  40.742050 -74.004850     14.500000   \n",
       "2         Friday_0_hrs       30  40.758050 -73.985750     18.000000   \n",
       "3         Friday_0_hrs       35  40.726150 -74.004950     11.000000   \n",
       "4         Friday_0_hrs       54  40.731500 -73.990750     18.000000   \n",
       "\n",
       "   Week_Number  Hour  nb_pickups algorithm  \n",
       "0    16.333333   0.0           3    kmeans  \n",
       "1    15.500000   0.0           2    kmeans  \n",
       "2    16.000000   0.0           2    kmeans  \n",
       "3    15.000000   0.0           2    kmeans  \n",
       "4    16.000000   0.0           2    kmeans  "
      ]
     },
     "metadata": {},
     "output_type": "display_data"
    },
    {
     "name": "stdout",
     "output_type": "stream",
     "text": [
      "Number or rows in the dataframe: 1956\n"
     ]
    }
   ],
   "source": [
    "kmeans_df['algorithm'] = \"kmeans\"\n",
    "display(kmeans_df.head())\n",
    "print(\"Number or rows in the dataframe:\", len(kmeans_df))"
   ]
  },
  {
   "cell_type": "code",
   "execution_count": 5,
   "metadata": {},
   "outputs": [
    {
     "data": {
      "text/html": [
       "<div>\n",
       "<style scoped>\n",
       "    .dataframe tbody tr th:only-of-type {\n",
       "        vertical-align: middle;\n",
       "    }\n",
       "\n",
       "    .dataframe tbody tr th {\n",
       "        vertical-align: top;\n",
       "    }\n",
       "\n",
       "    .dataframe thead th {\n",
       "        text-align: right;\n",
       "    }\n",
       "</style>\n",
       "<table border=\"1\" class=\"dataframe\">\n",
       "  <thead>\n",
       "    <tr style=\"text-align: right;\">\n",
       "      <th></th>\n",
       "      <th>Day_of_Week_and_Hour</th>\n",
       "      <th>cluster</th>\n",
       "      <th>Lat</th>\n",
       "      <th>Lon</th>\n",
       "      <th>Day_of_Month</th>\n",
       "      <th>Week_Number</th>\n",
       "      <th>Hour</th>\n",
       "      <th>nb_pickups</th>\n",
       "      <th>algorithm</th>\n",
       "    </tr>\n",
       "  </thead>\n",
       "  <tbody>\n",
       "    <tr>\n",
       "      <th>0</th>\n",
       "      <td>Friday_0_hrs</td>\n",
       "      <td>10</td>\n",
       "      <td>40.739733</td>\n",
       "      <td>-73.991467</td>\n",
       "      <td>20.333333</td>\n",
       "      <td>16.333333</td>\n",
       "      <td>0.0</td>\n",
       "      <td>3</td>\n",
       "      <td>kmeans</td>\n",
       "    </tr>\n",
       "    <tr>\n",
       "      <th>1</th>\n",
       "      <td>Friday_0_hrs</td>\n",
       "      <td>19</td>\n",
       "      <td>40.742050</td>\n",
       "      <td>-74.004850</td>\n",
       "      <td>14.500000</td>\n",
       "      <td>15.500000</td>\n",
       "      <td>0.0</td>\n",
       "      <td>2</td>\n",
       "      <td>kmeans</td>\n",
       "    </tr>\n",
       "    <tr>\n",
       "      <th>2</th>\n",
       "      <td>Friday_0_hrs</td>\n",
       "      <td>30</td>\n",
       "      <td>40.758050</td>\n",
       "      <td>-73.985750</td>\n",
       "      <td>18.000000</td>\n",
       "      <td>16.000000</td>\n",
       "      <td>0.0</td>\n",
       "      <td>2</td>\n",
       "      <td>kmeans</td>\n",
       "    </tr>\n",
       "    <tr>\n",
       "      <th>3</th>\n",
       "      <td>Friday_0_hrs</td>\n",
       "      <td>35</td>\n",
       "      <td>40.726150</td>\n",
       "      <td>-74.004950</td>\n",
       "      <td>11.000000</td>\n",
       "      <td>15.000000</td>\n",
       "      <td>0.0</td>\n",
       "      <td>2</td>\n",
       "      <td>kmeans</td>\n",
       "    </tr>\n",
       "    <tr>\n",
       "      <th>4</th>\n",
       "      <td>Friday_0_hrs</td>\n",
       "      <td>54</td>\n",
       "      <td>40.731500</td>\n",
       "      <td>-73.990750</td>\n",
       "      <td>18.000000</td>\n",
       "      <td>16.000000</td>\n",
       "      <td>0.0</td>\n",
       "      <td>2</td>\n",
       "      <td>kmeans</td>\n",
       "    </tr>\n",
       "  </tbody>\n",
       "</table>\n",
       "</div>"
      ],
      "text/plain": [
       "  Day_of_Week_and_Hour  cluster        Lat        Lon  Day_of_Month  \\\n",
       "0         Friday_0_hrs       10  40.739733 -73.991467     20.333333   \n",
       "1         Friday_0_hrs       19  40.742050 -74.004850     14.500000   \n",
       "2         Friday_0_hrs       30  40.758050 -73.985750     18.000000   \n",
       "3         Friday_0_hrs       35  40.726150 -74.004950     11.000000   \n",
       "4         Friday_0_hrs       54  40.731500 -73.990750     18.000000   \n",
       "\n",
       "   Week_Number  Hour  nb_pickups algorithm  \n",
       "0    16.333333   0.0           3    kmeans  \n",
       "1    15.500000   0.0           2    kmeans  \n",
       "2    16.000000   0.0           2    kmeans  \n",
       "3    15.000000   0.0           2    kmeans  \n",
       "4    16.000000   0.0           2    kmeans  "
      ]
     },
     "metadata": {},
     "output_type": "display_data"
    },
    {
     "data": {
      "text/html": [
       "<div>\n",
       "<style scoped>\n",
       "    .dataframe tbody tr th:only-of-type {\n",
       "        vertical-align: middle;\n",
       "    }\n",
       "\n",
       "    .dataframe tbody tr th {\n",
       "        vertical-align: top;\n",
       "    }\n",
       "\n",
       "    .dataframe thead th {\n",
       "        text-align: right;\n",
       "    }\n",
       "</style>\n",
       "<table border=\"1\" class=\"dataframe\">\n",
       "  <thead>\n",
       "    <tr style=\"text-align: right;\">\n",
       "      <th></th>\n",
       "      <th>Day_of_Week_and_Hour</th>\n",
       "      <th>cluster</th>\n",
       "      <th>Lat</th>\n",
       "      <th>Lon</th>\n",
       "      <th>Day_of_Month</th>\n",
       "      <th>Week_Number</th>\n",
       "      <th>Hour</th>\n",
       "      <th>nb_pickups</th>\n",
       "      <th>algorithm</th>\n",
       "    </tr>\n",
       "  </thead>\n",
       "  <tbody>\n",
       "    <tr>\n",
       "      <th>2638</th>\n",
       "      <td>Wednesday_8_hrs</td>\n",
       "      <td>647</td>\n",
       "      <td>40.769700</td>\n",
       "      <td>-73.986667</td>\n",
       "      <td>30.0</td>\n",
       "      <td>18.0</td>\n",
       "      <td>8.0</td>\n",
       "      <td>3</td>\n",
       "      <td>dbscan</td>\n",
       "    </tr>\n",
       "    <tr>\n",
       "      <th>2639</th>\n",
       "      <td>Wednesday_9_hrs</td>\n",
       "      <td>310</td>\n",
       "      <td>40.755833</td>\n",
       "      <td>-73.986433</td>\n",
       "      <td>16.0</td>\n",
       "      <td>16.0</td>\n",
       "      <td>9.0</td>\n",
       "      <td>3</td>\n",
       "      <td>dbscan</td>\n",
       "    </tr>\n",
       "    <tr>\n",
       "      <th>2640</th>\n",
       "      <td>Wednesday_9_hrs</td>\n",
       "      <td>648</td>\n",
       "      <td>40.723800</td>\n",
       "      <td>-73.991200</td>\n",
       "      <td>30.0</td>\n",
       "      <td>18.0</td>\n",
       "      <td>9.0</td>\n",
       "      <td>3</td>\n",
       "      <td>dbscan</td>\n",
       "    </tr>\n",
       "    <tr>\n",
       "      <th>2641</th>\n",
       "      <td>Wednesday_9_hrs</td>\n",
       "      <td>649</td>\n",
       "      <td>40.764417</td>\n",
       "      <td>-73.964700</td>\n",
       "      <td>30.0</td>\n",
       "      <td>18.0</td>\n",
       "      <td>9.0</td>\n",
       "      <td>6</td>\n",
       "      <td>dbscan</td>\n",
       "    </tr>\n",
       "    <tr>\n",
       "      <th>2642</th>\n",
       "      <td>Wednesday_9_hrs</td>\n",
       "      <td>650</td>\n",
       "      <td>40.743183</td>\n",
       "      <td>-73.989517</td>\n",
       "      <td>30.0</td>\n",
       "      <td>18.0</td>\n",
       "      <td>9.0</td>\n",
       "      <td>6</td>\n",
       "      <td>dbscan</td>\n",
       "    </tr>\n",
       "  </tbody>\n",
       "</table>\n",
       "</div>"
      ],
      "text/plain": [
       "     Day_of_Week_and_Hour  cluster        Lat        Lon  Day_of_Month  \\\n",
       "2638      Wednesday_8_hrs      647  40.769700 -73.986667          30.0   \n",
       "2639      Wednesday_9_hrs      310  40.755833 -73.986433          16.0   \n",
       "2640      Wednesday_9_hrs      648  40.723800 -73.991200          30.0   \n",
       "2641      Wednesday_9_hrs      649  40.764417 -73.964700          30.0   \n",
       "2642      Wednesday_9_hrs      650  40.743183 -73.989517          30.0   \n",
       "\n",
       "      Week_Number  Hour  nb_pickups algorithm  \n",
       "2638         18.0   8.0           3    dbscan  \n",
       "2639         16.0   9.0           3    dbscan  \n",
       "2640         18.0   9.0           3    dbscan  \n",
       "2641         18.0   9.0           6    dbscan  \n",
       "2642         18.0   9.0           6    dbscan  "
      ]
     },
     "metadata": {},
     "output_type": "display_data"
    },
    {
     "name": "stdout",
     "output_type": "stream",
     "text": [
      "Number or rows in the dataframe: 2643\n"
     ]
    }
   ],
   "source": [
    "# Joining the dataframes\n",
    "comparison_df = kmeans_df.merge(dbscan_df, how=\"outer\")\n",
    "print(\"Number or rows in the dataframe:\", len(comparison_df))"
   ]
  },
  {
   "cell_type": "code",
   "execution_count": 7,
   "metadata": {},
   "outputs": [
    {
     "data": {
      "application/vnd.plotly.v1+json": {
       "config": {
        "plotlyServerURL": "https://plot.ly"
       },
       "data": [
        {
         "hovertemplate": "algorithm=kmeans<br>Day_of_Week_and_Hour=Friday_0_hrs<br>Lat=%{lat}<br>Lon=%{lon}<extra></extra>",
         "lat": [
          40.73973333333333,
          40.742050000000006,
          40.75805,
          40.72615,
          40.7315
         ],
         "legendgroup": "kmeans",
         "lon": [
          -73.99146666666667,
          -74.00485,
          -73.98575,
          -74.00495000000001,
          -73.99074999999999
         ],
         "marker": {
          "color": "#636efa"
         },
         "mode": "markers",
         "name": "kmeans",
         "showlegend": true,
         "subplot": "mapbox",
         "type": "scattermapbox"
        },
        {
         "hovertemplate": "algorithm=dbscan<br>Day_of_Week_and_Hour=Friday_0_hrs<br>Lat=%{lat}<br>Lon=%{lon}<extra></extra>",
         "lat": [
          40.74016666666666,
          40.72683333333333
         ],
         "legendgroup": "dbscan",
         "lon": [
          -74.00433333333334,
          -73.9941
         ],
         "marker": {
          "color": "#EF553B"
         },
         "mode": "markers",
         "name": "dbscan",
         "showlegend": true,
         "subplot": "mapbox",
         "type": "scattermapbox"
        }
       ],
       "frames": [
        {
         "data": [
          {
           "hovertemplate": "algorithm=kmeans<br>Day_of_Week_and_Hour=Friday_0_hrs<br>Lat=%{lat}<br>Lon=%{lon}<extra></extra>",
           "lat": [
            40.73973333333333,
            40.742050000000006,
            40.75805,
            40.72615,
            40.7315
           ],
           "legendgroup": "kmeans",
           "lon": [
            -73.99146666666667,
            -74.00485,
            -73.98575,
            -74.00495000000001,
            -73.99074999999999
           ],
           "marker": {
            "color": "#636efa"
           },
           "mode": "markers",
           "name": "kmeans",
           "showlegend": true,
           "subplot": "mapbox",
           "type": "scattermapbox"
          },
          {
           "hovertemplate": "algorithm=dbscan<br>Day_of_Week_and_Hour=Friday_0_hrs<br>Lat=%{lat}<br>Lon=%{lon}<extra></extra>",
           "lat": [
            40.74016666666666,
            40.72683333333333
           ],
           "legendgroup": "dbscan",
           "lon": [
            -74.00433333333334,
            -73.9941
           ],
           "marker": {
            "color": "#EF553B"
           },
           "mode": "markers",
           "name": "dbscan",
           "showlegend": true,
           "subplot": "mapbox",
           "type": "scattermapbox"
          }
         ],
         "name": "Friday_0_hrs"
        },
        {
         "data": [
          {
           "hovertemplate": "algorithm=kmeans<br>Day_of_Week_and_Hour=Friday_10_hrs<br>Lat=%{lat}<br>Lon=%{lon}<extra></extra>",
           "lat": [
            40.75376666666667,
            40.774,
            40.73973333333333,
            40.7614,
            40.76213333333333,
            40.72585,
            40.78925,
            40.754866666666665,
            40.6731,
            40.734575,
            40.70035
           ],
           "legendgroup": "kmeans",
           "lon": [
            -73.9761,
            -73.96064999999999,
            -73.9862,
            -73.9738,
            -73.98666666666666,
            -74.00165000000001,
            -73.95405,
            -73.9934,
            -73.97855,
            -74.00007500000001,
            -73.92185
           ],
           "marker": {
            "color": "#636efa"
           },
           "mode": "markers",
           "name": "kmeans",
           "showlegend": true,
           "subplot": "mapbox",
           "type": "scattermapbox"
          },
          {
           "hovertemplate": "algorithm=dbscan<br>Day_of_Week_and_Hour=Friday_10_hrs<br>Lat=%{lat}<br>Lon=%{lon}<extra></extra>",
           "lat": [
            40.71223333333333,
            40.74873333333333,
            40.7243
           ],
           "legendgroup": "dbscan",
           "lon": [
            -74.0136,
            -73.9723,
            -74.00293333333333
           ],
           "marker": {
            "color": "#EF553B"
           },
           "mode": "markers",
           "name": "dbscan",
           "showlegend": true,
           "subplot": "mapbox",
           "type": "scattermapbox"
          }
         ],
         "name": "Friday_10_hrs"
        },
        {
         "data": [
          {
           "hovertemplate": "algorithm=kmeans<br>Day_of_Week_and_Hour=Friday_11_hrs<br>Lat=%{lat}<br>Lon=%{lon}<extra></extra>",
           "lat": [
            40.7501,
            40.72115,
            40.77136,
            40.741150000000005,
            40.70684285714286,
            40.748025,
            40.76473333333333,
            40.71763333333333,
            40.72505,
            40.771166666666666,
            40.7657,
            40.72916666666666,
            40.73422
           ],
           "legendgroup": "kmeans",
           "lon": [
            -73.97641999999999,
            -73.992975,
            -73.95934,
            -73.9828,
            -74.00938571428571,
            -74.00505,
            -73.97713333333333,
            -74.0072,
            -74.00095,
            -73.98469999999999,
            -73.96565000000001,
            -73.98846666666667,
            -74.0014
           ],
           "marker": {
            "color": "#636efa"
           },
           "mode": "markers",
           "name": "kmeans",
           "showlegend": true,
           "subplot": "mapbox",
           "type": "scattermapbox"
          },
          {
           "hovertemplate": "algorithm=dbscan<br>Day_of_Week_and_Hour=Friday_11_hrs<br>Lat=%{lat}<br>Lon=%{lon}<extra></extra>",
           "lat": [
            40.7513,
            40.7506
           ],
           "legendgroup": "dbscan",
           "lon": [
            -73.979275,
            -73.99033333333334
           ],
           "marker": {
            "color": "#EF553B"
           },
           "mode": "markers",
           "name": "dbscan",
           "showlegend": true,
           "subplot": "mapbox",
           "type": "scattermapbox"
          }
         ],
         "name": "Friday_11_hrs"
        },
        {
         "data": [
          {
           "hovertemplate": "algorithm=kmeans<br>Day_of_Week_and_Hour=Friday_12_hrs<br>Lat=%{lat}<br>Lon=%{lon}<extra></extra>",
           "lat": [
            40.74825,
            40.77405,
            40.7731,
            40.74008571428572,
            40.7066,
            40.74594999999999,
            40.7609,
            40.71963333333333,
            40.757450000000006,
            40.72444,
            40.6908,
            40.7304,
            40.751266666666666
           ],
           "legendgroup": "kmeans",
           "lon": [
            -73.97695,
            -73.87245,
            -73.96303333333333,
            -73.9869,
            -74.01265000000001,
            -74.00075000000001,
            -73.97606666666667,
            -74.0075,
            -73.9838,
            -74.00122,
            -73.9858,
            -73.9812,
            -73.99106666666667
           ],
           "marker": {
            "color": "#636efa"
           },
           "mode": "markers",
           "name": "kmeans",
           "showlegend": true,
           "subplot": "mapbox",
           "type": "scattermapbox"
          },
          {
           "hovertemplate": "algorithm=dbscan<br>Day_of_Week_and_Hour=Friday_12_hrs<br>Lat=%{lat}<br>Lon=%{lon}<extra></extra>",
           "lat": [
            40.7527,
            40.72282,
            40.76375,
            40.72288,
            40.756575
           ],
           "legendgroup": "dbscan",
           "lon": [
            -73.99306666666666,
            -73.99746,
            -73.9654,
            -73.9914,
            -73.981375
           ],
           "marker": {
            "color": "#EF553B"
           },
           "mode": "markers",
           "name": "dbscan",
           "showlegend": true,
           "subplot": "mapbox",
           "type": "scattermapbox"
          }
         ],
         "name": "Friday_12_hrs"
        },
        {
         "data": [
          {
           "hovertemplate": "algorithm=kmeans<br>Day_of_Week_and_Hour=Friday_13_hrs<br>Lat=%{lat}<br>Lon=%{lon}<extra></extra>",
           "lat": [
            40.75217777777778,
            40.71846666666667,
            40.7703,
            40.741733333333336,
            40.6631,
            40.7863,
            40.7056,
            40.74305,
            40.75956,
            40.72205,
            40.75954,
            40.7641,
            40.753
           ],
           "legendgroup": "kmeans",
           "lon": [
            -73.97378888888889,
            -73.9927,
            -73.87062499999999,
            -73.9905,
            -73.93164999999999,
            -73.97416666666668,
            -74.00919999999999,
            -74.00665000000001,
            -73.97442,
            -74.00909999999999,
            -73.98546,
            -73.96665,
            -73.99435
           ],
           "marker": {
            "color": "#636efa"
           },
           "mode": "markers",
           "name": "kmeans",
           "showlegend": true,
           "subplot": "mapbox",
           "type": "scattermapbox"
          },
          {
           "hovertemplate": "algorithm=dbscan<br>Day_of_Week_and_Hour=Friday_13_hrs<br>Lat=%{lat}<br>Lon=%{lon}<extra></extra>",
           "lat": [
            40.7631,
            40.74973333333333,
            40.73628,
            40.7094,
            40.75736666666666
           ],
           "legendgroup": "dbscan",
           "lon": [
            -73.97093333333333,
            -73.98450000000001,
            -74.00326,
            -74.0117,
            -73.98259999999999
           ],
           "marker": {
            "color": "#EF553B"
           },
           "mode": "markers",
           "name": "dbscan",
           "showlegend": true,
           "subplot": "mapbox",
           "type": "scattermapbox"
          }
         ],
         "name": "Friday_13_hrs"
        },
        {
         "data": [
          {
           "hovertemplate": "algorithm=kmeans<br>Day_of_Week_and_Hour=Friday_14_hrs<br>Lat=%{lat}<br>Lon=%{lon}<extra></extra>",
           "lat": [
            40.75136666666666,
            40.644575,
            40.77405,
            40.772675,
            40.74165,
            40.7861,
            40.7449,
            40.76128888888889,
            40.669,
            40.717325,
            40.76096,
            40.725225,
            40.7726,
            40.7807,
            40.73093333333333,
            40.749966666666666,
            40.735275
           ],
           "legendgroup": "kmeans",
           "lon": [
            -73.98016666666666,
            -73.785475,
            -73.87219999999999,
            -73.961375,
            -73.99075,
            -73.9733,
            -74.00297499999999,
            -73.97359999999999,
            -74,
            -74.0089,
            -73.9845,
            -73.9996875,
            -73.9875,
            -73.95349999999999,
            -73.9866,
            -73.99233333333333,
            -73.9996
           ],
           "marker": {
            "color": "#636efa"
           },
           "mode": "markers",
           "name": "kmeans",
           "showlegend": true,
           "subplot": "mapbox",
           "type": "scattermapbox"
          },
          {
           "hovertemplate": "algorithm=dbscan<br>Day_of_Week_and_Hour=Friday_14_hrs<br>Lat=%{lat}<br>Lon=%{lon}<extra></extra>",
           "lat": [
            40.7457,
            40.75488,
            40.7584,
            40.74035,
            40.76038333333333,
            40.70796666666666
           ],
           "legendgroup": "dbscan",
           "lon": [
            -73.9883125,
            -73.98053999999999,
            -73.9723,
            -73.990925,
            -73.9808,
            -74.0092
           ],
           "marker": {
            "color": "#EF553B"
           },
           "mode": "markers",
           "name": "dbscan",
           "showlegend": true,
           "subplot": "mapbox",
           "type": "scattermapbox"
          }
         ],
         "name": "Friday_14_hrs"
        },
        {
         "data": [
          {
           "hovertemplate": "algorithm=kmeans<br>Day_of_Week_and_Hour=Friday_15_hrs<br>Lat=%{lat}<br>Lon=%{lon}<extra></extra>",
           "lat": [
            40.7521,
            40.6456,
            40.718625,
            40.7695,
            40.77235,
            40.74241111111111,
            40.71425,
            40.7024,
            40.747283333333336,
            40.762071428571424,
            40.71648,
            40.724466666666665,
            40.76608,
            40.73164444444444,
            40.7503,
            40.73432
           ],
           "legendgroup": "kmeans",
           "lon": [
            -73.97803,
            -73.78585000000001,
            -73.985725,
            -73.868175,
            -73.9616,
            -73.9868,
            -73.96225,
            -74.01205,
            -74.00496666666668,
            -73.97597142857144,
            -74.01028,
            -74.00240000000001,
            -73.96536,
            -73.98503333333332,
            -73.992,
            -74.00384
           ],
           "marker": {
            "color": "#636efa"
           },
           "mode": "markers",
           "name": "kmeans",
           "showlegend": true,
           "subplot": "mapbox",
           "type": "scattermapbox"
          },
          {
           "hovertemplate": "algorithm=dbscan<br>Day_of_Week_and_Hour=Friday_15_hrs<br>Lat=%{lat}<br>Lon=%{lon}<extra></extra>",
           "lat": [
            40.74797777777778,
            40.716433333333335,
            40.70656666666667,
            40.76245,
            40.74693333333334,
            40.72565,
            40.75705,
            40.724825,
            40.766133333333336,
            40.73633333333333,
            40.7229,
            40.75688
           ],
           "legendgroup": "dbscan",
           "lon": [
            -73.98878888888889,
            -74.00283333333333,
            -74.01043333333332,
            -73.97285,
            -73.9969,
            -74.00371666666666,
            -73.968025,
            -74.001025,
            -73.972,
            -73.99146666666667,
            -73.99676666666666,
            -73.98476000000001
           ],
           "marker": {
            "color": "#EF553B"
           },
           "mode": "markers",
           "name": "dbscan",
           "showlegend": true,
           "subplot": "mapbox",
           "type": "scattermapbox"
          }
         ],
         "name": "Friday_15_hrs"
        },
        {
         "data": [
          {
           "hovertemplate": "algorithm=kmeans<br>Day_of_Week_and_Hour=Friday_16_hrs<br>Lat=%{lat}<br>Lon=%{lon}<extra></extra>",
           "lat": [
            40.75185555555556,
            40.7748,
            40.74129285714286,
            40.78885,
            40.7086,
            40.7487,
            40.76038095238095,
            40.67415,
            40.71684444444444,
            40.7604,
            40.72398888888889,
            40.77375,
            40.76577142857143,
            40.781575,
            40.7521125,
            40.735975
           ],
           "legendgroup": "kmeans",
           "lon": [
            -73.97795555555555,
            -73.96325,
            -73.98905714285715,
            -73.97955,
            -74.00999999999999,
            -74.0061,
            -73.9741142857143,
            -73.9991,
            -74.01175555555557,
            -73.99173333333334,
            -74.00244444444445,
            -73.98044999999999,
            -73.96351428571428,
            -73.95134999999999,
            -73.994025,
            -74.0045
           ],
           "marker": {
            "color": "#636efa"
           },
           "mode": "markers",
           "name": "kmeans",
           "showlegend": true,
           "subplot": "mapbox",
           "type": "scattermapbox"
          },
          {
           "hovertemplate": "algorithm=dbscan<br>Day_of_Week_and_Hour=Friday_16_hrs<br>Lat=%{lat}<br>Lon=%{lon}<extra></extra>",
           "lat": [
            40.752246666666665,
            40.72254,
            40.77315,
            40.76073333333333,
            40.7645,
            40.7443,
            40.73183333333333,
            40.7711,
            40.759
           ],
           "legendgroup": "dbscan",
           "lon": [
            -73.98314,
            -74.00316000000001,
            -73.95653333333333,
            -73.97336666666666,
            -73.9845,
            -73.99076666666667,
            -73.9951,
            -73.96586666666667,
            -73.9751857142857
           ],
           "marker": {
            "color": "#EF553B"
           },
           "mode": "markers",
           "name": "dbscan",
           "showlegend": true,
           "subplot": "mapbox",
           "type": "scattermapbox"
          }
         ],
         "name": "Friday_16_hrs"
        },
        {
         "data": [
          {
           "hovertemplate": "algorithm=kmeans<br>Day_of_Week_and_Hour=Friday_17_hrs<br>Lat=%{lat}<br>Lon=%{lon}<extra></extra>",
           "lat": [
            40.75248181818181,
            40.689400000000006,
            40.71996,
            40.77226666666667,
            40.77126666666667,
            40.74122,
            40.7851,
            40.70716,
            40.74766,
            40.762075,
            40.71835,
            40.7626,
            40.724375,
            40.77056666666667,
            40.69245,
            40.8012,
            40.763325,
            40.783375,
            40.7312,
            40.75,
            40.73556666666666
           ],
           "legendgroup": "kmeans",
           "lon": [
            -73.97683636363637,
            -73.9718,
            -73.99056,
            -73.87156666666667,
            -73.96153333333334,
            -73.98728,
            -73.97315,
            -74.00904,
            -74.00489999999999,
            -73.974425,
            -74.00993333333334,
            -73.98586,
            -74.0019375,
            -73.98143333333333,
            -73.98490000000001,
            -73.9547,
            -73.968725,
            -73.952,
            -73.98995,
            -73.9918875,
            -74.00265
           ],
           "marker": {
            "color": "#636efa"
           },
           "mode": "markers",
           "name": "kmeans",
           "showlegend": true,
           "subplot": "mapbox",
           "type": "scattermapbox"
          },
          {
           "hovertemplate": "algorithm=dbscan<br>Day_of_Week_and_Hour=Friday_17_hrs<br>Lat=%{lat}<br>Lon=%{lon}<extra></extra>",
           "lat": [
            40.72145,
            40.744,
            40.76204444444445,
            40.7454,
            40.722675,
            40.75722857142857,
            40.7845,
            40.7529,
            40.728775,
            40.771025,
            40.74794,
            40.727160000000005,
            40.7601,
            40.71026666666666
           ],
           "legendgroup": "dbscan",
           "lon": [
            -74.004325,
            -73.98682500000001,
            -73.97295555555554,
            -74.00663333333334,
            -73.998825,
            -73.97699999999999,
            -73.9559,
            -73.9773125,
            -74.004925,
            -73.95455,
            -73.98537999999999,
            -74.00154,
            -73.9726,
            -74.01096666666666
           ],
           "marker": {
            "color": "#EF553B"
           },
           "mode": "markers",
           "name": "dbscan",
           "showlegend": true,
           "subplot": "mapbox",
           "type": "scattermapbox"
          }
         ],
         "name": "Friday_17_hrs"
        },
        {
         "data": [
          {
           "hovertemplate": "algorithm=kmeans<br>Day_of_Week_and_Hour=Friday_18_hrs<br>Lat=%{lat}<br>Lon=%{lon}<extra></extra>",
           "lat": [
            40.75044166666667,
            40.64575,
            40.72018333333333,
            40.77265714285714,
            40.74220769230769,
            40.7157,
            40.79285,
            40.70807142857143,
            40.74534,
            40.76279090909091,
            40.71643,
            40.761075,
            40.7244,
            40.7676,
            40.6892,
            40.76305,
            40.7790125,
            40.730514285714285,
            40.70315,
            40.751866666666665,
            40.7441,
            40.73512,
            40.70376666666667
           ],
           "legendgroup": "kmeans",
           "lon": [
            -73.979025,
            -73.7859,
            -73.99378333333333,
            -73.96024285714286,
            -73.98915384615385,
            -73.96136666666666,
            -73.96855,
            -74.01375714285713,
            -74.006,
            -73.97464545454545,
            -74.01191,
            -73.995725,
            -74.0016875,
            -73.986875,
            -73.9982,
            -73.96376666666667,
            -73.9519,
            -73.98797142857143,
            -73.9863,
            -73.98868888888889,
            -73.9308,
            -74.0017,
            -73.93130000000001
           ],
           "marker": {
            "color": "#636efa"
           },
           "mode": "markers",
           "name": "kmeans",
           "showlegend": true,
           "subplot": "mapbox",
           "type": "scattermapbox"
          },
          {
           "hovertemplate": "algorithm=dbscan<br>Day_of_Week_and_Hour=Friday_18_hrs<br>Lat=%{lat}<br>Lon=%{lon}<extra></extra>",
           "lat": [
            40.74952307692308,
            40.6884,
            40.71474,
            40.74435714285715,
            40.755575,
            40.74378,
            40.72298,
            40.774233333333335,
            40.72352,
            40.755075,
            40.77248333333333
           ],
           "legendgroup": "dbscan",
           "lon": [
            -73.98276153846153,
            -73.98376666666667,
            -74.00762,
            -73.99852857142857,
            -73.9767,
            -73.99112,
            -73.99882,
            -73.98246666666667,
            -74.00062,
            -73.98334166666667,
            -73.95861666666667
           ],
           "marker": {
            "color": "#EF553B"
           },
           "mode": "markers",
           "name": "dbscan",
           "showlegend": true,
           "subplot": "mapbox",
           "type": "scattermapbox"
          }
         ],
         "name": "Friday_18_hrs"
        },
        {
         "data": [
          {
           "hovertemplate": "algorithm=kmeans<br>Day_of_Week_and_Hour=Friday_19_hrs<br>Lat=%{lat}<br>Lon=%{lon}<extra></extra>",
           "lat": [
            40.7528,
            40.721575,
            40.7721,
            40.77335,
            40.74086428571429,
            40.72255,
            40.78835,
            40.70785,
            40.7439125,
            40.76119230769231,
            40.718720000000005,
            40.762025,
            40.72551666666666,
            40.77128,
            40.76445,
            40.777975,
            40.7304,
            40.703050000000005,
            40.751133333333335,
            40.73308,
            40.708650000000006
           ],
           "legendgroup": "kmeans",
           "lon": [
            -73.97710000000001,
            -73.98752499999999,
            -73.8682,
            -73.96,
            -73.98842857142857,
            -73.95855,
            -73.97765000000001,
            -74.011675,
            -74.0040875,
            -73.97488461538461,
            -74.00556,
            -73.992175,
            -74.00175,
            -73.98598,
            -73.965325,
            -73.95089999999999,
            -73.98651,
            -73.98225,
            -73.9917,
            -74.00474,
            -73.92185
           ],
           "marker": {
            "color": "#636efa"
           },
           "mode": "markers",
           "name": "kmeans",
           "showlegend": true,
           "subplot": "mapbox",
           "type": "scattermapbox"
          },
          {
           "hovertemplate": "algorithm=dbscan<br>Day_of_Week_and_Hour=Friday_19_hrs<br>Lat=%{lat}<br>Lon=%{lon}<extra></extra>",
           "lat": [
            40.73614375,
            40.76853333333333,
            40.75808333333333,
            40.75705714285714,
            40.740833333333335,
            40.75943333333333,
            40.72776666666667,
            40.74968571428571
           ],
           "legendgroup": "dbscan",
           "lon": [
            -73.99909375,
            -73.96679999999999,
            -73.9764,
            -73.97734285714286,
            -74.0057,
            -73.97483333333334,
            -73.99533333333333,
            -73.99031428571428
           ],
           "marker": {
            "color": "#EF553B"
           },
           "mode": "markers",
           "name": "dbscan",
           "showlegend": true,
           "subplot": "mapbox",
           "type": "scattermapbox"
          }
         ],
         "name": "Friday_19_hrs"
        },
        {
         "data": [
          {
           "hovertemplate": "algorithm=kmeans<br>Day_of_Week_and_Hour=Friday_1_hrs<br>Lat=%{lat}<br>Lon=%{lon}<extra></extra>",
           "lat": [
            40.7534
           ],
           "legendgroup": "kmeans",
           "lon": [
            -73.97816666666667
           ],
           "marker": {
            "color": "#636efa"
           },
           "mode": "markers",
           "name": "kmeans",
           "showlegend": true,
           "subplot": "mapbox",
           "type": "scattermapbox"
          }
         ],
         "name": "Friday_1_hrs"
        },
        {
         "data": [
          {
           "hovertemplate": "algorithm=kmeans<br>Day_of_Week_and_Hour=Friday_20_hrs<br>Lat=%{lat}<br>Lon=%{lon}<extra></extra>",
           "lat": [
            40.74965714285714,
            40.6468,
            40.72142,
            40.74098571428571,
            40.72185,
            40.78385,
            40.746542857142856,
            40.83755,
            40.75911818181818,
            40.71854,
            40.75995,
            40.725728571428576,
            40.74516666666667,
            40.760533333333335,
            40.7301,
            40.75268571428571,
            40.73406666666667
           ],
           "legendgroup": "kmeans",
           "lon": [
            -73.97598571428571,
            -73.78275,
            -73.99064000000001,
            -73.98902857142856,
            -73.9582,
            -73.9723,
            -74.00847142857143,
            -73.93495,
            -73.97349090909091,
            -74.00825999999999,
            -73.9861,
            -74.00221428571429,
            -74.03926666666666,
            -73.9635,
            -73.98783333333334,
            -73.99268571428571,
            -74.00515555555555
           ],
           "marker": {
            "color": "#636efa"
           },
           "mode": "markers",
           "name": "kmeans",
           "showlegend": true,
           "subplot": "mapbox",
           "type": "scattermapbox"
          },
          {
           "hovertemplate": "algorithm=dbscan<br>Day_of_Week_and_Hour=Friday_20_hrs<br>Lat=%{lat}<br>Lon=%{lon}<extra></extra>",
           "lat": [
            40.72813,
            40.757,
            40.707366666666665,
            40.72403333333333,
            40.7323,
            40.76853333333333,
            40.7187,
            40.7607
           ],
           "legendgroup": "dbscan",
           "lon": [
            -74.00309,
            -73.97183333333334,
            -74.01606666666667,
            -73.98443333333334,
            -74.00373333333333,
            -73.98556666666667,
            -73.99929999999999,
            -73.98014
           ],
           "marker": {
            "color": "#EF553B"
           },
           "mode": "markers",
           "name": "dbscan",
           "showlegend": true,
           "subplot": "mapbox",
           "type": "scattermapbox"
          }
         ],
         "name": "Friday_20_hrs"
        },
        {
         "data": [
          {
           "hovertemplate": "algorithm=kmeans<br>Day_of_Week_and_Hour=Friday_21_hrs<br>Lat=%{lat}<br>Lon=%{lon}<extra></extra>",
           "lat": [
            40.74905,
            40.68185,
            40.64536666666667,
            40.716566666666665,
            40.77345,
            40.74212222222222,
            40.7088,
            40.74468333333333,
            40.7599,
            40.718,
            40.76024615384616,
            40.72493333333333,
            40.77128,
            40.7831,
            40.72913846153846,
            40.7527,
            40.67545,
            40.7437,
            40.73554545454545
           ],
           "legendgroup": "kmeans",
           "lon": [
            -73.97647500000001,
            -73.97565,
            -73.78056666666667,
            -73.99346666666666,
            -73.9615,
            -73.98936666666665,
            -74.009,
            -74.00620833333333,
            -73.97518,
            -74.00909999999999,
            -73.98663076923077,
            -73.99936666666666,
            -73.9844,
            -73.95025,
            -73.98866153846153,
            -73.9924,
            -73.96799999999999,
            -73.9464,
            -74.00108181818182
           ],
           "marker": {
            "color": "#636efa"
           },
           "mode": "markers",
           "name": "kmeans",
           "showlegend": true,
           "subplot": "mapbox",
           "type": "scattermapbox"
          },
          {
           "hovertemplate": "algorithm=dbscan<br>Day_of_Week_and_Hour=Friday_21_hrs<br>Lat=%{lat}<br>Lon=%{lon}<extra></extra>",
           "lat": [
            40.73006470588236,
            40.7616375,
            40.77896666666666,
            40.756033333333335,
            40.73488,
            40.722925,
            40.761175,
            40.7298,
            40.75976666666666,
            40.717533333333336
           ],
           "legendgroup": "dbscan",
           "lon": [
            -73.99670588235294,
            -73.9839625,
            -73.95049999999999,
            -73.9815,
            -73.99298,
            -73.99119999999999,
            -73.984,
            -73.99599444444443,
            -73.97634444444445,
            -73.96316666666667
           ],
           "marker": {
            "color": "#EF553B"
           },
           "mode": "markers",
           "name": "dbscan",
           "showlegend": true,
           "subplot": "mapbox",
           "type": "scattermapbox"
          }
         ],
         "name": "Friday_21_hrs"
        },
        {
         "data": [
          {
           "hovertemplate": "algorithm=kmeans<br>Day_of_Week_and_Hour=Friday_22_hrs<br>Lat=%{lat}<br>Lon=%{lon}<extra></extra>",
           "lat": [
            40.75265,
            40.6882,
            40.64755,
            40.722366666666666,
            40.77474,
            40.74040909090909,
            40.7178,
            40.790000000000006,
            40.70525,
            40.74506,
            40.75923333333333,
            40.718,
            40.75706666666667,
            40.72658333333333,
            40.7722,
            40.6877,
            40.71525,
            40.76535,
            40.7289,
            40.7494,
            40.7345
           ],
           "legendgroup": "kmeans",
           "lon": [
            -73.9795,
            -73.96866666666666,
            -73.7863,
            -73.99326666666667,
            -73.95848,
            -73.98862727272727,
            -73.960425,
            -73.9727,
            -74.01384999999999,
            -74.0053,
            -73.97218333333333,
            -74.00875,
            -73.98503333333333,
            -73.99978333333333,
            -73.98625,
            -73.9868,
            -73.95044999999999,
            -73.95845,
            -73.98878888888889,
            -73.988625,
            -74.00225833333333
           ],
           "marker": {
            "color": "#636efa"
           },
           "mode": "markers",
           "name": "kmeans",
           "showlegend": true,
           "subplot": "mapbox",
           "type": "scattermapbox"
          },
          {
           "hovertemplate": "algorithm=dbscan<br>Day_of_Week_and_Hour=Friday_22_hrs<br>Lat=%{lat}<br>Lon=%{lon}<extra></extra>",
           "lat": [
            40.74471666666667,
            40.7268,
            40.760375,
            40.727025,
            40.7489,
            40.7414,
            40.74923333333333,
            40.72775,
            40.761225,
            40.76923333333333,
            40.7363380952381,
            40.755766666666666
           ],
           "legendgroup": "dbscan",
           "lon": [
            -73.98270000000001,
            -74.00298181818182,
            -73.985825,
            -73.98792499999999,
            -73.98206666666667,
            -74.00393333333334,
            -73.99363333333334,
            -73.992875,
            -73.973075,
            -73.9889,
            -73.99472857142857,
            -73.96589999999999
           ],
           "marker": {
            "color": "#EF553B"
           },
           "mode": "markers",
           "name": "dbscan",
           "showlegend": true,
           "subplot": "mapbox",
           "type": "scattermapbox"
          }
         ],
         "name": "Friday_22_hrs"
        },
        {
         "data": [
          {
           "hovertemplate": "algorithm=kmeans<br>Day_of_Week_and_Hour=Friday_23_hrs<br>Lat=%{lat}<br>Lon=%{lon}<extra></extra>",
           "lat": [
            40.75223333333333,
            40.6452,
            40.72075,
            40.74174285714286,
            40.67595,
            40.723533333333336,
            40.7878,
            40.74288333333333,
            40.76172,
            40.7189,
            40.763,
            40.7239,
            40.8047,
            40.6528,
            40.7284,
            40.7521,
            40.733864705882354,
            40.70255
           ],
           "legendgroup": "kmeans",
           "lon": [
            -73.97523333333334,
            -73.781825,
            -73.9897,
            -73.9899,
            -73.9332,
            -73.95353333333333,
            -73.97515000000001,
            -74.004025,
            -73.97282,
            -74.0096,
            -73.9866,
            -74.00093,
            -73.96715,
            -73.83805,
            -73.98463333333333,
            -73.9957,
            -74.00429411764706,
            -73.91155
           ],
           "marker": {
            "color": "#636efa"
           },
           "mode": "markers",
           "name": "kmeans",
           "showlegend": true,
           "subplot": "mapbox",
           "type": "scattermapbox"
          },
          {
           "hovertemplate": "algorithm=dbscan<br>Day_of_Week_and_Hour=Friday_23_hrs<br>Lat=%{lat}<br>Lon=%{lon}<extra></extra>",
           "lat": [
            40.72761428571429,
            40.743833333333335,
            40.732533333333336,
            40.7242,
            40.72606666666667,
            40.734126315789474,
            40.761575,
            40.7269
           ],
           "legendgroup": "dbscan",
           "lon": [
            -73.9882,
            -73.99751666666667,
            -74.0027,
            -73.99726666666668,
            -73.98473333333334,
            -73.99638421052632,
            -73.974575,
            -73.95304999999999
           ],
           "marker": {
            "color": "#EF553B"
           },
           "mode": "markers",
           "name": "dbscan",
           "showlegend": true,
           "subplot": "mapbox",
           "type": "scattermapbox"
          }
         ],
         "name": "Friday_23_hrs"
        },
        {
         "data": [
          {
           "hovertemplate": "algorithm=kmeans<br>Day_of_Week_and_Hour=Friday_3_hrs<br>Lat=%{lat}<br>Lon=%{lon}<extra></extra>",
           "lat": [
            40.74025,
            40.6412
           ],
           "legendgroup": "kmeans",
           "lon": [
            -73.98984999999999,
            -73.9738
           ],
           "marker": {
            "color": "#636efa"
           },
           "mode": "markers",
           "name": "kmeans",
           "showlegend": true,
           "subplot": "mapbox",
           "type": "scattermapbox"
          }
         ],
         "name": "Friday_3_hrs"
        },
        {
         "data": [
          {
           "hovertemplate": "algorithm=kmeans<br>Day_of_Week_and_Hour=Friday_4_hrs<br>Lat=%{lat}<br>Lon=%{lon}<extra></extra>",
           "lat": [
            40.7083,
            40.67035,
            40.73763333333333
           ],
           "legendgroup": "kmeans",
           "lon": [
            -74.00803333333333,
            -73.9696,
            -74.00176666666667
           ],
           "marker": {
            "color": "#636efa"
           },
           "mode": "markers",
           "name": "kmeans",
           "showlegend": true,
           "subplot": "mapbox",
           "type": "scattermapbox"
          }
         ],
         "name": "Friday_4_hrs"
        },
        {
         "data": [
          {
           "hovertemplate": "algorithm=kmeans<br>Day_of_Week_and_Hour=Friday_5_hrs<br>Lat=%{lat}<br>Lon=%{lon}<extra></extra>",
           "lat": [
            40.687,
            40.72016666666666,
            40.786475,
            40.707225,
            40.74585,
            40.760266666666666,
            40.75813333333333
           ],
           "legendgroup": "kmeans",
           "lon": [
            -73.97655,
            -73.98966666666666,
            -73.973725,
            -74.00865,
            -74.005,
            -73.97216666666667,
            -73.98986666666667
           ],
           "marker": {
            "color": "#636efa"
           },
           "mode": "markers",
           "name": "kmeans",
           "showlegend": true,
           "subplot": "mapbox",
           "type": "scattermapbox"
          },
          {
           "hovertemplate": "algorithm=dbscan<br>Day_of_Week_and_Hour=Friday_5_hrs<br>Lat=%{lat}<br>Lon=%{lon}<extra></extra>",
           "lat": [
            40.73806666666667
           ],
           "legendgroup": "dbscan",
           "lon": [
            -74.00123333333333
           ],
           "marker": {
            "color": "#EF553B"
           },
           "mode": "markers",
           "name": "dbscan",
           "showlegend": true,
           "subplot": "mapbox",
           "type": "scattermapbox"
          }
         ],
         "name": "Friday_5_hrs"
        },
        {
         "data": [
          {
           "hovertemplate": "algorithm=kmeans<br>Day_of_Week_and_Hour=Friday_6_hrs<br>Lat=%{lat}<br>Lon=%{lon}<extra></extra>",
           "lat": [
            40.72045,
            40.77483333333333,
            40.74075,
            40.7837,
            40.7191,
            40.6868,
            40.77516666666667,
            40.73192,
            40.73336666666666
           ],
           "legendgroup": "kmeans",
           "lon": [
            -73.99189999999999,
            -73.95713333333333,
            -73.99289999999999,
            -73.97761666666666,
            -74.0072,
            -73.99265,
            -73.94656666666667,
            -73.98328000000001,
            -74.0016
           ],
           "marker": {
            "color": "#636efa"
           },
           "mode": "markers",
           "name": "kmeans",
           "showlegend": true,
           "subplot": "mapbox",
           "type": "scattermapbox"
          },
          {
           "hovertemplate": "algorithm=dbscan<br>Day_of_Week_and_Hour=Friday_6_hrs<br>Lat=%{lat}<br>Lon=%{lon}<extra></extra>",
           "lat": [
            40.7408,
            40.77356666666667
           ],
           "legendgroup": "dbscan",
           "lon": [
            -73.99426666666666,
            -73.98283333333333
           ],
           "marker": {
            "color": "#EF553B"
           },
           "mode": "markers",
           "name": "dbscan",
           "showlegend": true,
           "subplot": "mapbox",
           "type": "scattermapbox"
          }
         ],
         "name": "Friday_6_hrs"
        },
        {
         "data": [
          {
           "hovertemplate": "algorithm=kmeans<br>Day_of_Week_and_Hour=Friday_7_hrs<br>Lat=%{lat}<br>Lon=%{lon}<extra></extra>",
           "lat": [
            40.7234,
            40.76983333333333,
            40.7396,
            40.719566666666665,
            40.786225,
            40.7452,
            40.76495,
            40.6706,
            40.761066666666665,
            40.725,
            40.7713,
            40.73025,
            40.76565,
            40.77832,
            40.73003333333333,
            40.7359
           ],
           "legendgroup": "kmeans",
           "lon": [
            -73.98967999999999,
            -73.9545,
            -73.98352,
            -73.96066666666667,
            -73.978175,
            -74.00195,
            -73.9784,
            -73.99119999999999,
            -73.99776666666666,
            -74.00082499999999,
            -73.98016666666666,
            -74.05515,
            -73.96260000000001,
            -73.95164,
            -73.98224444444445,
            -74.0014
           ],
           "marker": {
            "color": "#636efa"
           },
           "mode": "markers",
           "name": "kmeans",
           "showlegend": true,
           "subplot": "mapbox",
           "type": "scattermapbox"
          },
          {
           "hovertemplate": "algorithm=dbscan<br>Day_of_Week_and_Hour=Friday_7_hrs<br>Lat=%{lat}<br>Lon=%{lon}<extra></extra>",
           "lat": [
            40.77858333333334,
            40.76643333333333,
            40.73016666666667,
            40.76975,
            40.7294,
            40.74263333333334,
            40.77734
           ],
           "legendgroup": "dbscan",
           "lon": [
            -73.9552,
            -73.97786666666667,
            -73.99646666666666,
            -73.964925,
            -73.98396666666667,
            -73.99536666666667,
            -73.9556
           ],
           "marker": {
            "color": "#EF553B"
           },
           "mode": "markers",
           "name": "dbscan",
           "showlegend": true,
           "subplot": "mapbox",
           "type": "scattermapbox"
          }
         ],
         "name": "Friday_7_hrs"
        },
        {
         "data": [
          {
           "hovertemplate": "algorithm=kmeans<br>Day_of_Week_and_Hour=Friday_8_hrs<br>Lat=%{lat}<br>Lon=%{lon}<extra></extra>",
           "lat": [
            40.75385,
            40.7188,
            40.73986666666666,
            40.78793,
            40.7459,
            40.72566,
            40.7724,
            40.72947142857144,
            40.737225
           ],
           "legendgroup": "kmeans",
           "lon": [
            -73.98145,
            -73.98566666666666,
            -73.98921666666666,
            -73.97493,
            -74.001775,
            -74.00066,
            -73.9825,
            -73.9846,
            -74.001125
           ],
           "marker": {
            "color": "#636efa"
           },
           "mode": "markers",
           "name": "kmeans",
           "showlegend": true,
           "subplot": "mapbox",
           "type": "scattermapbox"
          },
          {
           "hovertemplate": "algorithm=dbscan<br>Day_of_Week_and_Hour=Friday_8_hrs<br>Lat=%{lat}<br>Lon=%{lon}<extra></extra>",
           "lat": [
            40.76793333333333,
            40.76583333333333,
            40.710566666666665,
            40.7295,
            40.77444,
            40.7252
           ],
           "legendgroup": "dbscan",
           "lon": [
            -73.9652,
            -73.99063333333334,
            -74.00563333333334,
            -73.982775,
            -73.95613999999999,
            -73.98396666666667
           ],
           "marker": {
            "color": "#EF553B"
           },
           "mode": "markers",
           "name": "dbscan",
           "showlegend": true,
           "subplot": "mapbox",
           "type": "scattermapbox"
          }
         ],
         "name": "Friday_8_hrs"
        },
        {
         "data": [
          {
           "hovertemplate": "algorithm=kmeans<br>Day_of_Week_and_Hour=Friday_9_hrs<br>Lat=%{lat}<br>Lon=%{lon}<extra></extra>",
           "lat": [
            40.75133333333333,
            40.723,
            40.75913333333333,
            40.7161,
            40.760525,
            40.72418,
            40.68575,
            40.7673,
            40.728,
            40.73325
           ],
           "legendgroup": "kmeans",
           "lon": [
            -73.97879999999999,
            -73.98880000000001,
            -73.9751,
            -74.0093,
            -73.98734999999999,
            -73.99884,
            -73.98405,
            -73.95994999999999,
            -73.98974999999999,
            -74.00545
           ],
           "marker": {
            "color": "#636efa"
           },
           "mode": "markers",
           "name": "kmeans",
           "showlegend": true,
           "subplot": "mapbox",
           "type": "scattermapbox"
          },
          {
           "hovertemplate": "algorithm=dbscan<br>Day_of_Week_and_Hour=Friday_9_hrs<br>Lat=%{lat}<br>Lon=%{lon}<extra></extra>",
           "lat": [
            40.72946666666667,
            40.75884,
            40.72326666666667
           ],
           "legendgroup": "dbscan",
           "lon": [
            -74.0056,
            -73.9674,
            -73.98546666666667
           ],
           "marker": {
            "color": "#EF553B"
           },
           "mode": "markers",
           "name": "dbscan",
           "showlegend": true,
           "subplot": "mapbox",
           "type": "scattermapbox"
          }
         ],
         "name": "Friday_9_hrs"
        },
        {
         "data": [
          {
           "hovertemplate": "algorithm=kmeans<br>Day_of_Week_and_Hour=Monday_0_hrs<br>Lat=%{lat}<br>Lon=%{lon}<extra></extra>",
           "lat": [
            40.7271
           ],
           "legendgroup": "kmeans",
           "lon": [
            -73.9862
           ],
           "marker": {
            "color": "#636efa"
           },
           "mode": "markers",
           "name": "kmeans",
           "showlegend": true,
           "subplot": "mapbox",
           "type": "scattermapbox"
          }
         ],
         "name": "Monday_0_hrs"
        },
        {
         "data": [
          {
           "hovertemplate": "algorithm=kmeans<br>Day_of_Week_and_Hour=Monday_10_hrs<br>Lat=%{lat}<br>Lon=%{lon}<extra></extra>",
           "lat": [
            40.64665,
            40.7711,
            40.774033333333335,
            40.74055,
            40.744,
            40.76275,
            40.72415,
            40.77263333333334,
            40.73495
           ],
           "legendgroup": "kmeans",
           "lon": [
            -73.7789,
            -73.867825,
            -73.96203333333334,
            -73.98495,
            -74.004975,
            -73.9739,
            -73.99860000000001,
            -73.98193333333333,
            -74.0038
           ],
           "marker": {
            "color": "#636efa"
           },
           "mode": "markers",
           "name": "kmeans",
           "showlegend": true,
           "subplot": "mapbox",
           "type": "scattermapbox"
          },
          {
           "hovertemplate": "algorithm=dbscan<br>Day_of_Week_and_Hour=Monday_10_hrs<br>Lat=%{lat}<br>Lon=%{lon}<extra></extra>",
           "lat": [
            40.75538
           ],
           "legendgroup": "dbscan",
           "lon": [
            -73.97648000000001
           ],
           "marker": {
            "color": "#EF553B"
           },
           "mode": "markers",
           "name": "dbscan",
           "showlegend": true,
           "subplot": "mapbox",
           "type": "scattermapbox"
          }
         ],
         "name": "Monday_10_hrs"
        },
        {
         "data": [
          {
           "hovertemplate": "algorithm=kmeans<br>Day_of_Week_and_Hour=Monday_11_hrs<br>Lat=%{lat}<br>Lon=%{lon}<extra></extra>",
           "lat": [
            40.75046,
            40.77055,
            40.74245,
            40.70835,
            40.7593,
            40.7215,
            40.692400000000006,
            40.7501,
            40.67185
           ],
           "legendgroup": "kmeans",
           "lon": [
            -73.97655999999999,
            -73.9605,
            -73.99260000000001,
            -74.0139,
            -73.9722,
            -74.00049999999999,
            -73.9896,
            -73.99043333333333,
            -73.96555000000001
           ],
           "marker": {
            "color": "#636efa"
           },
           "mode": "markers",
           "name": "kmeans",
           "showlegend": true,
           "subplot": "mapbox",
           "type": "scattermapbox"
          },
          {
           "hovertemplate": "algorithm=dbscan<br>Day_of_Week_and_Hour=Monday_11_hrs<br>Lat=%{lat}<br>Lon=%{lon}<extra></extra>",
           "lat": [
            40.7537
           ],
           "legendgroup": "dbscan",
           "lon": [
            -73.98103333333334
           ],
           "marker": {
            "color": "#EF553B"
           },
           "mode": "markers",
           "name": "dbscan",
           "showlegend": true,
           "subplot": "mapbox",
           "type": "scattermapbox"
          }
         ],
         "name": "Monday_11_hrs"
        },
        {
         "data": [
          {
           "hovertemplate": "algorithm=kmeans<br>Day_of_Week_and_Hour=Monday_12_hrs<br>Lat=%{lat}<br>Lon=%{lon}<extra></extra>",
           "lat": [
            40.751866666666665,
            40.77275,
            40.76835,
            40.7838,
            40.75935,
            40.7208,
            40.75918,
            40.75115,
            40.7377,
            40.7004
           ],
           "legendgroup": "kmeans",
           "lon": [
            -73.9775,
            -73.869975,
            -73.95765,
            -73.9761,
            -73.97805,
            -74.01079999999999,
            -73.98936,
            -73.99065,
            -73.9998,
            -73.91675000000001
           ],
           "marker": {
            "color": "#636efa"
           },
           "mode": "markers",
           "name": "kmeans",
           "showlegend": true,
           "subplot": "mapbox",
           "type": "scattermapbox"
          },
          {
           "hovertemplate": "algorithm=dbscan<br>Day_of_Week_and_Hour=Monday_12_hrs<br>Lat=%{lat}<br>Lon=%{lon}<extra></extra>",
           "lat": [
            40.74693333333334
           ],
           "legendgroup": "dbscan",
           "lon": [
            -73.98440000000001
           ],
           "marker": {
            "color": "#EF553B"
           },
           "mode": "markers",
           "name": "dbscan",
           "showlegend": true,
           "subplot": "mapbox",
           "type": "scattermapbox"
          }
         ],
         "name": "Monday_12_hrs"
        },
        {
         "data": [
          {
           "hovertemplate": "algorithm=kmeans<br>Day_of_Week_and_Hour=Monday_13_hrs<br>Lat=%{lat}<br>Lon=%{lon}<extra></extra>",
           "lat": [
            40.74953333333334,
            40.71825,
            40.74145,
            40.70455,
            40.76096666666667,
            40.77205,
            40.76345,
            40.781475,
            40.72745,
            40.73535
           ],
           "legendgroup": "kmeans",
           "lon": [
            -73.97553333333333,
            -73.99205,
            -73.991,
            -74.01150000000001,
            -73.97403333333334,
            -73.98525000000001,
            -73.96940000000001,
            -73.9514,
            -73.98375,
            -74.00434999999999
           ],
           "marker": {
            "color": "#636efa"
           },
           "mode": "markers",
           "name": "kmeans",
           "showlegend": true,
           "subplot": "mapbox",
           "type": "scattermapbox"
          },
          {
           "hovertemplate": "algorithm=dbscan<br>Day_of_Week_and_Hour=Monday_13_hrs<br>Lat=%{lat}<br>Lon=%{lon}<extra></extra>",
           "lat": [
            40.72285
           ],
           "legendgroup": "dbscan",
           "lon": [
            -73.996825
           ],
           "marker": {
            "color": "#EF553B"
           },
           "mode": "markers",
           "name": "dbscan",
           "showlegend": true,
           "subplot": "mapbox",
           "type": "scattermapbox"
          }
         ],
         "name": "Monday_13_hrs"
        },
        {
         "data": [
          {
           "hovertemplate": "algorithm=kmeans<br>Day_of_Week_and_Hour=Monday_14_hrs<br>Lat=%{lat}<br>Lon=%{lon}<extra></extra>",
           "lat": [
            40.75335,
            40.6456,
            40.7739,
            40.77386666666666,
            40.74095,
            40.784675,
            40.7094,
            40.83395,
            40.76033333333333,
            40.76233333333334,
            40.72872,
            40.75153333333333
           ],
           "legendgroup": "kmeans",
           "lon": [
            -73.97954999999999,
            -73.78635,
            -73.87209999999999,
            -73.95886666666667,
            -73.99185,
            -73.9774,
            -74.00895,
            -73.9305,
            -73.97552222222222,
            -73.96303333333333,
            -73.98648,
            -73.98986666666666
           ],
           "marker": {
            "color": "#636efa"
           },
           "mode": "markers",
           "name": "kmeans",
           "showlegend": true,
           "subplot": "mapbox",
           "type": "scattermapbox"
          },
          {
           "hovertemplate": "algorithm=dbscan<br>Day_of_Week_and_Hour=Monday_14_hrs<br>Lat=%{lat}<br>Lon=%{lon}<extra></extra>",
           "lat": [
            40.72446666666667,
            40.74803333333333,
            40.77243333333333,
            40.723733333333335,
            40.7544,
            40.644075
           ],
           "legendgroup": "dbscan",
           "lon": [
            -73.99536666666667,
            -73.99193333333334,
            -73.96336666666666,
            -73.9993,
            -73.98049999999999,
            -73.783575
           ],
           "marker": {
            "color": "#EF553B"
           },
           "mode": "markers",
           "name": "dbscan",
           "showlegend": true,
           "subplot": "mapbox",
           "type": "scattermapbox"
          }
         ],
         "name": "Monday_14_hrs"
        },
        {
         "data": [
          {
           "hovertemplate": "algorithm=kmeans<br>Day_of_Week_and_Hour=Monday_15_hrs<br>Lat=%{lat}<br>Lon=%{lon}<extra></extra>",
           "lat": [
            40.75143333333333,
            40.644975,
            40.77105,
            40.74196666666666,
            40.6908,
            40.7849,
            40.7098,
            40.74893333333333,
            40.76061428571428,
            40.717666666666666,
            40.75873333333333,
            40.7241,
            40.76315,
            40.78075,
            40.73023333333333,
            40.7,
            40.754450000000006,
            40.7347
           ],
           "legendgroup": "kmeans",
           "lon": [
            -73.98033333333333,
            -73.7809,
            -73.86715000000001,
            -73.98775,
            -73.9271,
            -73.97063333333334,
            -74.012225,
            -74.00666666666667,
            -73.97598571428571,
            -74.01056666666666,
            -73.9867,
            -74.00312,
            -73.96875,
            -73.955,
            -73.98283333333333,
            -73.9764,
            -73.99289999999999,
            -74.00386666666667
           ],
           "marker": {
            "color": "#636efa"
           },
           "mode": "markers",
           "name": "kmeans",
           "showlegend": true,
           "subplot": "mapbox",
           "type": "scattermapbox"
          },
          {
           "hovertemplate": "algorithm=dbscan<br>Day_of_Week_and_Hour=Monday_15_hrs<br>Lat=%{lat}<br>Lon=%{lon}<extra></extra>",
           "lat": [
            40.750455555555554,
            40.7208,
            40.763200000000005,
            40.736125,
            40.74563333333333
           ],
           "legendgroup": "dbscan",
           "lon": [
            -73.98124444444446,
            -73.9961,
            -73.97743333333334,
            -73.99315,
            -73.99866666666667
           ],
           "marker": {
            "color": "#EF553B"
           },
           "mode": "markers",
           "name": "dbscan",
           "showlegend": true,
           "subplot": "mapbox",
           "type": "scattermapbox"
          }
         ],
         "name": "Monday_15_hrs"
        },
        {
         "data": [
          {
           "hovertemplate": "algorithm=kmeans<br>Day_of_Week_and_Hour=Monday_16_hrs<br>Lat=%{lat}<br>Lon=%{lon}<extra></extra>",
           "lat": [
            40.691500000000005,
            40.75354166666667,
            40.721725,
            40.77015,
            40.7405,
            40.7169,
            40.74863333333334,
            40.76165,
            40.72126666666667,
            40.75885,
            40.72385,
            40.77374,
            40.765,
            40.77995,
            40.857600000000005,
            40.752475,
            40.734025
           ],
           "legendgroup": "kmeans",
           "lon": [
            -74.18095,
            -73.97855,
            -73.992225,
            -73.95636666666667,
            -73.98895999999999,
            -73.95920000000001,
            -74.00540000000001,
            -73.97417,
            -74.00863333333334,
            -73.98781666666666,
            -74,
            -73.98504,
            -73.96624,
            -73.954025,
            -73.95070000000001,
            -73.9890375,
            -74.006
           ],
           "marker": {
            "color": "#636efa"
           },
           "mode": "markers",
           "name": "kmeans",
           "showlegend": true,
           "subplot": "mapbox",
           "type": "scattermapbox"
          },
          {
           "hovertemplate": "algorithm=dbscan<br>Day_of_Week_and_Hour=Monday_16_hrs<br>Lat=%{lat}<br>Lon=%{lon}<extra></extra>",
           "lat": [
            40.72468333333333,
            40.754207692307695,
            40.73548,
            40.73942,
            40.74870625,
            40.75326666666667,
            40.758775
           ],
           "legendgroup": "dbscan",
           "lon": [
            -74.00116666666666,
            -73.98176153846154,
            -73.98804,
            -73.98718,
            -73.98664375,
            -73.97776666666665,
            -73.9907
           ],
           "marker": {
            "color": "#EF553B"
           },
           "mode": "markers",
           "name": "dbscan",
           "showlegend": true,
           "subplot": "mapbox",
           "type": "scattermapbox"
          }
         ],
         "name": "Monday_16_hrs"
        },
        {
         "data": [
          {
           "hovertemplate": "algorithm=kmeans<br>Day_of_Week_and_Hour=Monday_17_hrs<br>Lat=%{lat}<br>Lon=%{lon}<extra></extra>",
           "lat": [
            40.75159411764706,
            40.64415,
            40.7745,
            40.74215,
            40.72286666666667,
            40.70744,
            40.74356,
            40.7599,
            40.7161,
            40.75926,
            40.72521666666667,
            40.76287142857143,
            40.7767,
            40.72795,
            40.754,
            40.7351
           ],
           "legendgroup": "kmeans",
           "lon": [
            -73.97771764705882,
            -73.7826,
            -73.95813333333334,
            -73.98712142857143,
            -73.95736666666666,
            -74.00868,
            -74.00266,
            -73.97375833333334,
            -74.01022857142857,
            -73.98356,
            -74.00188333333334,
            -73.96261428571428,
            -73.951,
            -73.99225,
            -73.99256666666666,
            -73.99980000000001
           ],
           "marker": {
            "color": "#636efa"
           },
           "mode": "markers",
           "name": "kmeans",
           "showlegend": true,
           "subplot": "mapbox",
           "type": "scattermapbox"
          },
          {
           "hovertemplate": "algorithm=dbscan<br>Day_of_Week_and_Hour=Monday_17_hrs<br>Lat=%{lat}<br>Lon=%{lon}<extra></extra>",
           "lat": [
            40.757,
            40.73272727272728,
            40.75563333333333,
            40.722,
            40.76801666666667,
            40.753150000000005,
            40.73483333333333,
            40.76164,
            40.7517125,
            40.77016666666666
           ],
           "legendgroup": "dbscan",
           "lon": [
            -73.97641250000001,
            -73.99415454545455,
            -73.97781666666667,
            -74.00462,
            -73.96821666666666,
            -73.984275,
            -73.98476666666666,
            -73.97713999999999,
            -73.994625,
            -73.9558
           ],
           "marker": {
            "color": "#EF553B"
           },
           "mode": "markers",
           "name": "dbscan",
           "showlegend": true,
           "subplot": "mapbox",
           "type": "scattermapbox"
          }
         ],
         "name": "Monday_17_hrs"
        },
        {
         "data": [
          {
           "hovertemplate": "algorithm=kmeans<br>Day_of_Week_and_Hour=Monday_18_hrs<br>Lat=%{lat}<br>Lon=%{lon}<extra></extra>",
           "lat": [
            40.75155384615385,
            40.6467,
            40.7394,
            40.7149,
            40.75946,
            40.717357142857146,
            40.76219999999999,
            40.72465,
            40.72936666666666,
            40.75375,
            40.733925
           ],
           "legendgroup": "kmeans",
           "lon": [
            -73.97813846153846,
            -73.7901,
            -73.99003333333333,
            -73.95985,
            -73.97509,
            -74.00785714285713,
            -73.98245999999999,
            -74.003,
            -73.99026666666667,
            -73.9926,
            -73.9982
           ],
           "marker": {
            "color": "#636efa"
           },
           "mode": "markers",
           "name": "kmeans",
           "showlegend": true,
           "subplot": "mapbox",
           "type": "scattermapbox"
          },
          {
           "hovertemplate": "algorithm=dbscan<br>Day_of_Week_and_Hour=Monday_18_hrs<br>Lat=%{lat}<br>Lon=%{lon}<extra></extra>",
           "lat": [
            40.75534444444444,
            40.72138,
            40.70413333333334,
            40.76126666666666,
            40.739266666666666,
            40.75916
           ],
           "legendgroup": "dbscan",
           "lon": [
            -73.97932777777777,
            -73.99782,
            -74.0099,
            -73.97153333333334,
            -73.9845,
            -73.97576000000001
           ],
           "marker": {
            "color": "#EF553B"
           },
           "mode": "markers",
           "name": "dbscan",
           "showlegend": true,
           "subplot": "mapbox",
           "type": "scattermapbox"
          }
         ],
         "name": "Monday_18_hrs"
        },
        {
         "data": [
          {
           "hovertemplate": "algorithm=kmeans<br>Day_of_Week_and_Hour=Monday_19_hrs<br>Lat=%{lat}<br>Lon=%{lon}<extra></extra>",
           "lat": [
            40.75346,
            40.6467,
            40.7436,
            40.7059,
            40.74556,
            40.762,
            40.76158,
            40.71975,
            40.757175,
            40.725566666666666,
            40.76125,
            40.72965,
            40.7509
           ],
           "legendgroup": "kmeans",
           "lon": [
            -73.97764,
            -73.78486666666667,
            -73.99004,
            -74.00873333333334,
            -74.00602,
            -73.9253,
            -73.97426,
            -74.00569999999999,
            -73.98595,
            -74.0049,
            -73.9637,
            -73.986875,
            -73.9897
           ],
           "marker": {
            "color": "#636efa"
           },
           "mode": "markers",
           "name": "kmeans",
           "showlegend": true,
           "subplot": "mapbox",
           "type": "scattermapbox"
          },
          {
           "hovertemplate": "algorithm=dbscan<br>Day_of_Week_and_Hour=Monday_19_hrs<br>Lat=%{lat}<br>Lon=%{lon}<extra></extra>",
           "lat": [
            40.756375000000006,
            40.72431818181818,
            40.7627,
            40.7516,
            40.75106666666667,
            40.725033333333336,
            40.76076666666666
           ],
           "legendgroup": "dbscan",
           "lon": [
            -73.978325,
            -74.00209090909091,
            -73.97793333333333,
            -73.98003333333332,
            -73.98883333333333,
            -74.00696666666666,
            -73.97353333333334
           ],
           "marker": {
            "color": "#EF553B"
           },
           "mode": "markers",
           "name": "dbscan",
           "showlegend": true,
           "subplot": "mapbox",
           "type": "scattermapbox"
          }
         ],
         "name": "Monday_19_hrs"
        },
        {
         "data": [
          {
           "hovertemplate": "algorithm=kmeans<br>Day_of_Week_and_Hour=Monday_20_hrs<br>Lat=%{lat}<br>Lon=%{lon}<extra></extra>",
           "lat": [
            40.75285,
            40.68805,
            40.77145,
            40.7382,
            40.7423,
            40.758985714285714,
            40.71785,
            40.75814,
            40.724425,
            40.80935,
            40.7299,
            40.73538333333334
           ],
           "legendgroup": "kmeans",
           "lon": [
            -73.97370000000001,
            -73.96885,
            -73.9584,
            -73.9863,
            -74.00595,
            -73.97414285714285,
            -74.00880000000001,
            -73.98678,
            -74.0016,
            -73.9639,
            -73.98696666666666,
            -74.00221666666667
           ],
           "marker": {
            "color": "#636efa"
           },
           "mode": "markers",
           "name": "kmeans",
           "showlegend": true,
           "subplot": "mapbox",
           "type": "scattermapbox"
          },
          {
           "hovertemplate": "algorithm=dbscan<br>Day_of_Week_and_Hour=Monday_20_hrs<br>Lat=%{lat}<br>Lon=%{lon}<extra></extra>",
           "lat": [
            40.76006,
            40.76176666666667,
            40.75892,
            40.72444,
            40.75033333333334
           ],
           "legendgroup": "dbscan",
           "lon": [
            -73.9803,
            -73.97590000000001,
            -73.97868,
            -73.99178,
            -74.00596666666667
           ],
           "marker": {
            "color": "#EF553B"
           },
           "mode": "markers",
           "name": "dbscan",
           "showlegend": true,
           "subplot": "mapbox",
           "type": "scattermapbox"
          }
         ],
         "name": "Monday_20_hrs"
        },
        {
         "data": [
          {
           "hovertemplate": "algorithm=kmeans<br>Day_of_Week_and_Hour=Monday_21_hrs<br>Lat=%{lat}<br>Lon=%{lon}<extra></extra>",
           "lat": [
            40.7523,
            40.64705,
            40.70693333333333,
            40.74464,
            40.75958333333333,
            40.72663333333333,
            40.76945,
            40.73056666666667,
            40.671
           ],
           "legendgroup": "kmeans",
           "lon": [
            -73.979975,
            -73.7797,
            -74.01116666666667,
            -74.00594,
            -73.97513333333333,
            -73.99766666666666,
            -73.9831,
            -73.98626666666667,
            -73.97345
           ],
           "marker": {
            "color": "#636efa"
           },
           "mode": "markers",
           "name": "kmeans",
           "showlegend": true,
           "subplot": "mapbox",
           "type": "scattermapbox"
          },
          {
           "hovertemplate": "algorithm=dbscan<br>Day_of_Week_and_Hour=Monday_21_hrs<br>Lat=%{lat}<br>Lon=%{lon}<extra></extra>",
           "lat": [
            40.75726
           ],
           "legendgroup": "dbscan",
           "lon": [
            -73.98072666666667
           ],
           "marker": {
            "color": "#EF553B"
           },
           "mode": "markers",
           "name": "dbscan",
           "showlegend": true,
           "subplot": "mapbox",
           "type": "scattermapbox"
          }
         ],
         "name": "Monday_21_hrs"
        },
        {
         "data": [
          {
           "hovertemplate": "algorithm=kmeans<br>Day_of_Week_and_Hour=Monday_22_hrs<br>Lat=%{lat}<br>Lon=%{lon}<extra></extra>",
           "lat": [
            40.64715,
            40.72186666666667,
            40.771675,
            40.74403333333333,
            40.7444,
            40.7248,
            40.7269
           ],
           "legendgroup": "kmeans",
           "lon": [
            -73.7799,
            -73.9874,
            -73.867775,
            -73.98783333333334,
            -74.0061,
            -74.00436666666667,
            -73.98535000000001
           ],
           "marker": {
            "color": "#636efa"
           },
           "mode": "markers",
           "name": "kmeans",
           "showlegend": true,
           "subplot": "mapbox",
           "type": "scattermapbox"
          }
         ],
         "name": "Monday_22_hrs"
        },
        {
         "data": [
          {
           "hovertemplate": "algorithm=kmeans<br>Day_of_Week_and_Hour=Monday_23_hrs<br>Lat=%{lat}<br>Lon=%{lon}<extra></extra>",
           "lat": [
            40.77033333333333,
            40.74135,
            40.7277
           ],
           "legendgroup": "kmeans",
           "lon": [
            -73.86593333333333,
            -73.98910000000001,
            -73.9846
           ],
           "marker": {
            "color": "#636efa"
           },
           "mode": "markers",
           "name": "kmeans",
           "showlegend": true,
           "subplot": "mapbox",
           "type": "scattermapbox"
          }
         ],
         "name": "Monday_23_hrs"
        },
        {
         "data": [
          {
           "hovertemplate": "algorithm=kmeans<br>Day_of_Week_and_Hour=Monday_3_hrs<br>Lat=%{lat}<br>Lon=%{lon}<extra></extra>",
           "lat": [
            40.7396,
            40.7444,
            40.79885,
            40.75605
           ],
           "legendgroup": "kmeans",
           "lon": [
            -73.99345,
            -74.00395,
            -73.95885,
            -73.96435
           ],
           "marker": {
            "color": "#636efa"
           },
           "mode": "markers",
           "name": "kmeans",
           "showlegend": true,
           "subplot": "mapbox",
           "type": "scattermapbox"
          }
         ],
         "name": "Monday_3_hrs"
        },
        {
         "data": [
          {
           "hovertemplate": "algorithm=kmeans<br>Day_of_Week_and_Hour=Monday_4_hrs<br>Lat=%{lat}<br>Lon=%{lon}<extra></extra>",
           "lat": [
            40.6461,
            40.6513
           ],
           "legendgroup": "kmeans",
           "lon": [
            -73.78315,
            -73.9508
           ],
           "marker": {
            "color": "#636efa"
           },
           "mode": "markers",
           "name": "kmeans",
           "showlegend": true,
           "subplot": "mapbox",
           "type": "scattermapbox"
          }
         ],
         "name": "Monday_4_hrs"
        },
        {
         "data": [
          {
           "hovertemplate": "algorithm=kmeans<br>Day_of_Week_and_Hour=Monday_5_hrs<br>Lat=%{lat}<br>Lon=%{lon}<extra></extra>",
           "lat": [
            40.64568,
            40.7212,
            40.7829,
            40.72136666666667,
            40.7275,
            40.67415,
            40.734433333333335
           ],
           "legendgroup": "kmeans",
           "lon": [
            -73.7821,
            -73.98715,
            -73.97975,
            -74.00003333333333,
            -73.98273333333333,
            -73.96809999999999,
            -74.00396666666667
           ],
           "marker": {
            "color": "#636efa"
           },
           "mode": "markers",
           "name": "kmeans",
           "showlegend": true,
           "subplot": "mapbox",
           "type": "scattermapbox"
          }
         ],
         "name": "Monday_5_hrs"
        },
        {
         "data": [
          {
           "hovertemplate": "algorithm=kmeans<br>Day_of_Week_and_Hour=Monday_6_hrs<br>Lat=%{lat}<br>Lon=%{lon}<extra></extra>",
           "lat": [
            40.6913,
            40.7472,
            40.68703333333334,
            40.6449,
            40.72163333333334,
            40.7706,
            40.74145,
            40.7118,
            40.78772,
            40.71755,
            40.7619,
            40.7254,
            40.778275,
            40.7997,
            40.77973333333333,
            40.72978333333333,
            40.6702,
            40.73756666666666
           ],
           "legendgroup": "kmeans",
           "lon": [
            -74.1795,
            -73.97985,
            -73.9706,
            -73.7822,
            -73.9874,
            -73.96504999999999,
            -73.98875,
            -73.96076666666666,
            -73.97544,
            -74.01060000000001,
            -73.98615000000001,
            -74.00066666666667,
            -73.98135,
            -73.9525,
            -73.94948333333333,
            -73.98358333333333,
            -73.96955,
            -74.00076666666666
           ],
           "marker": {
            "color": "#636efa"
           },
           "mode": "markers",
           "name": "kmeans",
           "showlegend": true,
           "subplot": "mapbox",
           "type": "scattermapbox"
          },
          {
           "hovertemplate": "algorithm=dbscan<br>Day_of_Week_and_Hour=Monday_6_hrs<br>Lat=%{lat}<br>Lon=%{lon}<extra></extra>",
           "lat": [
            40.72603333333333
           ],
           "legendgroup": "dbscan",
           "lon": [
            -73.98296666666666
           ],
           "marker": {
            "color": "#EF553B"
           },
           "mode": "markers",
           "name": "dbscan",
           "showlegend": true,
           "subplot": "mapbox",
           "type": "scattermapbox"
          }
         ],
         "name": "Monday_6_hrs"
        },
        {
         "data": [
          {
           "hovertemplate": "algorithm=kmeans<br>Day_of_Week_and_Hour=Monday_7_hrs<br>Lat=%{lat}<br>Lon=%{lon}<extra></extra>",
           "lat": [
            40.75035,
            40.719366666666666,
            40.76986,
            40.77203333333333,
            40.741425,
            40.72280000000001,
            40.79045,
            40.75773333333333,
            40.7179,
            40.75993333333333,
            40.723025,
            40.776475,
            40.780225,
            40.72933333333334,
            40.750025,
            40.736325
           ],
           "legendgroup": "kmeans",
           "lon": [
            -73.9721,
            -73.98608333333333,
            -73.86776,
            -73.95956666666666,
            -73.98985,
            -73.96005,
            -73.97575,
            -73.97316666666667,
            -74.00765,
            -73.98996666666666,
            -74.004175,
            -73.97985,
            -73.9476,
            -73.98379999999999,
            -73.9935,
            -74.00370000000001
           ],
           "marker": {
            "color": "#636efa"
           },
           "mode": "markers",
           "name": "kmeans",
           "showlegend": true,
           "subplot": "mapbox",
           "type": "scattermapbox"
          },
          {
           "hovertemplate": "algorithm=dbscan<br>Day_of_Week_and_Hour=Monday_7_hrs<br>Lat=%{lat}<br>Lon=%{lon}<extra></extra>",
           "lat": [
            40.76826666666667,
            40.777325,
            40.749300000000005,
            40.76476666666667
           ],
           "legendgroup": "dbscan",
           "lon": [
            -73.956,
            -73.984775,
            -73.9927,
            -73.96176666666666
           ],
           "marker": {
            "color": "#EF553B"
           },
           "mode": "markers",
           "name": "dbscan",
           "showlegend": true,
           "subplot": "mapbox",
           "type": "scattermapbox"
          }
         ],
         "name": "Monday_7_hrs"
        },
        {
         "data": [
          {
           "hovertemplate": "algorithm=kmeans<br>Day_of_Week_and_Hour=Monday_8_hrs<br>Lat=%{lat}<br>Lon=%{lon}<extra></extra>",
           "lat": [
            40.7217,
            40.77395,
            40.78406666666667,
            40.715975,
            40.77475,
            40.68905,
            40.7656,
            40.7795,
            40.729,
            40.7504,
            40.67285,
            40.734925
           ],
           "legendgroup": "kmeans",
           "lon": [
            -73.988175,
            -73.8721,
            -73.97586666666666,
            -74.008475,
            -73.9809,
            -73.98715,
            -73.96526666666666,
            -73.95355,
            -73.98124999999999,
            -73.9946,
            -73.973,
            -74.001725
           ],
           "marker": {
            "color": "#636efa"
           },
           "mode": "markers",
           "name": "kmeans",
           "showlegend": true,
           "subplot": "mapbox",
           "type": "scattermapbox"
          },
          {
           "hovertemplate": "algorithm=dbscan<br>Day_of_Week_and_Hour=Monday_8_hrs<br>Lat=%{lat}<br>Lon=%{lon}<extra></extra>",
           "lat": [
            40.785833333333336,
            40.74953333333333
           ],
           "legendgroup": "dbscan",
           "lon": [
            -73.9763,
            -73.9928
           ],
           "marker": {
            "color": "#EF553B"
           },
           "mode": "markers",
           "name": "dbscan",
           "showlegend": true,
           "subplot": "mapbox",
           "type": "scattermapbox"
          }
         ],
         "name": "Monday_8_hrs"
        },
        {
         "data": [
          {
           "hovertemplate": "algorithm=kmeans<br>Day_of_Week_and_Hour=Monday_9_hrs<br>Lat=%{lat}<br>Lon=%{lon}<extra></extra>",
           "lat": [
            40.71836666666667,
            40.7707,
            40.72315,
            40.7041,
            40.76245,
            40.7225,
            40.72685,
            40.77643333333333,
            40.692366666666665,
            40.7797,
            40.7276,
            40.7486
           ],
           "legendgroup": "kmeans",
           "lon": [
            -73.9924,
            -73.86619999999999,
            -73.95315,
            -74.0081,
            -73.9735,
            -74.01055,
            -73.99924999999999,
            -73.983,
            -73.99196666666667,
            -73.94735,
            -73.98205,
            -73.99026666666667
           ],
           "marker": {
            "color": "#636efa"
           },
           "mode": "markers",
           "name": "kmeans",
           "showlegend": true,
           "subplot": "mapbox",
           "type": "scattermapbox"
          }
         ],
         "name": "Monday_9_hrs"
        },
        {
         "data": [
          {
           "hovertemplate": "algorithm=kmeans<br>Day_of_Week_and_Hour=Saturday_0_hrs<br>Lat=%{lat}<br>Lon=%{lon}<extra></extra>",
           "lat": [
            40.71962,
            40.77613333333333,
            40.8681,
            40.70635,
            40.74273333333333,
            40.71975,
            40.7236,
            40.72694,
            40.735200000000006
           ],
           "legendgroup": "kmeans",
           "lon": [
            -73.98898,
            -73.95896666666667,
            -73.8865,
            -74.0085,
            -74.00588888888889,
            -74.0068,
            -74.0042,
            -73.98598,
            -74.00415714285714
           ],
           "marker": {
            "color": "#636efa"
           },
           "mode": "markers",
           "name": "kmeans",
           "showlegend": true,
           "subplot": "mapbox",
           "type": "scattermapbox"
          },
          {
           "hovertemplate": "algorithm=dbscan<br>Day_of_Week_and_Hour=Saturday_0_hrs<br>Lat=%{lat}<br>Lon=%{lon}<extra></extra>",
           "lat": [
            40.72385,
            40.7064,
            40.72026666666667,
            40.739125,
            40.7254
           ],
           "legendgroup": "dbscan",
           "lon": [
            -73.9913,
            -74.00946666666667,
            -73.99053333333335,
            -74.00732500000001,
            -73.987275
           ],
           "marker": {
            "color": "#EF553B"
           },
           "mode": "markers",
           "name": "dbscan",
           "showlegend": true,
           "subplot": "mapbox",
           "type": "scattermapbox"
          }
         ],
         "name": "Saturday_0_hrs"
        },
        {
         "data": [
          {
           "hovertemplate": "algorithm=kmeans<br>Day_of_Week_and_Hour=Saturday_10_hrs<br>Lat=%{lat}<br>Lon=%{lon}<extra></extra>",
           "lat": [
            40.7529,
            40.71765,
            40.7723,
            40.745000000000005,
            40.75905,
            40.7259,
            40.69335,
            40.766,
            40.72963333333333,
            40.7052,
            40.7353
           ],
           "legendgroup": "kmeans",
           "lon": [
            -73.9722,
            -73.99575,
            -73.95644999999999,
            -74.0025,
            -73.987,
            -73.99936666666666,
            -73.95779999999999,
            -73.9641,
            -73.98643333333332,
            -73.9883,
            -73.99945
           ],
           "marker": {
            "color": "#636efa"
           },
           "mode": "markers",
           "name": "kmeans",
           "showlegend": true,
           "subplot": "mapbox",
           "type": "scattermapbox"
          },
          {
           "hovertemplate": "algorithm=dbscan<br>Day_of_Week_and_Hour=Saturday_10_hrs<br>Lat=%{lat}<br>Lon=%{lon}<extra></extra>",
           "lat": [
            40.7484
           ],
           "legendgroup": "dbscan",
           "lon": [
            -73.98973333333333
           ],
           "marker": {
            "color": "#EF553B"
           },
           "mode": "markers",
           "name": "dbscan",
           "showlegend": true,
           "subplot": "mapbox",
           "type": "scattermapbox"
          }
         ],
         "name": "Saturday_10_hrs"
        },
        {
         "data": [
          {
           "hovertemplate": "algorithm=kmeans<br>Day_of_Week_and_Hour=Saturday_11_hrs<br>Lat=%{lat}<br>Lon=%{lon}<extra></extra>",
           "lat": [
            40.740525,
            40.7109,
            40.74395,
            40.76105,
            40.678250000000006,
            40.759975,
            40.7752,
            40.78095
           ],
           "legendgroup": "kmeans",
           "lon": [
            -73.98715,
            -74.00614999999999,
            -74.00395,
            -73.97590000000001,
            -73.9975,
            -73.99267499999999,
            -73.9896,
            -73.9512
           ],
           "marker": {
            "color": "#636efa"
           },
           "mode": "markers",
           "name": "kmeans",
           "showlegend": true,
           "subplot": "mapbox",
           "type": "scattermapbox"
          }
         ],
         "name": "Saturday_11_hrs"
        },
        {
         "data": [
          {
           "hovertemplate": "algorithm=kmeans<br>Day_of_Week_and_Hour=Saturday_12_hrs<br>Lat=%{lat}<br>Lon=%{lon}<extra></extra>",
           "lat": [
            40.72083333333333,
            40.77205,
            40.74235,
            40.7453,
            40.67446666666667,
            40.7173,
            40.7606,
            40.7234,
            40.7738,
            40.76286666666667,
            40.7771,
            40.73116666666667,
            40.737750000000005
           ],
           "legendgroup": "kmeans",
           "lon": [
            -73.9903,
            -73.86775,
            -73.98670000000001,
            -74.00736666666667,
            -74.0007,
            -74.004175,
            -73.991,
            -74.00294,
            -73.98576666666666,
            -73.96376666666667,
            -73.95054999999999,
            -73.9874,
            -73.9548
           ],
           "marker": {
            "color": "#636efa"
           },
           "mode": "markers",
           "name": "kmeans",
           "showlegend": true,
           "subplot": "mapbox",
           "type": "scattermapbox"
          },
          {
           "hovertemplate": "algorithm=dbscan<br>Day_of_Week_and_Hour=Saturday_12_hrs<br>Lat=%{lat}<br>Lon=%{lon}<extra></extra>",
           "lat": [
            40.72475
           ],
           "legendgroup": "dbscan",
           "lon": [
            -73.9945
           ],
           "marker": {
            "color": "#EF553B"
           },
           "mode": "markers",
           "name": "dbscan",
           "showlegend": true,
           "subplot": "mapbox",
           "type": "scattermapbox"
          }
         ],
         "name": "Saturday_12_hrs"
        },
        {
         "data": [
          {
           "hovertemplate": "algorithm=kmeans<br>Day_of_Week_and_Hour=Saturday_13_hrs<br>Lat=%{lat}<br>Lon=%{lon}<extra></extra>",
           "lat": [
            40.7239,
            40.77445,
            40.7452,
            40.78834,
            40.7161,
            40.760866666666665,
            40.6844,
            40.7027,
            40.7422
           ],
           "legendgroup": "kmeans",
           "lon": [
            -73.99355,
            -73.95465,
            -73.9834,
            -73.97373999999999,
            -74.00943333333333,
            -73.99106666666667,
            -73.95564999999999,
            -73.98475,
            -73.9547
           ],
           "marker": {
            "color": "#636efa"
           },
           "mode": "markers",
           "name": "kmeans",
           "showlegend": true,
           "subplot": "mapbox",
           "type": "scattermapbox"
          },
          {
           "hovertemplate": "algorithm=dbscan<br>Day_of_Week_and_Hour=Saturday_13_hrs<br>Lat=%{lat}<br>Lon=%{lon}<extra></extra>",
           "lat": [
            40.720425,
            40.7599
           ],
           "legendgroup": "dbscan",
           "lon": [
            -74.002325,
            -73.9684
           ],
           "marker": {
            "color": "#EF553B"
           },
           "mode": "markers",
           "name": "dbscan",
           "showlegend": true,
           "subplot": "mapbox",
           "type": "scattermapbox"
          }
         ],
         "name": "Saturday_13_hrs"
        },
        {
         "data": [
          {
           "hovertemplate": "algorithm=kmeans<br>Day_of_Week_and_Hour=Saturday_14_hrs<br>Lat=%{lat}<br>Lon=%{lon}<extra></extra>",
           "lat": [
            40.7189,
            40.77144,
            40.74036666666667,
            40.7181,
            40.7851,
            40.70864,
            40.67165,
            40.762366666666665,
            40.72245,
            40.80035,
            40.7643,
            40.73415
           ],
           "legendgroup": "kmeans",
           "lon": [
            -73.99629999999999,
            -73.95888,
            -73.9848,
            -73.95823333333334,
            -73.9788,
            -74.01312,
            -73.99555000000001,
            -73.9882,
            -74.001125,
            -73.96325,
            -73.96676666666666,
            -74.00055
           ],
           "marker": {
            "color": "#636efa"
           },
           "mode": "markers",
           "name": "kmeans",
           "showlegend": true,
           "subplot": "mapbox",
           "type": "scattermapbox"
          },
          {
           "hovertemplate": "algorithm=dbscan<br>Day_of_Week_and_Hour=Saturday_14_hrs<br>Lat=%{lat}<br>Lon=%{lon}<extra></extra>",
           "lat": [
            40.7258
           ],
           "legendgroup": "dbscan",
           "lon": [
            -73.99486666666667
           ],
           "marker": {
            "color": "#EF553B"
           },
           "mode": "markers",
           "name": "dbscan",
           "showlegend": true,
           "subplot": "mapbox",
           "type": "scattermapbox"
          }
         ],
         "name": "Saturday_14_hrs"
        },
        {
         "data": [
          {
           "hovertemplate": "algorithm=kmeans<br>Day_of_Week_and_Hour=Saturday_15_hrs<br>Lat=%{lat}<br>Lon=%{lon}<extra></extra>",
           "lat": [
            40.72255,
            40.77248,
            40.74332,
            40.78865,
            40.7437,
            40.8257,
            40.7617,
            40.715575,
            40.7617,
            40.723025,
            40.7393,
            40.80285000000001,
            40.76125,
            40.73057142857142,
            40.734525
           ],
           "legendgroup": "kmeans",
           "lon": [
            -73.98855,
            -73.96074,
            -73.98514,
            -73.9744,
            -74.00410000000001,
            -73.92685,
            -73.97583999999999,
            -74.004425,
            -73.99080000000001,
            -73.99925,
            -74.04915,
            -73.94720000000001,
            -73.96393333333333,
            -73.99018571428572,
            -74.00465
           ],
           "marker": {
            "color": "#636efa"
           },
           "mode": "markers",
           "name": "kmeans",
           "showlegend": true,
           "subplot": "mapbox",
           "type": "scattermapbox"
          },
          {
           "hovertemplate": "algorithm=dbscan<br>Day_of_Week_and_Hour=Saturday_15_hrs<br>Lat=%{lat}<br>Lon=%{lon}<extra></extra>",
           "lat": [
            40.72496666666667,
            40.7261375,
            40.73384,
            40.76615,
            40.73823333333333,
            40.72174
           ],
           "legendgroup": "dbscan",
           "lon": [
            -74.00416666666666,
            -73.995825,
            -73.99248,
            -73.9753,
            -74.00726666666667,
            -73.99002
           ],
           "marker": {
            "color": "#EF553B"
           },
           "mode": "markers",
           "name": "dbscan",
           "showlegend": true,
           "subplot": "mapbox",
           "type": "scattermapbox"
          }
         ],
         "name": "Saturday_15_hrs"
        },
        {
         "data": [
          {
           "hovertemplate": "algorithm=kmeans<br>Day_of_Week_and_Hour=Saturday_16_hrs<br>Lat=%{lat}<br>Lon=%{lon}<extra></extra>",
           "lat": [
            40.71956666666667,
            40.77263333333334,
            40.74103333333333,
            40.7148,
            40.74528,
            40.76235,
            40.76155,
            40.7246,
            40.775533333333335,
            40.68787999999999,
            40.7643,
            40.78028,
            40.7294,
            40.73496,
            40.7021
           ],
           "legendgroup": "kmeans",
           "lon": [
            -73.99239999999999,
            -73.96220000000001,
            -73.99016666666667,
            -73.96163333333332,
            -74.00953999999999,
            -73.9746875,
            -73.9848,
            -73.99911818181818,
            -73.98051666666667,
            -73.99608,
            -73.96604285714285,
            -73.95156,
            -73.98724,
            -74.00256,
            -73.9245
           ],
           "marker": {
            "color": "#636efa"
           },
           "mode": "markers",
           "name": "kmeans",
           "showlegend": true,
           "subplot": "mapbox",
           "type": "scattermapbox"
          },
          {
           "hovertemplate": "algorithm=dbscan<br>Day_of_Week_and_Hour=Saturday_16_hrs<br>Lat=%{lat}<br>Lon=%{lon}<extra></extra>",
           "lat": [
            40.73245,
            40.7715,
            40.76876,
            40.7376,
            40.71866666666667,
            40.733228571428576,
            40.71023333333333,
            40.73995,
            40.774325000000005,
            40.72233333333333,
            40.760842857142855
           ],
           "legendgroup": "dbscan",
           "lon": [
            -73.9917,
            -73.9576,
            -73.96836,
            -73.99786666666667,
            -74.00443333333334,
            -74.00065714285714,
            -74.00916666666666,
            -73.99663000000001,
            -73.9608,
            -73.99846666666667,
            -73.98017142857144
           ],
           "marker": {
            "color": "#EF553B"
           },
           "mode": "markers",
           "name": "dbscan",
           "showlegend": true,
           "subplot": "mapbox",
           "type": "scattermapbox"
          }
         ],
         "name": "Saturday_16_hrs"
        },
        {
         "data": [
          {
           "hovertemplate": "algorithm=kmeans<br>Day_of_Week_and_Hour=Saturday_17_hrs<br>Lat=%{lat}<br>Lon=%{lon}<extra></extra>",
           "lat": [
            40.6917,
            40.75245,
            40.64603333333333,
            40.7167,
            40.7712,
            40.74066666666667,
            40.7139,
            40.6357,
            40.78595,
            40.71095,
            40.744825,
            40.76202857142857,
            40.67686666666666,
            40.7178,
            40.759816666666666,
            40.72395454545455,
            40.778225,
            40.6923,
            40.76426666666666,
            40.7779,
            40.73086,
            40.67665,
            40.733275,
            40.7003
           ],
           "legendgroup": "kmeans",
           "lon": [
            -74.18015,
            -73.97255,
            -73.78723333333333,
            -73.9914,
            -73.95646666666666,
            -73.98871111111112,
            -73.963625,
            -74.02295000000001,
            -73.977925,
            -74.00729999999999,
            -74.006825,
            -73.9746142857143,
            -74.01346666666667,
            -74.00614999999999,
            -73.98885,
            -73.99932727272727,
            -73.9854,
            -73.983,
            -73.96146666666667,
            -73.9538,
            -73.98616,
            -73.97135,
            -74.001925,
            -73.9298
           ],
           "marker": {
            "color": "#636efa"
           },
           "mode": "markers",
           "name": "kmeans",
           "showlegend": true,
           "subplot": "mapbox",
           "type": "scattermapbox"
          },
          {
           "hovertemplate": "algorithm=dbscan<br>Day_of_Week_and_Hour=Saturday_17_hrs<br>Lat=%{lat}<br>Lon=%{lon}<extra></extra>",
           "lat": [
            40.75850769230769,
            40.721075,
            40.769666666666666,
            40.77918,
            40.76254444444445,
            40.714325,
            40.73614,
            40.7242
           ],
           "legendgroup": "dbscan",
           "lon": [
            -73.9808,
            -73.99947499999999,
            -73.9604,
            -73.95714000000001,
            -73.97245555555556,
            -74.0147,
            -74.00066,
            -73.98696666666667
           ],
           "marker": {
            "color": "#EF553B"
           },
           "mode": "markers",
           "name": "dbscan",
           "showlegend": true,
           "subplot": "mapbox",
           "type": "scattermapbox"
          }
         ],
         "name": "Saturday_17_hrs"
        },
        {
         "data": [
          {
           "hovertemplate": "algorithm=kmeans<br>Day_of_Week_and_Hour=Saturday_18_hrs<br>Lat=%{lat}<br>Lon=%{lon}<extra></extra>",
           "lat": [
            40.74652,
            40.64396666666666,
            40.719,
            40.7721,
            40.74036363636364,
            40.723675,
            40.70605,
            40.74412,
            40.76105,
            40.760016666666665,
            40.66936666666666,
            40.717616666666665,
            40.7631,
            40.7253,
            40.727050000000006,
            40.68515,
            40.80675,
            40.709500000000006,
            40.76256,
            40.77872,
            40.73,
            40.748333333333335,
            40.67465,
            40.73506
           ],
           "legendgroup": "kmeans",
           "lon": [
            -73.976,
            -73.76386666666666,
            -73.9935,
            -73.9593,
            -73.98786363636363,
            -73.9567,
            -74.00857500000001,
            -74.00771999999999,
            -73.92269999999999,
            -73.97333333333333,
            -73.995,
            -74.0105,
            -73.99113333333334,
            -73.99833333333333,
            -74.03985,
            -73.9509,
            -73.95575,
            -73.94730000000001,
            -73.96464,
            -73.95264,
            -73.99007142857143,
            -73.99366666666667,
            -73.963,
            -74.00366
           ],
           "marker": {
            "color": "#636efa"
           },
           "mode": "markers",
           "name": "kmeans",
           "showlegend": true,
           "subplot": "mapbox",
           "type": "scattermapbox"
          },
          {
           "hovertemplate": "algorithm=dbscan<br>Day_of_Week_and_Hour=Saturday_18_hrs<br>Lat=%{lat}<br>Lon=%{lon}<extra></extra>",
           "lat": [
            40.72593846153846,
            40.76433333333333,
            40.74388,
            40.7777,
            40.77,
            40.7467,
            40.72883
           ],
           "legendgroup": "dbscan",
           "lon": [
            -74.00116153846153,
            -73.97363333333334,
            -73.99674999999999,
            -73.9519,
            -73.96582857142857,
            -73.9872,
            -73.99237000000001
           ],
           "marker": {
            "color": "#EF553B"
           },
           "mode": "markers",
           "name": "dbscan",
           "showlegend": true,
           "subplot": "mapbox",
           "type": "scattermapbox"
          }
         ],
         "name": "Saturday_18_hrs"
        },
        {
         "data": [
          {
           "hovertemplate": "algorithm=kmeans<br>Day_of_Week_and_Hour=Saturday_19_hrs<br>Lat=%{lat}<br>Lon=%{lon}<extra></extra>",
           "lat": [
            40.753,
            40.72126,
            40.77375,
            40.74322,
            40.7179,
            40.70766,
            40.74263333333334,
            40.76066666666667,
            40.67855,
            40.71716666666666,
            40.75982857142857,
            40.650925,
            40.72421666666667,
            40.68803333333333,
            40.80335,
            40.716125000000005,
            40.7649,
            40.77785,
            40.727466666666665,
            40.754466666666666,
            40.7360625
           ],
           "legendgroup": "kmeans",
           "lon": [
            -73.97525,
            -73.99,
            -73.95958333333333,
            -73.98422000000001,
            -73.95870000000001,
            -74.00834,
            -74.00376666666666,
            -73.97626666666666,
            -73.99549999999999,
            -74.01156666666667,
            -73.991,
            -73.95885,
            -74.0008,
            -73.98543333333333,
            -73.9608,
            -73.944525,
            -73.96385000000001,
            -73.94975,
            -73.99136666666668,
            -73.99146666666667,
            -74.003475
           ],
           "marker": {
            "color": "#636efa"
           },
           "mode": "markers",
           "name": "kmeans",
           "showlegend": true,
           "subplot": "mapbox",
           "type": "scattermapbox"
          },
          {
           "hovertemplate": "algorithm=dbscan<br>Day_of_Week_and_Hour=Saturday_19_hrs<br>Lat=%{lat}<br>Lon=%{lon}<extra></extra>",
           "lat": [
            40.738775,
            40.76504,
            40.726725,
            40.71672,
            40.69186666666667,
            40.77766666666667,
            40.74385555555556
           ],
           "legendgroup": "dbscan",
           "lon": [
            -73.993625,
            -73.9668,
            -74.0036,
            -74.00554,
            -73.97496666666667,
            -73.9857,
            -73.9957
           ],
           "marker": {
            "color": "#EF553B"
           },
           "mode": "markers",
           "name": "dbscan",
           "showlegend": true,
           "subplot": "mapbox",
           "type": "scattermapbox"
          }
         ],
         "name": "Saturday_19_hrs"
        },
        {
         "data": [
          {
           "hovertemplate": "algorithm=kmeans<br>Day_of_Week_and_Hour=Saturday_1_hrs<br>Lat=%{lat}<br>Lon=%{lon}<extra></extra>",
           "lat": [
            40.7494,
            40.72036,
            40.7405,
            40.7178,
            40.74238888888888,
            40.761500000000005,
            40.71625,
            40.76178333333333,
            40.72515,
            40.74336666666667,
            40.72733333333333,
            40.75285,
            40.73643333333334
           ],
           "legendgroup": "kmeans",
           "lon": [
            -73.980775,
            -73.99066,
            -73.98855,
            -73.96215000000001,
            -74.00516666666667,
            -73.97336666666666,
            -74.00635,
            -73.9868,
            -74.0008,
            -74.0337,
            -73.9918,
            -73.9933,
            -74.0055
           ],
           "marker": {
            "color": "#636efa"
           },
           "mode": "markers",
           "name": "kmeans",
           "showlegend": true,
           "subplot": "mapbox",
           "type": "scattermapbox"
          },
          {
           "hovertemplate": "algorithm=dbscan<br>Day_of_Week_and_Hour=Saturday_1_hrs<br>Lat=%{lat}<br>Lon=%{lon}<extra></extra>",
           "lat": [
            40.74207142857143,
            40.730875
           ],
           "legendgroup": "dbscan",
           "lon": [
            -74.00447142857142,
            -73.99315
           ],
           "marker": {
            "color": "#EF553B"
           },
           "mode": "markers",
           "name": "dbscan",
           "showlegend": true,
           "subplot": "mapbox",
           "type": "scattermapbox"
          }
         ],
         "name": "Saturday_1_hrs"
        },
        {
         "data": [
          {
           "hovertemplate": "algorithm=kmeans<br>Day_of_Week_and_Hour=Saturday_20_hrs<br>Lat=%{lat}<br>Lon=%{lon}<extra></extra>",
           "lat": [
            40.75156666666667,
            40.6894,
            40.85515,
            40.74183333333333,
            40.72153333333333,
            40.70905,
            40.741825,
            40.8372,
            40.764,
            40.71898333333333,
            40.76068,
            40.7249875,
            40.77263333333334,
            40.6901,
            40.8079,
            40.7135,
            40.76326,
            40.77953333333334,
            40.730266666666665,
            40.751775,
            40.67326666666667,
            40.7339125
           ],
           "legendgroup": "kmeans",
           "lon": [
            -73.97770000000001,
            -73.969725,
            -73.8689,
            -73.98901666666667,
            -73.9561,
            -74.00936666666666,
            -74.0015,
            -73.95285000000001,
            -73.9739,
            -74.00681666666667,
            -73.98874,
            -74.0011125,
            -73.98396666666666,
            -73.99385,
            -73.96195,
            -73.9503,
            -73.9671,
            -73.95906666666667,
            -73.98933333333333,
            -73.99369999999999,
            -73.9762,
            -74.0032625
           ],
           "marker": {
            "color": "#636efa"
           },
           "mode": "markers",
           "name": "kmeans",
           "showlegend": true,
           "subplot": "mapbox",
           "type": "scattermapbox"
          },
          {
           "hovertemplate": "algorithm=dbscan<br>Day_of_Week_and_Hour=Saturday_20_hrs<br>Lat=%{lat}<br>Lon=%{lon}<extra></extra>",
           "lat": [
            40.726175,
            40.68106,
            40.7454,
            40.74028,
            40.78416666666666,
            40.7289
           ],
           "legendgroup": "dbscan",
           "lon": [
            -73.9975625,
            -73.95698,
            -73.99313333333333,
            -74.00474,
            -73.97773333333333,
            -73.99315833333334
           ],
           "marker": {
            "color": "#EF553B"
           },
           "mode": "markers",
           "name": "dbscan",
           "showlegend": true,
           "subplot": "mapbox",
           "type": "scattermapbox"
          }
         ],
         "name": "Saturday_20_hrs"
        },
        {
         "data": [
          {
           "hovertemplate": "algorithm=kmeans<br>Day_of_Week_and_Hour=Saturday_21_hrs<br>Lat=%{lat}<br>Lon=%{lon}<extra></extra>",
           "lat": [
            40.74986,
            40.685633333333335,
            40.775,
            40.73872,
            40.6863,
            40.71815,
            40.71065,
            40.7456,
            40.75935,
            40.67595,
            40.71897142857143,
            40.7609625,
            40.72462222222222,
            40.772533333333335,
            40.67975,
            40.70976666666667,
            40.75705,
            40.73173333333333,
            40.70324,
            40.7423,
            40.73317777777778,
            40.71176666666667
           ],
           "legendgroup": "kmeans",
           "lon": [
            -73.97694,
            -73.9709,
            -73.9602,
            -73.98496,
            -73.9156,
            -73.9597,
            -74.0075,
            -74.00402,
            -73.91815,
            -74.00720000000001,
            -74.00999999999999,
            -73.9868125,
            -73.99795555555556,
            -73.98453333333333,
            -73.99015,
            -73.95206666666667,
            -73.9631,
            -73.98581666666666,
            -73.99062,
            -73.94104999999999,
            -74.00212222222223,
            -73.91553333333333
           ],
           "marker": {
            "color": "#636efa"
           },
           "mode": "markers",
           "name": "kmeans",
           "showlegend": true,
           "subplot": "mapbox",
           "type": "scattermapbox"
          },
          {
           "hovertemplate": "algorithm=dbscan<br>Day_of_Week_and_Hour=Saturday_21_hrs<br>Lat=%{lat}<br>Lon=%{lon}<extra></extra>",
           "lat": [
            40.76145,
            40.73515999999999,
            40.73098571428572,
            40.759600000000006,
            40.712825,
            40.728225,
            40.70793333333333,
            40.742066666666666,
            40.72295,
            40.7383,
            40.76173333333333
           ],
           "legendgroup": "dbscan",
           "lon": [
            -73.9764875,
            -73.99558999999999,
            -73.99417142857143,
            -73.98672222222223,
            -74.009075,
            -73.9929125,
            -74.0077,
            -74.00416666666666,
            -73.989,
            -73.99852857142857,
            -73.98566666666666
           ],
           "marker": {
            "color": "#EF553B"
           },
           "mode": "markers",
           "name": "dbscan",
           "showlegend": true,
           "subplot": "mapbox",
           "type": "scattermapbox"
          }
         ],
         "name": "Saturday_21_hrs"
        },
        {
         "data": [
          {
           "hovertemplate": "algorithm=kmeans<br>Day_of_Week_and_Hour=Saturday_22_hrs<br>Lat=%{lat}<br>Lon=%{lon}<extra></extra>",
           "lat": [
            40.7492,
            40.6854,
            40.7208,
            40.77405,
            40.7727,
            40.864425,
            40.73950909090909,
            40.68065,
            40.7199,
            40.783475,
            40.70845,
            40.74405,
            40.761066666666665,
            40.71961666666667,
            40.76022857142857,
            40.7319,
            40.724175,
            40.774166666666666,
            40.68533333333333,
            40.69215,
            40.7078,
            40.76595,
            40.78104,
            40.72861,
            40.75143333333333,
            40.747166666666665,
            40.73511333333333
           ],
           "legendgroup": "kmeans",
           "lon": [
            -73.97710000000001,
            -73.97465,
            -73.98995714285715,
            -73.87285,
            -73.9575,
            -73.86415,
            -73.98907272727273,
            -73.937,
            -73.95883333333333,
            -73.97565,
            -74.0062,
            -74.00735,
            -73.9756,
            -74.00938333333333,
            -73.98721428571427,
            -73.8594,
            -74.00286249999999,
            -73.9837,
            -73.9903,
            -73.94525,
            -73.95145,
            -73.9623,
            -73.9497,
            -73.98792999999999,
            -73.99226666666667,
            -73.94343333333333,
            -74.00217333333333
           ],
           "marker": {
            "color": "#636efa"
           },
           "mode": "markers",
           "name": "kmeans",
           "showlegend": true,
           "subplot": "mapbox",
           "type": "scattermapbox"
          },
          {
           "hovertemplate": "algorithm=dbscan<br>Day_of_Week_and_Hour=Saturday_22_hrs<br>Lat=%{lat}<br>Lon=%{lon}<extra></extra>",
           "lat": [
            40.72789523809524,
            40.761066666666665,
            40.71123333333333,
            40.72485,
            40.74141428571429,
            40.76133333333333,
            40.730025,
            40.73152727272728,
            40.762,
            40.74413333333333
           ],
           "legendgroup": "dbscan",
           "lon": [
            -73.99631428571428,
            -73.98819999999999,
            -73.96373333333334,
            -74.000625,
            -73.98998571428571,
            -73.96556666666667,
            -74.00515,
            -73.9918,
            -73.9852,
            -73.97353333333332
           ],
           "marker": {
            "color": "#EF553B"
           },
           "mode": "markers",
           "name": "dbscan",
           "showlegend": true,
           "subplot": "mapbox",
           "type": "scattermapbox"
          }
         ],
         "name": "Saturday_22_hrs"
        },
        {
         "data": [
          {
           "hovertemplate": "algorithm=kmeans<br>Day_of_Week_and_Hour=Saturday_23_hrs<br>Lat=%{lat}<br>Lon=%{lon}<extra></extra>",
           "lat": [
            40.6897,
            40.7195,
            40.73716666666667,
            40.67285,
            40.718725,
            40.70893333333333,
            40.7409,
            40.757775,
            40.7193,
            40.7256,
            40.68620000000001,
            40.7126,
            40.7601,
            40.7285,
            40.73386
           ],
           "legendgroup": "kmeans",
           "lon": [
            -73.9666,
            -73.9902,
            -73.9907,
            -73.9394,
            -73.961775,
            -74.00816666666667,
            -74.00540000000001,
            -73.9704,
            -74.01096666666666,
            -73.9999,
            -73.98856666666667,
            -73.9495,
            -73.9628,
            -73.98786153846154,
            -74.00307000000001
           ],
           "marker": {
            "color": "#636efa"
           },
           "mode": "markers",
           "name": "kmeans",
           "showlegend": true,
           "subplot": "mapbox",
           "type": "scattermapbox"
          },
          {
           "hovertemplate": "algorithm=dbscan<br>Day_of_Week_and_Hour=Saturday_23_hrs<br>Lat=%{lat}<br>Lon=%{lon}<extra></extra>",
           "lat": [
            40.7228,
            40.740138461538464,
            40.725825,
            40.733466666666665,
            40.74771428571428,
            40.72546666666667,
            40.7225
           ],
           "legendgroup": "dbscan",
           "lon": [
            -73.99046666666668,
            -73.99621538461538,
            -73.98615,
            -74.0012,
            -73.99555,
            -73.9875,
            -74.00356666666666
           ],
           "marker": {
            "color": "#EF553B"
           },
           "mode": "markers",
           "name": "dbscan",
           "showlegend": true,
           "subplot": "mapbox",
           "type": "scattermapbox"
          }
         ],
         "name": "Saturday_23_hrs"
        },
        {
         "data": [
          {
           "hovertemplate": "algorithm=kmeans<br>Day_of_Week_and_Hour=Saturday_2_hrs<br>Lat=%{lat}<br>Lon=%{lon}<extra></extra>",
           "lat": [
            40.718925,
            40.742133333333335,
            40.7427,
            40.72445,
            40.7308,
            40.72893333333334,
            40.7486,
            40.7368
           ],
           "legendgroup": "kmeans",
           "lon": [
            -73.99035,
            -73.99136666666666,
            -74.00488,
            -73.99805,
            -74.03925000000001,
            -73.98343333333334,
            -73.9904,
            -74.00970000000001
           ],
           "marker": {
            "color": "#636efa"
           },
           "mode": "markers",
           "name": "kmeans",
           "showlegend": true,
           "subplot": "mapbox",
           "type": "scattermapbox"
          },
          {
           "hovertemplate": "algorithm=dbscan<br>Day_of_Week_and_Hour=Saturday_2_hrs<br>Lat=%{lat}<br>Lon=%{lon}<extra></extra>",
           "lat": [
            40.74073333333333,
            40.728
           ],
           "legendgroup": "dbscan",
           "lon": [
            -74.00394999999999,
            -73.99323333333334
           ],
           "marker": {
            "color": "#EF553B"
           },
           "mode": "markers",
           "name": "dbscan",
           "showlegend": true,
           "subplot": "mapbox",
           "type": "scattermapbox"
          }
         ],
         "name": "Saturday_2_hrs"
        },
        {
         "data": [
          {
           "hovertemplate": "algorithm=kmeans<br>Day_of_Week_and_Hour=Saturday_3_hrs<br>Lat=%{lat}<br>Lon=%{lon}<extra></extra>",
           "lat": [
            40.74365,
            40.765150000000006,
            40.725,
            40.72895,
            40.7344
           ],
           "legendgroup": "kmeans",
           "lon": [
            -74.00319999999999,
            -73.9952,
            -73.99856666666666,
            -73.9868,
            -74.00059999999999
           ],
           "marker": {
            "color": "#636efa"
           },
           "mode": "markers",
           "name": "kmeans",
           "showlegend": true,
           "subplot": "mapbox",
           "type": "scattermapbox"
          }
         ],
         "name": "Saturday_3_hrs"
        },
        {
         "data": [
          {
           "hovertemplate": "algorithm=kmeans<br>Day_of_Week_and_Hour=Saturday_4_hrs<br>Lat=%{lat}<br>Lon=%{lon}<extra></extra>",
           "lat": [
            40.716350000000006,
            40.74705,
            40.7176,
            40.76165
           ],
           "legendgroup": "kmeans",
           "lon": [
            -73.95855,
            -74.0047,
            -74.0061,
            -73.98555
           ],
           "marker": {
            "color": "#636efa"
           },
           "mode": "markers",
           "name": "kmeans",
           "showlegend": true,
           "subplot": "mapbox",
           "type": "scattermapbox"
          }
         ],
         "name": "Saturday_4_hrs"
        },
        {
         "data": [
          {
           "hovertemplate": "algorithm=kmeans<br>Day_of_Week_and_Hour=Saturday_6_hrs<br>Lat=%{lat}<br>Lon=%{lon}<extra></extra>",
           "lat": [
            40.7223,
            40.7638
           ],
           "legendgroup": "kmeans",
           "lon": [
            -73.98564999999999,
            -73.95845
           ],
           "marker": {
            "color": "#636efa"
           },
           "mode": "markers",
           "name": "kmeans",
           "showlegend": true,
           "subplot": "mapbox",
           "type": "scattermapbox"
          }
         ],
         "name": "Saturday_6_hrs"
        },
        {
         "data": [
          {
           "hovertemplate": "algorithm=kmeans<br>Day_of_Week_and_Hour=Saturday_7_hrs<br>Lat=%{lat}<br>Lon=%{lon}<extra></extra>",
           "lat": [
            40.7408,
            40.7608,
            40.7257
           ],
           "legendgroup": "kmeans",
           "lon": [
            -73.9854,
            -73.97483333333334,
            -74.00495000000001
           ],
           "marker": {
            "color": "#636efa"
           },
           "mode": "markers",
           "name": "kmeans",
           "showlegend": true,
           "subplot": "mapbox",
           "type": "scattermapbox"
          }
         ],
         "name": "Saturday_7_hrs"
        },
        {
         "data": [
          {
           "hovertemplate": "algorithm=kmeans<br>Day_of_Week_and_Hour=Saturday_8_hrs<br>Lat=%{lat}<br>Lon=%{lon}<extra></extra>",
           "lat": [
            40.7226,
            40.763133333333336,
            40.7256,
            40.77216666666666,
            40.6867,
            40.80186666666666,
            40.7274,
            40.7376
           ],
           "legendgroup": "kmeans",
           "lon": [
            -73.99005,
            -73.9852,
            -74.00305,
            -73.9846,
            -73.98525000000001,
            -73.95960000000001,
            -73.9853,
            -74.00489999999999
           ],
           "marker": {
            "color": "#636efa"
           },
           "mode": "markers",
           "name": "kmeans",
           "showlegend": true,
           "subplot": "mapbox",
           "type": "scattermapbox"
          }
         ],
         "name": "Saturday_8_hrs"
        },
        {
         "data": [
          {
           "hovertemplate": "algorithm=kmeans<br>Day_of_Week_and_Hour=Saturday_9_hrs<br>Lat=%{lat}<br>Lon=%{lon}<extra></extra>",
           "lat": [
            40.7754,
            40.7939,
            40.70985,
            40.74535,
            40.76025,
            40.7204
           ],
           "legendgroup": "kmeans",
           "lon": [
            -73.96063333333332,
            -73.9756,
            -74.00485,
            -74.00855,
            -73.97755000000001,
            -74.01245
           ],
           "marker": {
            "color": "#636efa"
           },
           "mode": "markers",
           "name": "kmeans",
           "showlegend": true,
           "subplot": "mapbox",
           "type": "scattermapbox"
          }
         ],
         "name": "Saturday_9_hrs"
        },
        {
         "data": [
          {
           "hovertemplate": "algorithm=kmeans<br>Day_of_Week_and_Hour=Sunday_0_hrs<br>Lat=%{lat}<br>Lon=%{lon}<extra></extra>",
           "lat": [
            40.74655,
            40.68566666666667,
            40.7211,
            40.7726,
            40.742,
            40.71445,
            40.74448888888889,
            40.6383,
            40.7601,
            40.725458333333336,
            40.73315,
            40.7083,
            40.72768666666666,
            40.7345
           ],
           "legendgroup": "kmeans",
           "lon": [
            -73.98025,
            -73.97160000000001,
            -73.98992857142856,
            -73.9574,
            -73.98832857142858,
            -73.96345,
            -74.00415555555556,
            -73.90435,
            -73.99255,
            -73.9989,
            -74.04265000000001,
            -73.95105000000001,
            -73.98643333333332,
            -74.00096666666667
           ],
           "marker": {
            "color": "#636efa"
           },
           "mode": "markers",
           "name": "kmeans",
           "showlegend": true,
           "subplot": "mapbox",
           "type": "scattermapbox"
          },
          {
           "hovertemplate": "algorithm=dbscan<br>Day_of_Week_and_Hour=Sunday_0_hrs<br>Lat=%{lat}<br>Lon=%{lon}<extra></extra>",
           "lat": [
            40.7307,
            40.72954545454545,
            40.725566666666666,
            40.743433333333336,
            40.729105
           ],
           "legendgroup": "dbscan",
           "lon": [
            -73.99361875,
            -73.99640909090908,
            -73.99303333333334,
            -74.0057,
            -73.998945
           ],
           "marker": {
            "color": "#EF553B"
           },
           "mode": "markers",
           "name": "dbscan",
           "showlegend": true,
           "subplot": "mapbox",
           "type": "scattermapbox"
          }
         ],
         "name": "Sunday_0_hrs"
        },
        {
         "data": [
          {
           "hovertemplate": "algorithm=kmeans<br>Day_of_Week_and_Hour=Sunday_10_hrs<br>Lat=%{lat}<br>Lon=%{lon}<extra></extra>",
           "lat": [
            40.75008,
            40.71952,
            40.7881,
            40.7604,
            40.71945,
            40.68756666666667,
            40.73253333333333,
            40.73663333333334
           ],
           "legendgroup": "kmeans",
           "lon": [
            -73.97726,
            -73.98772,
            -73.97200000000001,
            -73.97525,
            -74.01335,
            -73.98813333333334,
            -73.9846,
            -74.00356666666666
           ],
           "marker": {
            "color": "#636efa"
           },
           "mode": "markers",
           "name": "kmeans",
           "showlegend": true,
           "subplot": "mapbox",
           "type": "scattermapbox"
          },
          {
           "hovertemplate": "algorithm=dbscan<br>Day_of_Week_and_Hour=Sunday_10_hrs<br>Lat=%{lat}<br>Lon=%{lon}<extra></extra>",
           "lat": [
            40.7186,
            40.738725
           ],
           "legendgroup": "dbscan",
           "lon": [
            -73.9623,
            -74.006325
           ],
           "marker": {
            "color": "#EF553B"
           },
           "mode": "markers",
           "name": "dbscan",
           "showlegend": true,
           "subplot": "mapbox",
           "type": "scattermapbox"
          }
         ],
         "name": "Sunday_10_hrs"
        },
        {
         "data": [
          {
           "hovertemplate": "algorithm=kmeans<br>Day_of_Week_and_Hour=Sunday_11_hrs<br>Lat=%{lat}<br>Lon=%{lon}<extra></extra>",
           "lat": [
            40.68455,
            40.773025,
            40.7425,
            40.7086,
            40.74525,
            40.7601,
            40.72455,
            40.6881,
            40.687,
            40.73073333333333,
            40.73485
           ],
           "legendgroup": "kmeans",
           "lon": [
            -73.9676,
            -73.95435,
            -73.9882,
            -74.0053,
            -74.00375,
            -73.9734,
            -74.0048,
            -73.98613333333334,
            -73.95566,
            -73.9876,
            -73.9986
           ],
           "marker": {
            "color": "#636efa"
           },
           "mode": "markers",
           "name": "kmeans",
           "showlegend": true,
           "subplot": "mapbox",
           "type": "scattermapbox"
          }
         ],
         "name": "Sunday_11_hrs"
        },
        {
         "data": [
          {
           "hovertemplate": "algorithm=kmeans<br>Day_of_Week_and_Hour=Sunday_12_hrs<br>Lat=%{lat}<br>Lon=%{lon}<extra></extra>",
           "lat": [
            40.71916,
            40.74413333333333,
            40.7569,
            40.7622,
            40.71703333333333,
            40.7641,
            40.659400000000005,
            40.76745,
            40.75665,
            40.6685
           ],
           "legendgroup": "kmeans",
           "lon": [
            -73.99076,
            -74.00316666666667,
            -73.90745,
            -73.9748,
            -74.0079,
            -73.9918,
            -73.9664,
            -73.96629999999999,
            -73.9962,
            -73.9711
           ],
           "marker": {
            "color": "#636efa"
           },
           "mode": "markers",
           "name": "kmeans",
           "showlegend": true,
           "subplot": "mapbox",
           "type": "scattermapbox"
          },
          {
           "hovertemplate": "algorithm=dbscan<br>Day_of_Week_and_Hour=Sunday_12_hrs<br>Lat=%{lat}<br>Lon=%{lon}<extra></extra>",
           "lat": [
            40.7612,
            40.7308,
            40.72553333333334
           ],
           "legendgroup": "dbscan",
           "lon": [
            -73.98526666666667,
            -73.98296666666666,
            -73.99889999999999
           ],
           "marker": {
            "color": "#EF553B"
           },
           "mode": "markers",
           "name": "dbscan",
           "showlegend": true,
           "subplot": "mapbox",
           "type": "scattermapbox"
          }
         ],
         "name": "Sunday_12_hrs"
        },
        {
         "data": [
          {
           "hovertemplate": "algorithm=kmeans<br>Day_of_Week_and_Hour=Sunday_13_hrs<br>Lat=%{lat}<br>Lon=%{lon}<extra></extra>",
           "lat": [
            40.69975,
            40.7462,
            40.6461,
            40.7216,
            40.7693,
            40.77325,
            40.74196666666666,
            40.7615,
            40.72513333333333,
            40.7674,
            40.67285
           ],
           "legendgroup": "kmeans",
           "lon": [
            -74.1806,
            -73.97835,
            -73.7769,
            -73.98323333333333,
            -73.86355,
            -73.96545,
            -73.99233333333333,
            -73.9768,
            -73.99813333333333,
            -73.98230000000001,
            -73.97305
           ],
           "marker": {
            "color": "#636efa"
           },
           "mode": "markers",
           "name": "kmeans",
           "showlegend": true,
           "subplot": "mapbox",
           "type": "scattermapbox"
          },
          {
           "hovertemplate": "algorithm=dbscan<br>Day_of_Week_and_Hour=Sunday_13_hrs<br>Lat=%{lat}<br>Lon=%{lon}<extra></extra>",
           "lat": [
            40.75473333333333
           ],
           "legendgroup": "dbscan",
           "lon": [
            -73.98576666666666
           ],
           "marker": {
            "color": "#EF553B"
           },
           "mode": "markers",
           "name": "dbscan",
           "showlegend": true,
           "subplot": "mapbox",
           "type": "scattermapbox"
          }
         ],
         "name": "Sunday_13_hrs"
        },
        {
         "data": [
          {
           "hovertemplate": "algorithm=kmeans<br>Day_of_Week_and_Hour=Sunday_14_hrs<br>Lat=%{lat}<br>Lon=%{lon}<extra></extra>",
           "lat": [
            40.74876666666666,
            40.68845,
            40.7648,
            40.739,
            40.78536666666667,
            40.7092,
            40.745066666666666,
            40.724,
            40.72935,
            40.66963333333334
           ],
           "legendgroup": "kmeans",
           "lon": [
            -73.97326666666667,
            -73.96395,
            -73.85515000000001,
            -73.98516666666667,
            -73.97806666666666,
            -74.01115,
            -74.00653333333334,
            -73.999,
            -73.9867,
            -73.96893333333334
           ],
           "marker": {
            "color": "#636efa"
           },
           "mode": "markers",
           "name": "kmeans",
           "showlegend": true,
           "subplot": "mapbox",
           "type": "scattermapbox"
          },
          {
           "hovertemplate": "algorithm=dbscan<br>Day_of_Week_and_Hour=Sunday_14_hrs<br>Lat=%{lat}<br>Lon=%{lon}<extra></extra>",
           "lat": [
            40.763200000000005
           ],
           "legendgroup": "dbscan",
           "lon": [
            -73.97096666666667
           ],
           "marker": {
            "color": "#EF553B"
           },
           "mode": "markers",
           "name": "dbscan",
           "showlegend": true,
           "subplot": "mapbox",
           "type": "scattermapbox"
          }
         ],
         "name": "Sunday_14_hrs"
        },
        {
         "data": [
          {
           "hovertemplate": "algorithm=kmeans<br>Day_of_Week_and_Hour=Sunday_15_hrs<br>Lat=%{lat}<br>Lon=%{lon}<extra></extra>",
           "lat": [
            40.690250000000006,
            40.75095,
            40.64587142857143,
            40.71904,
            40.77062,
            40.74065,
            40.760625,
            40.716575,
            40.723600000000005,
            40.77286,
            40.8092,
            40.728033333333336,
            40.7355
           ],
           "legendgroup": "kmeans",
           "lon": [
            -74.17935,
            -73.975625,
            -73.78767142857143,
            -73.99068,
            -73.95896,
            -73.9921,
            -73.974025,
            -74.012375,
            -73.9997,
            -73.98174,
            -73.9582,
            -73.98556666666667,
            -74.0005
           ],
           "marker": {
            "color": "#636efa"
           },
           "mode": "markers",
           "name": "kmeans",
           "showlegend": true,
           "subplot": "mapbox",
           "type": "scattermapbox"
          },
          {
           "hovertemplate": "algorithm=dbscan<br>Day_of_Week_and_Hour=Sunday_15_hrs<br>Lat=%{lat}<br>Lon=%{lon}<extra></extra>",
           "lat": [
            40.7454,
            40.754533333333335
           ],
           "legendgroup": "dbscan",
           "lon": [
            -73.98113333333333,
            -73.97930000000001
           ],
           "marker": {
            "color": "#EF553B"
           },
           "mode": "markers",
           "name": "dbscan",
           "showlegend": true,
           "subplot": "mapbox",
           "type": "scattermapbox"
          }
         ],
         "name": "Sunday_15_hrs"
        },
        {
         "data": [
          {
           "hovertemplate": "algorithm=kmeans<br>Day_of_Week_and_Hour=Sunday_16_hrs<br>Lat=%{lat}<br>Lon=%{lon}<extra></extra>",
           "lat": [
            40.749500000000005,
            40.64755,
            40.720400000000005,
            40.775866666666666,
            40.74302,
            40.72054,
            40.7454,
            40.762175,
            40.7177,
            40.76012,
            40.72332,
            40.763175,
            40.731566666666666,
            40.74805,
            40.737825
           ],
           "legendgroup": "kmeans",
           "lon": [
            -73.9704,
            -73.7869,
            -73.98396666666666,
            -73.9612,
            -73.98954,
            -73.95848,
            -74.01605,
            -73.97772499999999,
            -74.00932499999999,
            -73.98718,
            -74.00242,
            -73.964825,
            -73.9885,
            -73.9893,
            -74.00275
           ],
           "marker": {
            "color": "#636efa"
           },
           "mode": "markers",
           "name": "kmeans",
           "showlegend": true,
           "subplot": "mapbox",
           "type": "scattermapbox"
          },
          {
           "hovertemplate": "algorithm=dbscan<br>Day_of_Week_and_Hour=Sunday_16_hrs<br>Lat=%{lat}<br>Lon=%{lon}<extra></extra>",
           "lat": [
            40.7577,
            40.76223333333333,
            40.767675
           ],
           "legendgroup": "dbscan",
           "lon": [
            -73.9857,
            -73.98559999999999,
            -73.98225
           ],
           "marker": {
            "color": "#EF553B"
           },
           "mode": "markers",
           "name": "dbscan",
           "showlegend": true,
           "subplot": "mapbox",
           "type": "scattermapbox"
          }
         ],
         "name": "Sunday_16_hrs"
        },
        {
         "data": [
          {
           "hovertemplate": "algorithm=kmeans<br>Day_of_Week_and_Hour=Sunday_17_hrs<br>Lat=%{lat}<br>Lon=%{lon}<extra></extra>",
           "lat": [
            40.748266666666666,
            40.64483333333333,
            40.71854999999999,
            40.77138,
            40.7723,
            40.7422,
            40.71913333333333,
            40.71876666666667,
            40.763200000000005,
            40.723,
            40.7699,
            40.68925,
            40.76295,
            40.67246,
            40.735525
           ],
           "legendgroup": "kmeans",
           "lon": [
            -73.97500000000001,
            -73.78063333333334,
            -73.9889,
            -73.87796,
            -73.95335,
            -73.9919,
            -73.95713333333333,
            -74.00783333333334,
            -73.99040000000001,
            -73.99655000000001,
            -73.983425,
            -73.98490000000001,
            -73.96215000000001,
            -73.97762,
            -74.001575
           ],
           "marker": {
            "color": "#636efa"
           },
           "mode": "markers",
           "name": "kmeans",
           "showlegend": true,
           "subplot": "mapbox",
           "type": "scattermapbox"
          },
          {
           "hovertemplate": "algorithm=dbscan<br>Day_of_Week_and_Hour=Sunday_17_hrs<br>Lat=%{lat}<br>Lon=%{lon}<extra></extra>",
           "lat": [
            40.73135
           ],
           "legendgroup": "dbscan",
           "lon": [
            -74.001475
           ],
           "marker": {
            "color": "#EF553B"
           },
           "mode": "markers",
           "name": "dbscan",
           "showlegend": true,
           "subplot": "mapbox",
           "type": "scattermapbox"
          }
         ],
         "name": "Sunday_17_hrs"
        },
        {
         "data": [
          {
           "hovertemplate": "algorithm=kmeans<br>Day_of_Week_and_Hour=Sunday_18_hrs<br>Lat=%{lat}<br>Lon=%{lon}<extra></extra>",
           "lat": [
            40.7535,
            40.64523333333333,
            40.771150000000006,
            40.68415,
            40.7621,
            40.679,
            40.71635,
            40.75923333333333,
            40.725966666666665,
            40.761966666666666,
            40.7777,
            40.69815,
            40.75268,
            40.73494
           ],
           "legendgroup": "kmeans",
           "lon": [
            -73.9821,
            -73.78076666666668,
            -73.8674,
            -73.9237,
            -73.9749,
            -74.01015,
            -74.00829999999999,
            -73.9902,
            -74.00420000000001,
            -73.96306666666668,
            -73.9534,
            -73.99405,
            -73.99231999999999,
            -74.00201999999999
           ],
           "marker": {
            "color": "#636efa"
           },
           "mode": "markers",
           "name": "kmeans",
           "showlegend": true,
           "subplot": "mapbox",
           "type": "scattermapbox"
          },
          {
           "hovertemplate": "algorithm=dbscan<br>Day_of_Week_and_Hour=Sunday_18_hrs<br>Lat=%{lat}<br>Lon=%{lon}<extra></extra>",
           "lat": [
            40.76176666666667,
            40.7188,
            40.73183333333333
           ],
           "legendgroup": "dbscan",
           "lon": [
            -73.98243333333333,
            -73.99363333333334,
            -74.00326666666666
           ],
           "marker": {
            "color": "#EF553B"
           },
           "mode": "markers",
           "name": "dbscan",
           "showlegend": true,
           "subplot": "mapbox",
           "type": "scattermapbox"
          }
         ],
         "name": "Sunday_18_hrs"
        },
        {
         "data": [
          {
           "hovertemplate": "algorithm=kmeans<br>Day_of_Week_and_Hour=Sunday_19_hrs<br>Lat=%{lat}<br>Lon=%{lon}<extra></extra>",
           "lat": [
            40.68776666666667,
            40.7497,
            40.68135,
            40.64355,
            40.718175,
            40.74176666666667,
            40.746860000000005,
            40.75913333333333,
            40.7165,
            40.722350000000006,
            40.77935,
            40.8098,
            40.7653,
            40.778000000000006,
            40.72764,
            40.75333333333333,
            40.733675
           ],
           "legendgroup": "kmeans",
           "lon": [
            -74.18186666666666,
            -73.9792,
            -73.9762,
            -73.785,
            -73.98962499999999,
            -73.98893333333332,
            -74.00378,
            -73.97263333333333,
            -74.00865,
            -74.000425,
            -73.9805,
            -73.9432,
            -73.96805,
            -73.95394999999999,
            -73.98822,
            -73.9945,
            -74.007375
           ],
           "marker": {
            "color": "#636efa"
           },
           "mode": "markers",
           "name": "kmeans",
           "showlegend": true,
           "subplot": "mapbox",
           "type": "scattermapbox"
          },
          {
           "hovertemplate": "algorithm=dbscan<br>Day_of_Week_and_Hour=Sunday_19_hrs<br>Lat=%{lat}<br>Lon=%{lon}<extra></extra>",
           "lat": [
            40.757266666666666,
            40.7459
           ],
           "legendgroup": "dbscan",
           "lon": [
            -73.96666666666667,
            -73.99055
           ],
           "marker": {
            "color": "#EF553B"
           },
           "mode": "markers",
           "name": "dbscan",
           "showlegend": true,
           "subplot": "mapbox",
           "type": "scattermapbox"
          }
         ],
         "name": "Sunday_19_hrs"
        },
        {
         "data": [
          {
           "hovertemplate": "algorithm=kmeans<br>Day_of_Week_and_Hour=Sunday_1_hrs<br>Lat=%{lat}<br>Lon=%{lon}<extra></extra>",
           "lat": [
            40.72038571428572,
            40.739875,
            40.74105,
            40.7201,
            40.75705,
            40.726725,
            40.68575,
            40.71026,
            40.727175,
            40.73585
           ],
           "legendgroup": "kmeans",
           "lon": [
            -73.98874285714285,
            -73.98685,
            -74.0064,
            -74.009,
            -73.98675,
            -73.999925,
            -73.98435,
            -73.94874,
            -73.990025,
            -74.00538333333333
           ],
           "marker": {
            "color": "#636efa"
           },
           "mode": "markers",
           "name": "kmeans",
           "showlegend": true,
           "subplot": "mapbox",
           "type": "scattermapbox"
          },
          {
           "hovertemplate": "algorithm=dbscan<br>Day_of_Week_and_Hour=Sunday_1_hrs<br>Lat=%{lat}<br>Lon=%{lon}<extra></extra>",
           "lat": [
            40.72414,
            40.74088,
            40.723725,
            40.73701666666667
           ],
           "legendgroup": "dbscan",
           "lon": [
            -73.98644,
            -74.00458,
            -73.98855,
            -74.00538333333333
           ],
           "marker": {
            "color": "#EF553B"
           },
           "mode": "markers",
           "name": "dbscan",
           "showlegend": true,
           "subplot": "mapbox",
           "type": "scattermapbox"
          }
         ],
         "name": "Sunday_1_hrs"
        },
        {
         "data": [
          {
           "hovertemplate": "algorithm=kmeans<br>Day_of_Week_and_Hour=Sunday_20_hrs<br>Lat=%{lat}<br>Lon=%{lon}<extra></extra>",
           "lat": [
            40.68715,
            40.6442,
            40.71913333333333,
            40.7448,
            40.762675,
            40.67405,
            40.7513,
            40.7378
           ],
           "legendgroup": "kmeans",
           "lon": [
            -73.97375,
            -73.78456,
            -73.99226666666667,
            -74.00365,
            -73.9742,
            -74.01245,
            -73.994,
            -74.0044
           ],
           "marker": {
            "color": "#636efa"
           },
           "mode": "markers",
           "name": "kmeans",
           "showlegend": true,
           "subplot": "mapbox",
           "type": "scattermapbox"
          },
          {
           "hovertemplate": "algorithm=dbscan<br>Day_of_Week_and_Hour=Sunday_20_hrs<br>Lat=%{lat}<br>Lon=%{lon}<extra></extra>",
           "lat": [
            40.726,
            40.71783333333334
           ],
           "legendgroup": "dbscan",
           "lon": [
            -73.99615,
            -73.95243333333333
           ],
           "marker": {
            "color": "#EF553B"
           },
           "mode": "markers",
           "name": "dbscan",
           "showlegend": true,
           "subplot": "mapbox",
           "type": "scattermapbox"
          }
         ],
         "name": "Sunday_20_hrs"
        },
        {
         "data": [
          {
           "hovertemplate": "algorithm=kmeans<br>Day_of_Week_and_Hour=Sunday_21_hrs<br>Lat=%{lat}<br>Lon=%{lon}<extra></extra>",
           "lat": [
            40.64643333333333,
            40.71885,
            40.771475,
            40.74045,
            40.7415,
            40.66785,
            40.716475,
            40.75755,
            40.7516,
            40.7355
           ],
           "legendgroup": "kmeans",
           "lon": [
            -73.78076666666666,
            -73.991,
            -73.870775,
            -73.99525,
            -74.00505000000001,
            -73.99154999999999,
            -74.007675,
            -73.98945,
            -73.99575,
            -74.0069
           ],
           "marker": {
            "color": "#636efa"
           },
           "mode": "markers",
           "name": "kmeans",
           "showlegend": true,
           "subplot": "mapbox",
           "type": "scattermapbox"
          }
         ],
         "name": "Sunday_21_hrs"
        },
        {
         "data": [
          {
           "hovertemplate": "algorithm=kmeans<br>Day_of_Week_and_Hour=Sunday_22_hrs<br>Lat=%{lat}<br>Lon=%{lon}<extra></extra>",
           "lat": [
            40.644075,
            40.72465,
            40.7594,
            40.76023333333333,
            40.7283,
            40.73255
           ],
           "legendgroup": "kmeans",
           "lon": [
            -73.782325,
            -73.95195,
            -73.9108,
            -73.98556666666667,
            -73.97995,
            -73.99934999999999
           ],
           "marker": {
            "color": "#636efa"
           },
           "mode": "markers",
           "name": "kmeans",
           "showlegend": true,
           "subplot": "mapbox",
           "type": "scattermapbox"
          }
         ],
         "name": "Sunday_22_hrs"
        },
        {
         "data": [
          {
           "hovertemplate": "algorithm=kmeans<br>Day_of_Week_and_Hour=Sunday_23_hrs<br>Lat=%{lat}<br>Lon=%{lon}<extra></extra>",
           "lat": [
            40.6459,
            40.7455,
            40.7642,
            40.7477
           ],
           "legendgroup": "kmeans",
           "lon": [
            -73.782375,
            -74.00325,
            -73.98685,
            -73.99019999999999
           ],
           "marker": {
            "color": "#636efa"
           },
           "mode": "markers",
           "name": "kmeans",
           "showlegend": true,
           "subplot": "mapbox",
           "type": "scattermapbox"
          }
         ],
         "name": "Sunday_23_hrs"
        },
        {
         "data": [
          {
           "hovertemplate": "algorithm=kmeans<br>Day_of_Week_and_Hour=Sunday_2_hrs<br>Lat=%{lat}<br>Lon=%{lon}<extra></extra>",
           "lat": [
            40.7398,
            40.71525,
            40.7451,
            40.7092,
            40.72905,
            40.67533333333333,
            40.73568,
            40.7026
           ],
           "legendgroup": "kmeans",
           "lon": [
            -73.9904,
            -73.9599,
            -74.011225,
            -73.94876666666666,
            -73.9851,
            -73.9581,
            -74.0081,
            -73.92685
           ],
           "marker": {
            "color": "#636efa"
           },
           "mode": "markers",
           "name": "kmeans",
           "showlegend": true,
           "subplot": "mapbox",
           "type": "scattermapbox"
          },
          {
           "hovertemplate": "algorithm=dbscan<br>Day_of_Week_and_Hour=Sunday_2_hrs<br>Lat=%{lat}<br>Lon=%{lon}<extra></extra>",
           "lat": [
            40.741825
           ],
           "legendgroup": "dbscan",
           "lon": [
            -73.99855
           ],
           "marker": {
            "color": "#EF553B"
           },
           "mode": "markers",
           "name": "dbscan",
           "showlegend": true,
           "subplot": "mapbox",
           "type": "scattermapbox"
          }
         ],
         "name": "Sunday_2_hrs"
        },
        {
         "data": [
          {
           "hovertemplate": "algorithm=kmeans<br>Day_of_Week_and_Hour=Sunday_3_hrs<br>Lat=%{lat}<br>Lon=%{lon}<extra></extra>",
           "lat": [
            40.72055,
            40.70885,
            40.74255,
            40.71745,
            40.7753,
            40.7103
           ],
           "legendgroup": "kmeans",
           "lon": [
            -73.9606,
            -74.0081,
            -74.004775,
            -74.00555,
            -73.98429999999999,
            -73.953
           ],
           "marker": {
            "color": "#636efa"
           },
           "mode": "markers",
           "name": "kmeans",
           "showlegend": true,
           "subplot": "mapbox",
           "type": "scattermapbox"
          }
         ],
         "name": "Sunday_3_hrs"
        },
        {
         "data": [
          {
           "hovertemplate": "algorithm=kmeans<br>Day_of_Week_and_Hour=Sunday_4_hrs<br>Lat=%{lat}<br>Lon=%{lon}<extra></extra>",
           "lat": [
            40.7241,
            40.6679,
            40.732600000000005
           ],
           "legendgroup": "kmeans",
           "lon": [
            -73.99315,
            -73.96905,
            -74.00319999999999
           ],
           "marker": {
            "color": "#636efa"
           },
           "mode": "markers",
           "name": "kmeans",
           "showlegend": true,
           "subplot": "mapbox",
           "type": "scattermapbox"
          }
         ],
         "name": "Sunday_4_hrs"
        },
        {
         "data": [
          {
           "hovertemplate": "algorithm=kmeans<br>Day_of_Week_and_Hour=Sunday_5_hrs<br>Lat=%{lat}<br>Lon=%{lon}<extra></extra>",
           "lat": [
            40.7596,
            40.7091
           ],
           "legendgroup": "kmeans",
           "lon": [
            -73.97595000000001,
            -73.9272
           ],
           "marker": {
            "color": "#636efa"
           },
           "mode": "markers",
           "name": "kmeans",
           "showlegend": true,
           "subplot": "mapbox",
           "type": "scattermapbox"
          }
         ],
         "name": "Sunday_5_hrs"
        },
        {
         "data": [
          {
           "hovertemplate": "algorithm=kmeans<br>Day_of_Week_and_Hour=Sunday_6_hrs<br>Lat=%{lat}<br>Lon=%{lon}<extra></extra>",
           "lat": [
            40.7312
           ],
           "legendgroup": "kmeans",
           "lon": [
            -73.98443333333334
           ],
           "marker": {
            "color": "#636efa"
           },
           "mode": "markers",
           "name": "kmeans",
           "showlegend": true,
           "subplot": "mapbox",
           "type": "scattermapbox"
          }
         ],
         "name": "Sunday_6_hrs"
        },
        {
         "data": [
          {
           "hovertemplate": "algorithm=kmeans<br>Day_of_Week_and_Hour=Sunday_7_hrs<br>Lat=%{lat}<br>Lon=%{lon}<extra></extra>",
           "lat": [
            40.72555,
            40.7363
           ],
           "legendgroup": "kmeans",
           "lon": [
            -74.00155,
            -74.00295
           ],
           "marker": {
            "color": "#636efa"
           },
           "mode": "markers",
           "name": "kmeans",
           "showlegend": true,
           "subplot": "mapbox",
           "type": "scattermapbox"
          }
         ],
         "name": "Sunday_7_hrs"
        },
        {
         "data": [
          {
           "hovertemplate": "algorithm=kmeans<br>Day_of_Week_and_Hour=Sunday_8_hrs<br>Lat=%{lat}<br>Lon=%{lon}<extra></extra>",
           "lat": [
            40.77276666666666,
            40.76383333333333,
            40.7254,
            40.6901,
            40.746750000000006,
            40.73565
           ],
           "legendgroup": "kmeans",
           "lon": [
            -73.8745,
            -73.9857,
            -74.00125,
            -73.99185,
            -73.94985,
            -74.00315
           ],
           "marker": {
            "color": "#636efa"
           },
           "mode": "markers",
           "name": "kmeans",
           "showlegend": true,
           "subplot": "mapbox",
           "type": "scattermapbox"
          }
         ],
         "name": "Sunday_8_hrs"
        },
        {
         "data": [
          {
           "hovertemplate": "algorithm=kmeans<br>Day_of_Week_and_Hour=Sunday_9_hrs<br>Lat=%{lat}<br>Lon=%{lon}<extra></extra>",
           "lat": [
            40.7372,
            40.7225,
            40.762775,
            40.7232,
            40.75623333333333,
            40.7414
           ],
           "legendgroup": "kmeans",
           "lon": [
            -73.9898,
            -73.96175,
            -73.97437500000001,
            -73.99965,
            -73.96536666666667,
            -73.9228
           ],
           "marker": {
            "color": "#636efa"
           },
           "mode": "markers",
           "name": "kmeans",
           "showlegend": true,
           "subplot": "mapbox",
           "type": "scattermapbox"
          }
         ],
         "name": "Sunday_9_hrs"
        },
        {
         "data": [
          {
           "hovertemplate": "algorithm=kmeans<br>Day_of_Week_and_Hour=Thursday_0_hrs<br>Lat=%{lat}<br>Lon=%{lon}<extra></extra>",
           "lat": [
            40.75825
           ],
           "legendgroup": "kmeans",
           "lon": [
            -73.99119999999999
           ],
           "marker": {
            "color": "#636efa"
           },
           "mode": "markers",
           "name": "kmeans",
           "showlegend": true,
           "subplot": "mapbox",
           "type": "scattermapbox"
          }
         ],
         "name": "Thursday_0_hrs"
        },
        {
         "data": [
          {
           "hovertemplate": "algorithm=kmeans<br>Day_of_Week_and_Hour=Thursday_10_hrs<br>Lat=%{lat}<br>Lon=%{lon}<extra></extra>",
           "lat": [
            40.77175,
            40.743,
            40.76486666666667,
            40.71685,
            40.725075,
            40.77775,
            40.7506,
            40.73575
           ],
           "legendgroup": "kmeans",
           "lon": [
            -73.95490000000001,
            -74.00386666666667,
            -73.97753333333333,
            -74.0084,
            -74.00235,
            -73.94845000000001,
            -73.99526666666667,
            -74.00880000000001
           ],
           "marker": {
            "color": "#636efa"
           },
           "mode": "markers",
           "name": "kmeans",
           "showlegend": true,
           "subplot": "mapbox",
           "type": "scattermapbox"
          },
          {
           "hovertemplate": "algorithm=dbscan<br>Day_of_Week_and_Hour=Thursday_10_hrs<br>Lat=%{lat}<br>Lon=%{lon}<extra></extra>",
           "lat": [
            40.76683333333333,
            40.754,
            40.75905
           ],
           "legendgroup": "dbscan",
           "lon": [
            -73.982,
            -73.97356666666667,
            -73.99095
           ],
           "marker": {
            "color": "#EF553B"
           },
           "mode": "markers",
           "name": "dbscan",
           "showlegend": true,
           "subplot": "mapbox",
           "type": "scattermapbox"
          }
         ],
         "name": "Thursday_10_hrs"
        },
        {
         "data": [
          {
           "hovertemplate": "algorithm=kmeans<br>Day_of_Week_and_Hour=Thursday_11_hrs<br>Lat=%{lat}<br>Lon=%{lon}<extra></extra>",
           "lat": [
            40.77145,
            40.772375,
            40.7415,
            40.7918,
            40.7045,
            40.7616,
            40.72123333333334,
            40.760466666666666,
            40.72213333333333,
            40.7734,
            40.72935,
            40.75475,
            40.7381
           ],
           "legendgroup": "kmeans",
           "lon": [
            -73.87595,
            -73.95985,
            -73.9887,
            -73.9704,
            -74.0136,
            -73.97579999999999,
            -74.00793333333333,
            -73.9829,
            -74.00386666666667,
            -73.98803333333332,
            -73.9847,
            -73.99515,
            -74.00295
           ],
           "marker": {
            "color": "#636efa"
           },
           "mode": "markers",
           "name": "kmeans",
           "showlegend": true,
           "subplot": "mapbox",
           "type": "scattermapbox"
          },
          {
           "hovertemplate": "algorithm=dbscan<br>Day_of_Week_and_Hour=Thursday_11_hrs<br>Lat=%{lat}<br>Lon=%{lon}<extra></extra>",
           "lat": [
            40.724025,
            40.75463333333334
           ],
           "legendgroup": "dbscan",
           "lon": [
            -74.00319999999999,
            -73.9931
           ],
           "marker": {
            "color": "#EF553B"
           },
           "mode": "markers",
           "name": "dbscan",
           "showlegend": true,
           "subplot": "mapbox",
           "type": "scattermapbox"
          }
         ],
         "name": "Thursday_11_hrs"
        },
        {
         "data": [
          {
           "hovertemplate": "algorithm=kmeans<br>Day_of_Week_and_Hour=Thursday_12_hrs<br>Lat=%{lat}<br>Lon=%{lon}<extra></extra>",
           "lat": [
            40.75141666666666,
            40.7436,
            40.757,
            40.76116666666667,
            40.72405,
            40.776066666666665,
            40.762575,
            40.73075,
            40.75225,
            40.735
           ],
           "legendgroup": "kmeans",
           "lon": [
            -73.97658333333334,
            -73.98485,
            -73.97096666666665,
            -73.98543333333333,
            -73.99905000000001,
            -73.98263333333334,
            -73.964675,
            -73.9828,
            -73.99378333333333,
            -74.00665000000001
           ],
           "marker": {
            "color": "#636efa"
           },
           "mode": "markers",
           "name": "kmeans",
           "showlegend": true,
           "subplot": "mapbox",
           "type": "scattermapbox"
          },
          {
           "hovertemplate": "algorithm=dbscan<br>Day_of_Week_and_Hour=Thursday_12_hrs<br>Lat=%{lat}<br>Lon=%{lon}<extra></extra>",
           "lat": [
            40.751975,
            40.7391
           ],
           "legendgroup": "dbscan",
           "lon": [
            -73.986275,
            -73.99210000000001
           ],
           "marker": {
            "color": "#EF553B"
           },
           "mode": "markers",
           "name": "dbscan",
           "showlegend": true,
           "subplot": "mapbox",
           "type": "scattermapbox"
          }
         ],
         "name": "Thursday_12_hrs"
        },
        {
         "data": [
          {
           "hovertemplate": "algorithm=kmeans<br>Day_of_Week_and_Hour=Thursday_13_hrs<br>Lat=%{lat}<br>Lon=%{lon}<extra></extra>",
           "lat": [
            40.75025,
            40.7205,
            40.77,
            40.7419,
            40.7687,
            40.7606,
            40.717625,
            40.76123333333333,
            40.723225,
            40.77385,
            40.765550000000005,
            40.77856666666667,
            40.72795,
            40.70325,
            40.75405
           ],
           "legendgroup": "kmeans",
           "lon": [
            -73.979,
            -73.99405,
            -73.96285,
            -73.98628571428571,
            -73.92009999999999,
            -73.97598571428571,
            -74.01725,
            -73.98783333333334,
            -74.000275,
            -73.98555,
            -73.9668,
            -73.95473333333332,
            -73.97995,
            -73.98575,
            -73.99015
           ],
           "marker": {
            "color": "#636efa"
           },
           "mode": "markers",
           "name": "kmeans",
           "showlegend": true,
           "subplot": "mapbox",
           "type": "scattermapbox"
          },
          {
           "hovertemplate": "algorithm=dbscan<br>Day_of_Week_and_Hour=Thursday_13_hrs<br>Lat=%{lat}<br>Lon=%{lon}<extra></extra>",
           "lat": [
            40.75888333333334,
            40.75873333333333,
            40.724066666666666,
            40.75593,
            40.751333333333335
           ],
           "legendgroup": "dbscan",
           "lon": [
            -73.9802,
            -73.9806,
            -74.00423333333333,
            -73.97967,
            -73.9795
           ],
           "marker": {
            "color": "#EF553B"
           },
           "mode": "markers",
           "name": "dbscan",
           "showlegend": true,
           "subplot": "mapbox",
           "type": "scattermapbox"
          }
         ],
         "name": "Thursday_13_hrs"
        },
        {
         "data": [
          {
           "hovertemplate": "algorithm=kmeans<br>Day_of_Week_and_Hour=Thursday_14_hrs<br>Lat=%{lat}<br>Lon=%{lon}<extra></extra>",
           "lat": [
            40.7162,
            40.75305714285714,
            40.646,
            40.770300000000006,
            40.77492,
            40.742775,
            40.706975,
            40.74705,
            40.7598,
            40.7173,
            40.75975,
            40.72185,
            40.6893,
            40.761125,
            40.7791,
            40.73216666666666,
            40.7544
           ],
           "legendgroup": "kmeans",
           "lon": [
            -74.17595,
            -73.97772857142857,
            -73.78565,
            -73.86485,
            -73.96088,
            -73.989525,
            -74.009875,
            -74.00375,
            -73.97417142857144,
            -74.01114285714286,
            -73.99136666666666,
            -73.9981,
            -73.9896,
            -73.9611,
            -73.95169999999999,
            -73.9863,
            -73.9944
           ],
           "marker": {
            "color": "#636efa"
           },
           "mode": "markers",
           "name": "kmeans",
           "showlegend": true,
           "subplot": "mapbox",
           "type": "scattermapbox"
          },
          {
           "hovertemplate": "algorithm=dbscan<br>Day_of_Week_and_Hour=Thursday_14_hrs<br>Lat=%{lat}<br>Lon=%{lon}<extra></extra>",
           "lat": [
            40.762025,
            40.723000000000006,
            40.74193333333333,
            40.77633333333333,
            40.743925,
            40.72253333333333,
            40.75658333333333,
            40.750071428571424,
            40.64393333333334
           ],
           "legendgroup": "dbscan",
           "lon": [
            -73.980125,
            -73.99693333333333,
            -73.99046666666668,
            -73.98213333333332,
            -73.9855,
            -73.99456666666667,
            -73.97465,
            -73.9981142857143,
            -73.78423333333333
           ],
           "marker": {
            "color": "#EF553B"
           },
           "mode": "markers",
           "name": "dbscan",
           "showlegend": true,
           "subplot": "mapbox",
           "type": "scattermapbox"
          }
         ],
         "name": "Thursday_14_hrs"
        },
        {
         "data": [
          {
           "hovertemplate": "algorithm=kmeans<br>Day_of_Week_and_Hour=Thursday_15_hrs<br>Lat=%{lat}<br>Lon=%{lon}<extra></extra>",
           "lat": [
            40.75128,
            40.6444,
            40.772666666666666,
            40.7747,
            40.7409909090909,
            40.7207,
            40.705875,
            40.74331428571429,
            40.761075,
            40.71676,
            40.76365,
            40.72056666666666,
            40.764818181818185,
            40.78295,
            40.729725,
            40.7503,
            40.73592
           ],
           "legendgroup": "kmeans",
           "lon": [
            -73.97794,
            -73.78693333333332,
            -73.87463333333334,
            -73.96113333333334,
            -73.98571818181819,
            -73.95465,
            -74.007,
            -74.00612857142858,
            -73.973275,
            -74.00734,
            -73.98564999999999,
            -74.0018,
            -73.96504545454546,
            -73.956875,
            -73.99007499999999,
            -73.99119999999999,
            -74.00710000000001
           ],
           "marker": {
            "color": "#636efa"
           },
           "mode": "markers",
           "name": "kmeans",
           "showlegend": true,
           "subplot": "mapbox",
           "type": "scattermapbox"
          },
          {
           "hovertemplate": "algorithm=dbscan<br>Day_of_Week_and_Hour=Thursday_15_hrs<br>Lat=%{lat}<br>Lon=%{lon}<extra></extra>",
           "lat": [
            40.73995,
            40.75538333333333,
            40.73738571428572,
            40.7564,
            40.75506666666666,
            40.747975,
            40.7654,
            40.75364,
            40.738933333333335,
            40.724525,
            40.7123
           ],
           "legendgroup": "dbscan",
           "lon": [
            -73.989525,
            -73.97811666666666,
            -73.99572857142857,
            -73.9794375,
            -73.978,
            -73.99085,
            -73.9756,
            -73.98546,
            -74.0057,
            -74.00475,
            -74.0082
           ],
           "marker": {
            "color": "#EF553B"
           },
           "mode": "markers",
           "name": "dbscan",
           "showlegend": true,
           "subplot": "mapbox",
           "type": "scattermapbox"
          }
         ],
         "name": "Thursday_15_hrs"
        },
        {
         "data": [
          {
           "hovertemplate": "algorithm=kmeans<br>Day_of_Week_and_Hour=Thursday_16_hrs<br>Lat=%{lat}<br>Lon=%{lon}<extra></extra>",
           "lat": [
            40.75192,
            40.77245,
            40.769466666666666,
            40.742041666666665,
            40.7068,
            40.74985,
            40.75998333333334,
            40.71808,
            40.761116666666666,
            40.72374,
            40.77845,
            40.76355,
            40.72975,
            40.75216666666667,
            40.737825
           ],
           "legendgroup": "kmeans",
           "lon": [
            -73.97703,
            -73.869,
            -73.95906666666667,
            -73.98725833333333,
            -74.00566666666667,
            -74.0055,
            -73.97386666666667,
            -74.00814,
            -73.98308333333334,
            -74.00066,
            -73.9858,
            -73.96455,
            -73.9939,
            -73.99262222222222,
            -74.00355
           ],
           "marker": {
            "color": "#636efa"
           },
           "mode": "markers",
           "name": "kmeans",
           "showlegend": true,
           "subplot": "mapbox",
           "type": "scattermapbox"
          },
          {
           "hovertemplate": "algorithm=dbscan<br>Day_of_Week_and_Hour=Thursday_16_hrs<br>Lat=%{lat}<br>Lon=%{lon}<extra></extra>",
           "lat": [
            40.754425,
            40.75610666666667,
            40.746775,
            40.7263,
            40.7309,
            40.74053333333333,
            40.75167857142857,
            40.74306666666666,
            40.7621,
            40.7509
           ],
           "legendgroup": "dbscan",
           "lon": [
            -73.972175,
            -73.97836666666667,
            -74.007675,
            -73.99545,
            -74.00793333333333,
            -73.99003333333333,
            -73.97940714285714,
            -73.98946666666667,
            -73.97361666666667,
            -74.0041
           ],
           "marker": {
            "color": "#EF553B"
           },
           "mode": "markers",
           "name": "dbscan",
           "showlegend": true,
           "subplot": "mapbox",
           "type": "scattermapbox"
          }
         ],
         "name": "Thursday_16_hrs"
        },
        {
         "data": [
          {
           "hovertemplate": "algorithm=kmeans<br>Day_of_Week_and_Hour=Thursday_17_hrs<br>Lat=%{lat}<br>Lon=%{lon}<extra></extra>",
           "lat": [
            40.75332777777778,
            40.68705,
            40.645700000000005,
            40.716350000000006,
            40.7717,
            40.74265714285714,
            40.7066,
            40.747166666666665,
            40.76005238095238,
            40.714933333333335,
            40.75923333333333,
            40.72506,
            40.770825,
            40.8021,
            40.762414285714286,
            40.731366666666666,
            40.7535,
            40.73352857142857
           ],
           "legendgroup": "kmeans",
           "lon": [
            -73.97708888888889,
            -73.9632,
            -73.78614999999999,
            -73.99109999999999,
            -73.96206666666667,
            -73.98865,
            -74.00802857142857,
            -74.00540000000001,
            -73.97325238095239,
            -74.01293333333332,
            -73.98598333333334,
            -74.00318,
            -73.99097499999999,
            -73.9649,
            -73.96448571428571,
            -73.99210000000001,
            -73.992,
            -73.99947142857143
           ],
           "marker": {
            "color": "#636efa"
           },
           "mode": "markers",
           "name": "kmeans",
           "showlegend": true,
           "subplot": "mapbox",
           "type": "scattermapbox"
          },
          {
           "hovertemplate": "algorithm=dbscan<br>Day_of_Week_and_Hour=Thursday_17_hrs<br>Lat=%{lat}<br>Lon=%{lon}<extra></extra>",
           "lat": [
            40.75444615384616,
            40.73576,
            40.75444210526316,
            40.72233333333333,
            40.74532142857142,
            40.7187375,
            40.75845714285715
           ],
           "legendgroup": "dbscan",
           "lon": [
            -73.97736923076924,
            -73.99978,
            -73.98071578947369,
            -74.00391666666667,
            -73.98902857142856,
            -74.0042625,
            -73.97671428571428
           ],
           "marker": {
            "color": "#EF553B"
           },
           "mode": "markers",
           "name": "dbscan",
           "showlegend": true,
           "subplot": "mapbox",
           "type": "scattermapbox"
          }
         ],
         "name": "Thursday_17_hrs"
        },
        {
         "data": [
          {
           "hovertemplate": "algorithm=kmeans<br>Day_of_Week_and_Hour=Thursday_18_hrs<br>Lat=%{lat}<br>Lon=%{lon}<extra></extra>",
           "lat": [
            40.75175454545455,
            40.69515,
            40.72003333333333,
            40.769200000000005,
            40.7734,
            40.74001111111111,
            40.7839,
            40.70905,
            40.74746666666667,
            40.75951538461538,
            40.71774444444444,
            40.76119,
            40.725364285714285,
            40.7749,
            40.69135,
            40.76436,
            40.785025000000005,
            40.73065,
            40.753033333333335,
            40.73656
           ],
           "legendgroup": "kmeans",
           "lon": [
            -73.97612727272727,
            -73.96619999999999,
            -73.993,
            -73.86493333333333,
            -73.9603,
            -73.98857777777778,
            -73.97425000000001,
            -74.00843333333334,
            -74.0114,
            -73.97403076923077,
            -74.0085111111111,
            -73.98723,
            -73.99987857142857,
            -73.98384999999999,
            -73.99085,
            -73.96542,
            -73.95587499999999,
            -73.9925,
            -73.98921666666666,
            -74.0038
           ],
           "marker": {
            "color": "#636efa"
           },
           "mode": "markers",
           "name": "kmeans",
           "showlegend": true,
           "subplot": "mapbox",
           "type": "scattermapbox"
          },
          {
           "hovertemplate": "algorithm=dbscan<br>Day_of_Week_and_Hour=Thursday_18_hrs<br>Lat=%{lat}<br>Lon=%{lon}<extra></extra>",
           "lat": [
            40.7643,
            40.72423333333333,
            40.74902,
            40.7163,
            40.75582222222222,
            40.7108,
            40.75274,
            40.72305,
            40.75643333333333,
            40.7276,
            40.74565,
            40.76716666666667
           ],
           "legendgroup": "dbscan",
           "lon": [
            -73.9727,
            -73.98756666666667,
            -73.98725999999999,
            -74.00883999999999,
            -73.9761,
            -74.01246666666667,
            -73.97784,
            -74.00355,
            -73.97711666666667,
            -74.00486666666667,
            -74.007175,
            -73.98516666666666
           ],
           "marker": {
            "color": "#EF553B"
           },
           "mode": "markers",
           "name": "dbscan",
           "showlegend": true,
           "subplot": "mapbox",
           "type": "scattermapbox"
          }
         ],
         "name": "Thursday_18_hrs"
        },
        {
         "data": [
          {
           "hovertemplate": "algorithm=kmeans<br>Day_of_Week_and_Hour=Thursday_19_hrs<br>Lat=%{lat}<br>Lon=%{lon}<extra></extra>",
           "lat": [
            40.7516625,
            40.64402,
            40.719766666666665,
            40.77245,
            40.74178571428571,
            40.70786666666667,
            40.74528,
            40.76021176470588,
            40.7165,
            40.7624,
            40.72528,
            40.77145,
            40.69175,
            40.72956666666666,
            40.7528,
            40.675,
            40.73305
           ],
           "legendgroup": "kmeans",
           "lon": [
            -73.978175,
            -73.784,
            -73.99300000000001,
            -73.880575,
            -73.98987142857142,
            -74.01006666666667,
            -74.00399999999999,
            -73.97538235294118,
            -74.00789999999999,
            -73.98355000000001,
            -74.00278,
            -73.9858,
            -73.99674999999999,
            -73.98536666666666,
            -73.99213999999999,
            -73.96315,
            -74.00441666666667
           ],
           "marker": {
            "color": "#636efa"
           },
           "mode": "markers",
           "name": "kmeans",
           "showlegend": true,
           "subplot": "mapbox",
           "type": "scattermapbox"
          },
          {
           "hovertemplate": "algorithm=dbscan<br>Day_of_Week_and_Hour=Thursday_19_hrs<br>Lat=%{lat}<br>Lon=%{lon}<extra></extra>",
           "lat": [
            40.75832857142858,
            40.738600000000005,
            40.75717142857143,
            40.753014285714286,
            40.7251,
            40.76028333333333,
            40.7719,
            40.720275
           ],
           "legendgroup": "dbscan",
           "lon": [
            -73.9768142857143,
            -73.9948,
            -73.97594285714285,
            -73.98687142857143,
            -74.00053333333334,
            -73.97770833333333,
            -73.86813333333333,
            -73.99715
           ],
           "marker": {
            "color": "#EF553B"
           },
           "mode": "markers",
           "name": "dbscan",
           "showlegend": true,
           "subplot": "mapbox",
           "type": "scattermapbox"
          }
         ],
         "name": "Thursday_19_hrs"
        },
        {
         "data": [
          {
           "hovertemplate": "algorithm=kmeans<br>Day_of_Week_and_Hour=Thursday_20_hrs<br>Lat=%{lat}<br>Lon=%{lon}<extra></extra>",
           "lat": [
            40.75272727272727,
            40.645675,
            40.720325,
            40.76995,
            40.7394,
            40.7052,
            40.74402,
            40.76067777777777,
            40.71785,
            40.75853333333333,
            40.726441666666666,
            40.726600000000005,
            40.75056,
            40.73635
           ],
           "legendgroup": "kmeans",
           "lon": [
            -73.9778,
            -73.7878,
            -73.9868,
            -73.86449999999999,
            -73.98804,
            -74.0073,
            -74.00542,
            -73.97486111111112,
            -74.00895,
            -73.98393333333334,
            -73.99929166666666,
            -73.9847,
            -73.99046,
            -74.003325
           ],
           "marker": {
            "color": "#636efa"
           },
           "mode": "markers",
           "name": "kmeans",
           "showlegend": true,
           "subplot": "mapbox",
           "type": "scattermapbox"
          },
          {
           "hovertemplate": "algorithm=dbscan<br>Day_of_Week_and_Hour=Thursday_20_hrs<br>Lat=%{lat}<br>Lon=%{lon}<extra></extra>",
           "lat": [
            40.75919285714286,
            40.73524444444445,
            40.75628235294118,
            40.77216666666666,
            40.729075,
            40.749653333333335,
            40.72324,
            40.7594875,
            40.7249,
            40.7321
           ],
           "legendgroup": "dbscan",
           "lon": [
            -73.97782142857143,
            -73.99874444444444,
            -73.98214117647059,
            -73.95616666666666,
            -73.9992875,
            -73.98730666666667,
            -74.00712,
            -73.9811625,
            -74.0056,
            -73.9964
           ],
           "marker": {
            "color": "#EF553B"
           },
           "mode": "markers",
           "name": "dbscan",
           "showlegend": true,
           "subplot": "mapbox",
           "type": "scattermapbox"
          }
         ],
         "name": "Thursday_20_hrs"
        },
        {
         "data": [
          {
           "hovertemplate": "algorithm=kmeans<br>Day_of_Week_and_Hour=Thursday_21_hrs<br>Lat=%{lat}<br>Lon=%{lon}<extra></extra>",
           "lat": [
            40.75184545454545,
            40.64635,
            40.7179875,
            40.76626666666667,
            40.770325,
            40.74176363636364,
            40.7226,
            40.7443,
            40.761,
            40.719350000000006,
            40.7597,
            40.72597692307692,
            40.77283333333333,
            40.68645,
            40.76136666666667,
            40.73111764705882,
            40.75294,
            40.73403076923077
           ],
           "legendgroup": "kmeans",
           "lon": [
            -73.97891818181819,
            -73.7833,
            -73.99102500000001,
            -73.86213333333333,
            -73.95712499999999,
            -73.99017272727272,
            -73.9556,
            -74.00110000000001,
            -73.97446666666666,
            -74.00625,
            -73.98647142857143,
            -73.99886153846154,
            -73.98436666666667,
            -73.988975,
            -73.96296666666667,
            -73.98892352941176,
            -73.99276,
            -73.9998
           ],
           "marker": {
            "color": "#636efa"
           },
           "mode": "markers",
           "name": "kmeans",
           "showlegend": true,
           "subplot": "mapbox",
           "type": "scattermapbox"
          },
          {
           "hovertemplate": "algorithm=dbscan<br>Day_of_Week_and_Hour=Thursday_21_hrs<br>Lat=%{lat}<br>Lon=%{lon}<extra></extra>",
           "lat": [
            40.7413,
            40.72586666666667,
            40.75745,
            40.7572625,
            40.729020000000006,
            40.72736666666667,
            40.73083076923077,
            40.75415,
            40.76146,
            40.73745
           ],
           "legendgroup": "dbscan",
           "lon": [
            -73.99425000000001,
            -73.99796666666667,
            -73.98405000000001,
            -73.983425,
            -74.00417,
            -73.9867,
            -73.99955384615384,
            -73.9820375,
            -73.98112,
            -74.00226666666667
           ],
           "marker": {
            "color": "#EF553B"
           },
           "mode": "markers",
           "name": "dbscan",
           "showlegend": true,
           "subplot": "mapbox",
           "type": "scattermapbox"
          }
         ],
         "name": "Thursday_21_hrs"
        },
        {
         "data": [
          {
           "hovertemplate": "algorithm=kmeans<br>Day_of_Week_and_Hour=Thursday_22_hrs<br>Lat=%{lat}<br>Lon=%{lon}<extra></extra>",
           "lat": [
            40.75006666666667,
            40.68695,
            40.718066666666665,
            40.77405,
            40.74164,
            40.742900000000006,
            40.75822,
            40.6616,
            40.71795,
            40.75985714285714,
            40.724525,
            40.77245,
            40.68625,
            40.73046,
            40.75111666666667,
            40.73509166666667
           ],
           "legendgroup": "kmeans",
           "lon": [
            -73.97656666666667,
            -73.96934999999999,
            -73.98923333333333,
            -73.8729,
            -73.98814,
            -74.00282999999999,
            -73.97288,
            -73.99289999999999,
            -74.00915,
            -73.98634285714286,
            -74.001525,
            -73.98294999999999,
            -73.989,
            -73.9879,
            -73.98913333333333,
            -74.00145833333333
           ],
           "marker": {
            "color": "#636efa"
           },
           "mode": "markers",
           "name": "kmeans",
           "showlegend": true,
           "subplot": "mapbox",
           "type": "scattermapbox"
          },
          {
           "hovertemplate": "algorithm=dbscan<br>Day_of_Week_and_Hour=Thursday_22_hrs<br>Lat=%{lat}<br>Lon=%{lon}<extra></extra>",
           "lat": [
            40.75552,
            40.72575,
            40.733066666666666,
            40.7303875,
            40.73615,
            40.76283333333333,
            40.726,
            40.7574,
            40.72914444444445,
            40.744780000000006
           ],
           "legendgroup": "dbscan",
           "lon": [
            -73.98819,
            -73.9957,
            -74.00373333333333,
            -73.9966375,
            -73.99865,
            -73.9908,
            -73.99803333333334,
            -73.98273636363636,
            -74.00005555555555,
            -74.00388000000001
           ],
           "marker": {
            "color": "#EF553B"
           },
           "mode": "markers",
           "name": "dbscan",
           "showlegend": true,
           "subplot": "mapbox",
           "type": "scattermapbox"
          }
         ],
         "name": "Thursday_22_hrs"
        },
        {
         "data": [
          {
           "hovertemplate": "algorithm=kmeans<br>Day_of_Week_and_Hour=Thursday_23_hrs<br>Lat=%{lat}<br>Lon=%{lon}<extra></extra>",
           "lat": [
            40.754000000000005,
            40.64665,
            40.73783333333333,
            40.713750000000005,
            40.70623333333333,
            40.74596,
            40.758700000000005,
            40.723625,
            40.7105,
            40.7282,
            40.75455,
            40.733357142857145
           ],
           "legendgroup": "kmeans",
           "lon": [
            -73.97575,
            -73.78264999999999,
            -73.98853333333334,
            -73.96135000000001,
            -74.01190000000001,
            -74.00456,
            -73.9887,
            -74.006125,
            -73.93615,
            -73.98766666666667,
            -73.99115,
            -74.00221428571429
           ],
           "marker": {
            "color": "#636efa"
           },
           "mode": "markers",
           "name": "kmeans",
           "showlegend": true,
           "subplot": "mapbox",
           "type": "scattermapbox"
          },
          {
           "hovertemplate": "algorithm=dbscan<br>Day_of_Week_and_Hour=Thursday_23_hrs<br>Lat=%{lat}<br>Lon=%{lon}<extra></extra>",
           "lat": [
            40.72572,
            40.76266666666667
           ],
           "legendgroup": "dbscan",
           "lon": [
            -74.0018,
            -73.98053333333333
           ],
           "marker": {
            "color": "#EF553B"
           },
           "mode": "markers",
           "name": "dbscan",
           "showlegend": true,
           "subplot": "mapbox",
           "type": "scattermapbox"
          }
         ],
         "name": "Thursday_23_hrs"
        },
        {
         "data": [
          {
           "hovertemplate": "algorithm=kmeans<br>Day_of_Week_and_Hour=Thursday_3_hrs<br>Lat=%{lat}<br>Lon=%{lon}<extra></extra>",
           "lat": [
            40.74215
           ],
           "legendgroup": "kmeans",
           "lon": [
            -74.00735
           ],
           "marker": {
            "color": "#636efa"
           },
           "mode": "markers",
           "name": "kmeans",
           "showlegend": true,
           "subplot": "mapbox",
           "type": "scattermapbox"
          }
         ],
         "name": "Thursday_3_hrs"
        },
        {
         "data": [
          {
           "hovertemplate": "algorithm=kmeans<br>Day_of_Week_and_Hour=Thursday_4_hrs<br>Lat=%{lat}<br>Lon=%{lon}<extra></extra>",
           "lat": [
            40.74565,
            40.71905
           ],
           "legendgroup": "kmeans",
           "lon": [
            -73.97800000000001,
            -73.96105
           ],
           "marker": {
            "color": "#636efa"
           },
           "mode": "markers",
           "name": "kmeans",
           "showlegend": true,
           "subplot": "mapbox",
           "type": "scattermapbox"
          }
         ],
         "name": "Thursday_4_hrs"
        },
        {
         "data": [
          {
           "hovertemplate": "algorithm=kmeans<br>Day_of_Week_and_Hour=Thursday_5_hrs<br>Lat=%{lat}<br>Lon=%{lon}<extra></extra>",
           "lat": [
            40.72003333333333,
            40.7403,
            40.71983333333333,
            40.7913,
            40.8044,
            40.714175,
            40.7573,
            40.727575
           ],
           "legendgroup": "kmeans",
           "lon": [
            -73.99383333333333,
            -73.99425,
            -73.95316666666666,
            -73.97525,
            -73.96495,
            -73.946175,
            -73.96456666666667,
            -73.98237499999999
           ],
           "marker": {
            "color": "#636efa"
           },
           "mode": "markers",
           "name": "kmeans",
           "showlegend": true,
           "subplot": "mapbox",
           "type": "scattermapbox"
          }
         ],
         "name": "Thursday_5_hrs"
        },
        {
         "data": [
          {
           "hovertemplate": "algorithm=kmeans<br>Day_of_Week_and_Hour=Thursday_6_hrs<br>Lat=%{lat}<br>Lon=%{lon}<extra></extra>",
           "lat": [
            40.7504,
            40.72076666666667,
            40.77036,
            40.784775,
            40.7171,
            40.7774,
            40.803666666666665,
            40.76416666666667,
            40.778400000000005,
            40.733,
            40.73588333333333
           ],
           "legendgroup": "kmeans",
           "lon": [
            -73.9765,
            -73.9909,
            -73.9597,
            -73.97505,
            -74.00923333333334,
            -73.97755,
            -73.95623333333333,
            -73.96126666666667,
            -73.95595,
            -73.98270000000001,
            -74.0048
           ],
           "marker": {
            "color": "#636efa"
           },
           "mode": "markers",
           "name": "kmeans",
           "showlegend": true,
           "subplot": "mapbox",
           "type": "scattermapbox"
          },
          {
           "hovertemplate": "algorithm=dbscan<br>Day_of_Week_and_Hour=Thursday_6_hrs<br>Lat=%{lat}<br>Lon=%{lon}<extra></extra>",
           "lat": [
            40.777175,
            40.7664,
            40.71613333333334,
            40.77936666666667
           ],
           "legendgroup": "dbscan",
           "lon": [
            -73.95165,
            -73.96509999999999,
            -74.01093333333334,
            -73.95283333333333
           ],
           "marker": {
            "color": "#EF553B"
           },
           "mode": "markers",
           "name": "dbscan",
           "showlegend": true,
           "subplot": "mapbox",
           "type": "scattermapbox"
          }
         ],
         "name": "Thursday_6_hrs"
        },
        {
         "data": [
          {
           "hovertemplate": "algorithm=kmeans<br>Day_of_Week_and_Hour=Thursday_7_hrs<br>Lat=%{lat}<br>Lon=%{lon}<extra></extra>",
           "lat": [
            40.74745,
            40.72305,
            40.7716,
            40.74156666666666,
            40.71775,
            40.7882,
            40.7433,
            40.76225,
            40.71705,
            40.7262,
            40.7786,
            40.69186666666667,
            40.804,
            40.77847777777778,
            40.73095,
            40.7547,
            40.73693333333333
           ],
           "legendgroup": "kmeans",
           "lon": [
            -73.9803,
            -73.988325,
            -73.9612,
            -73.99143333333333,
            -73.96369999999999,
            -73.973825,
            -74.00259999999999,
            -73.977925,
            -74.01005,
            -74.0002,
            -73.98615,
            -73.9882,
            -73.94980000000001,
            -73.95264444444445,
            -73.982625,
            -73.99275,
            -74.00336666666666
           ],
           "marker": {
            "color": "#636efa"
           },
           "mode": "markers",
           "name": "kmeans",
           "showlegend": true,
           "subplot": "mapbox",
           "type": "scattermapbox"
          },
          {
           "hovertemplate": "algorithm=dbscan<br>Day_of_Week_and_Hour=Thursday_7_hrs<br>Lat=%{lat}<br>Lon=%{lon}<extra></extra>",
           "lat": [
            40.776916666666665,
            40.7258,
            40.72516,
            40.775733333333335,
            40.73876666666667,
            40.76933333333333
           ],
           "legendgroup": "dbscan",
           "lon": [
            -73.9805,
            -73.99356666666667,
            -73.98944,
            -73.9511,
            -74.00206666666666,
            -73.95819999999999
           ],
           "marker": {
            "color": "#EF553B"
           },
           "mode": "markers",
           "name": "dbscan",
           "showlegend": true,
           "subplot": "mapbox",
           "type": "scattermapbox"
          }
         ],
         "name": "Thursday_7_hrs"
        },
        {
         "data": [
          {
           "hovertemplate": "algorithm=kmeans<br>Day_of_Week_and_Hour=Thursday_8_hrs<br>Lat=%{lat}<br>Lon=%{lon}<extra></extra>",
           "lat": [
            40.748975,
            40.72175,
            40.7741,
            40.74045,
            40.6837,
            40.7197,
            40.7858,
            40.7582,
            40.716566666666665,
            40.7607,
            40.72575,
            40.77205,
            40.7137,
            40.7765,
            40.7299,
            40.74836666666666,
            40.73305
           ],
           "legendgroup": "kmeans",
           "lon": [
            -73.97865,
            -73.99055,
            -73.95706,
            -73.985,
            -73.92715000000001,
            -73.957,
            -73.97596666666666,
            -73.97263333333333,
            -74.00779999999999,
            -73.99000000000001,
            -74.00105,
            -73.98060000000001,
            -73.94493333333334,
            -73.95150000000001,
            -73.9875,
            -73.9892,
            -74.00595
           ],
           "marker": {
            "color": "#636efa"
           },
           "mode": "markers",
           "name": "kmeans",
           "showlegend": true,
           "subplot": "mapbox",
           "type": "scattermapbox"
          },
          {
           "hovertemplate": "algorithm=dbscan<br>Day_of_Week_and_Hour=Thursday_8_hrs<br>Lat=%{lat}<br>Lon=%{lon}<extra></extra>",
           "lat": [
            40.7298,
            40.72681,
            40.770675
           ],
           "legendgroup": "dbscan",
           "lon": [
            -73.98013333333334,
            -74.00139,
            -73.98885
           ],
           "marker": {
            "color": "#EF553B"
           },
           "mode": "markers",
           "name": "dbscan",
           "showlegend": true,
           "subplot": "mapbox",
           "type": "scattermapbox"
          }
         ],
         "name": "Thursday_8_hrs"
        },
        {
         "data": [
          {
           "hovertemplate": "algorithm=kmeans<br>Day_of_Week_and_Hour=Thursday_9_hrs<br>Lat=%{lat}<br>Lon=%{lon}<extra></extra>",
           "lat": [
            40.75246666666667,
            40.6865,
            40.7221,
            40.77143333333333,
            40.740725,
            40.7895,
            40.7597,
            40.7131,
            40.7597,
            40.77398,
            40.685825,
            40.77686666666667,
            40.72993333333333,
            40.75025
           ],
           "legendgroup": "kmeans",
           "lon": [
            -73.97603333333333,
            -73.9677,
            -73.98814999999999,
            -73.96193333333333,
            -73.989925,
            -73.9795,
            -73.97214,
            -74.00829999999999,
            -73.9832,
            -73.98076,
            -73.990225,
            -73.95389999999999,
            -73.98066666666666,
            -73.98995
           ],
           "marker": {
            "color": "#636efa"
           },
           "mode": "markers",
           "name": "kmeans",
           "showlegend": true,
           "subplot": "mapbox",
           "type": "scattermapbox"
          },
          {
           "hovertemplate": "algorithm=dbscan<br>Day_of_Week_and_Hour=Thursday_9_hrs<br>Lat=%{lat}<br>Lon=%{lon}<extra></extra>",
           "lat": [
            40.75878
           ],
           "legendgroup": "dbscan",
           "lon": [
            -73.98342
           ],
           "marker": {
            "color": "#EF553B"
           },
           "mode": "markers",
           "name": "dbscan",
           "showlegend": true,
           "subplot": "mapbox",
           "type": "scattermapbox"
          }
         ],
         "name": "Thursday_9_hrs"
        },
        {
         "data": [
          {
           "hovertemplate": "algorithm=kmeans<br>Day_of_Week_and_Hour=Tuesday_0_hrs<br>Lat=%{lat}<br>Lon=%{lon}<extra></extra>",
           "lat": [
            40.76375,
            40.76415,
            40.7346
           ],
           "legendgroup": "kmeans",
           "lon": [
            -73.98415,
            -73.9601,
            -74.00595000000001
           ],
           "marker": {
            "color": "#636efa"
           },
           "mode": "markers",
           "name": "kmeans",
           "showlegend": true,
           "subplot": "mapbox",
           "type": "scattermapbox"
          }
         ],
         "name": "Tuesday_0_hrs"
        },
        {
         "data": [
          {
           "hovertemplate": "algorithm=kmeans<br>Day_of_Week_and_Hour=Tuesday_10_hrs<br>Lat=%{lat}<br>Lon=%{lon}<extra></extra>",
           "lat": [
            40.75285,
            40.6906,
            40.719166666666666,
            40.759025,
            40.76,
            40.72605,
            40.76113333333333,
            40.72839999999999,
            40.75256666666667
           ],
           "legendgroup": "kmeans",
           "lon": [
            -73.9769,
            -73.96725,
            -73.98793333333333,
            -73.97435,
            -73.98626666666667,
            -74.00375,
            -73.9606,
            -73.98055,
            -73.99210000000001
           ],
           "marker": {
            "color": "#636efa"
           },
           "mode": "markers",
           "name": "kmeans",
           "showlegend": true,
           "subplot": "mapbox",
           "type": "scattermapbox"
          }
         ],
         "name": "Tuesday_10_hrs"
        },
        {
         "data": [
          {
           "hovertemplate": "algorithm=kmeans<br>Day_of_Week_and_Hour=Tuesday_11_hrs<br>Lat=%{lat}<br>Lon=%{lon}<extra></extra>",
           "lat": [
            40.75104,
            40.7218,
            40.7429,
            40.789725,
            40.748450000000005,
            40.76265,
            40.760925,
            40.65585,
            40.7248,
            40.77358,
            40.689350000000005,
            40.78425,
            40.7311,
            40.754425,
            40.6713
           ],
           "legendgroup": "kmeans",
           "lon": [
            -73.97648000000001,
            -73.98733333333332,
            -73.98887500000001,
            -73.974225,
            -74.00545,
            -73.97385,
            -73.986275,
            -73.9589,
            -73.999075,
            -73.98224,
            -73.98689999999999,
            -73.95355,
            -73.98926666666667,
            -73.98985,
            -73.95285
           ],
           "marker": {
            "color": "#636efa"
           },
           "mode": "markers",
           "name": "kmeans",
           "showlegend": true,
           "subplot": "mapbox",
           "type": "scattermapbox"
          },
          {
           "hovertemplate": "algorithm=dbscan<br>Day_of_Week_and_Hour=Tuesday_11_hrs<br>Lat=%{lat}<br>Lon=%{lon}<extra></extra>",
           "lat": [
            40.75331428571429
           ],
           "legendgroup": "dbscan",
           "lon": [
            -73.97671428571428
           ],
           "marker": {
            "color": "#EF553B"
           },
           "mode": "markers",
           "name": "dbscan",
           "showlegend": true,
           "subplot": "mapbox",
           "type": "scattermapbox"
          }
         ],
         "name": "Tuesday_11_hrs"
        },
        {
         "data": [
          {
           "hovertemplate": "algorithm=kmeans<br>Day_of_Week_and_Hour=Tuesday_12_hrs<br>Lat=%{lat}<br>Lon=%{lon}<extra></extra>",
           "lat": [
            40.71415,
            40.75102,
            40.768600000000006,
            40.77075,
            40.74324,
            40.70695,
            40.745975,
            40.760850000000005,
            40.7616,
            40.71573333333333,
            40.724266666666665,
            40.77085,
            40.761425,
            40.7328,
            40.7489,
            40.73563333333333
           ],
           "legendgroup": "kmeans",
           "lon": [
            -74.17375,
            -73.97738,
            -73.8649,
            -73.96245,
            -73.9864,
            -74.00745,
            -74.00444999999999,
            -73.9237,
            -73.97676666666666,
            -74.01016666666666,
            -73.99626666666667,
            -73.98515,
            -73.96340000000001,
            -73.9794,
            -73.99253333333333,
            -74.0031
           ],
           "marker": {
            "color": "#636efa"
           },
           "mode": "markers",
           "name": "kmeans",
           "showlegend": true,
           "subplot": "mapbox",
           "type": "scattermapbox"
          },
          {
           "hovertemplate": "algorithm=dbscan<br>Day_of_Week_and_Hour=Tuesday_12_hrs<br>Lat=%{lat}<br>Lon=%{lon}<extra></extra>",
           "lat": [
            40.7603,
            40.757466666666666,
            40.7434
           ],
           "legendgroup": "dbscan",
           "lon": [
            -73.9754,
            -73.9757,
            -73.98646666666666
           ],
           "marker": {
            "color": "#EF553B"
           },
           "mode": "markers",
           "name": "dbscan",
           "showlegend": true,
           "subplot": "mapbox",
           "type": "scattermapbox"
          }
         ],
         "name": "Tuesday_12_hrs"
        },
        {
         "data": [
          {
           "hovertemplate": "algorithm=kmeans<br>Day_of_Week_and_Hour=Tuesday_13_hrs<br>Lat=%{lat}<br>Lon=%{lon}<extra></extra>",
           "lat": [
            40.75363333333333,
            40.7194,
            40.7725,
            40.77168,
            40.7417,
            40.70686666666666,
            40.741,
            40.761325,
            40.66815,
            40.71595000000001,
            40.7606,
            40.72553333333334
           ],
           "legendgroup": "kmeans",
           "lon": [
            -73.98323333333333,
            -73.9916,
            -73.86914999999999,
            -73.95708,
            -73.99404999999999,
            -74.01033333333334,
            -74.00534999999999,
            -73.97715,
            -73.98755,
            -74.00685,
            -73.98514,
            -74.00054999999999
           ],
           "marker": {
            "color": "#636efa"
           },
           "mode": "markers",
           "name": "kmeans",
           "showlegend": true,
           "subplot": "mapbox",
           "type": "scattermapbox"
          },
          {
           "hovertemplate": "algorithm=dbscan<br>Day_of_Week_and_Hour=Tuesday_13_hrs<br>Lat=%{lat}<br>Lon=%{lon}<extra></extra>",
           "lat": [
            40.76475,
            40.76388571428571,
            40.73016666666666,
            40.76936666666666
           ],
           "legendgroup": "dbscan",
           "lon": [
            -73.96963333333333,
            -73.96844285714285,
            -73.9925,
            -73.96203333333334
           ],
           "marker": {
            "color": "#EF553B"
           },
           "mode": "markers",
           "name": "dbscan",
           "showlegend": true,
           "subplot": "mapbox",
           "type": "scattermapbox"
          }
         ],
         "name": "Tuesday_13_hrs"
        },
        {
         "data": [
          {
           "hovertemplate": "algorithm=kmeans<br>Day_of_Week_and_Hour=Tuesday_14_hrs<br>Lat=%{lat}<br>Lon=%{lon}<extra></extra>",
           "lat": [
            40.7512,
            40.77255,
            40.7751,
            40.74072222222222,
            40.71865,
            40.71005,
            40.74938,
            40.75947142857143,
            40.717866666666666,
            40.75953333333333,
            40.72415333333333,
            40.76875,
            40.765366666666665,
            40.73086666666666,
            40.75178,
            40.73551428571428
           ],
           "legendgroup": "kmeans",
           "lon": [
            -73.9795,
            -73.86935,
            -73.96395,
            -73.99076666666667,
            -73.95605,
            -74.01575,
            -74.0057,
            -73.97232857142856,
            -74.00703333333333,
            -73.9883,
            -74.00179333333334,
            -73.9894,
            -73.9619,
            -73.98923333333333,
            -73.99246,
            -74.00048571428572
           ],
           "marker": {
            "color": "#636efa"
           },
           "mode": "markers",
           "name": "kmeans",
           "showlegend": true,
           "subplot": "mapbox",
           "type": "scattermapbox"
          },
          {
           "hovertemplate": "algorithm=dbscan<br>Day_of_Week_and_Hour=Tuesday_14_hrs<br>Lat=%{lat}<br>Lon=%{lon}<extra></extra>",
           "lat": [
            40.74423333333333,
            40.74763333333333,
            40.71593333333333,
            40.756060000000005,
            40.74533333333333,
            40.760266666666666,
            40.75375,
            40.7655
           ],
           "legendgroup": "dbscan",
           "lon": [
            -73.98966666666666,
            -73.98436666666667,
            -74.01393333333333,
            -73.97516,
            -74.00563333333334,
            -73.98773333333334,
            -73.98745,
            -73.96982
           ],
           "marker": {
            "color": "#EF553B"
           },
           "mode": "markers",
           "name": "dbscan",
           "showlegend": true,
           "subplot": "mapbox",
           "type": "scattermapbox"
          }
         ],
         "name": "Tuesday_14_hrs"
        },
        {
         "data": [
          {
           "hovertemplate": "algorithm=kmeans<br>Day_of_Week_and_Hour=Tuesday_15_hrs<br>Lat=%{lat}<br>Lon=%{lon}<extra></extra>",
           "lat": [
            40.75044,
            40.7198,
            40.77163333333333,
            40.77104285714285,
            40.7407,
            40.7127,
            40.78935,
            40.707925,
            40.744675,
            40.76008695652174,
            40.71771666666667,
            40.76265,
            40.72317142857143,
            40.77424,
            40.796800000000005,
            40.7641375,
            40.73038333333333,
            40.75154,
            40.73512
           ],
           "legendgroup": "kmeans",
           "lon": [
            -73.97727,
            -73.98423333333334,
            -73.87263333333334,
            -73.95591428571429,
            -73.98862,
            -73.96709999999999,
            -73.97225,
            -74.009375,
            -74.00785,
            -73.97411739130435,
            -74.01183333333334,
            -73.98904999999999,
            -74.00084285714286,
            -73.98062,
            -73.9514,
            -73.9651,
            -73.99053333333333,
            -73.99343999999999,
            -74.00525999999999
           ],
           "marker": {
            "color": "#636efa"
           },
           "mode": "markers",
           "name": "kmeans",
           "showlegend": true,
           "subplot": "mapbox",
           "type": "scattermapbox"
          },
          {
           "hovertemplate": "algorithm=dbscan<br>Day_of_Week_and_Hour=Tuesday_15_hrs<br>Lat=%{lat}<br>Lon=%{lon}<extra></extra>",
           "lat": [
            40.72488,
            40.77563333333334,
            40.747525,
            40.759414285714286,
            40.75636923076923,
            40.77385,
            40.723283333333335,
            40.75338888888889,
            40.72202,
            40.739266666666666
           ],
           "legendgroup": "dbscan",
           "lon": [
            -73.99968,
            -73.95093333333334,
            -73.98910000000001,
            -73.979,
            -73.98342307692307,
            -73.9624,
            -73.99973333333334,
            -73.97666666666666,
            -74.00476,
            -73.9885
           ],
           "marker": {
            "color": "#EF553B"
           },
           "mode": "markers",
           "name": "dbscan",
           "showlegend": true,
           "subplot": "mapbox",
           "type": "scattermapbox"
          }
         ],
         "name": "Tuesday_15_hrs"
        },
        {
         "data": [
          {
           "hovertemplate": "algorithm=kmeans<br>Day_of_Week_and_Hour=Tuesday_16_hrs<br>Lat=%{lat}<br>Lon=%{lon}<extra></extra>",
           "lat": [
            40.75158571428572,
            40.68833333333333,
            40.74193571428572,
            40.63635,
            40.7881,
            40.70725,
            40.74517272727273,
            40.76073333333333,
            40.715520000000005,
            40.759025,
            40.72465,
            40.773375,
            40.81255,
            40.764675,
            40.7283,
            40.75159,
            40.73414
           ],
           "legendgroup": "kmeans",
           "lon": [
            -73.9759642857143,
            -73.9735,
            -73.98975714285714,
            -74.00555,
            -73.97785,
            -74.00885,
            -74.00531818181818,
            -73.97372,
            -74.01418,
            -73.9850375,
            -73.99963333333334,
            -73.987025,
            -73.95224999999999,
            -73.96164999999999,
            -73.98674,
            -73.99307999999999,
            -74.00614
           ],
           "marker": {
            "color": "#636efa"
           },
           "mode": "markers",
           "name": "kmeans",
           "showlegend": true,
           "subplot": "mapbox",
           "type": "scattermapbox"
          },
          {
           "hovertemplate": "algorithm=dbscan<br>Day_of_Week_and_Hour=Tuesday_16_hrs<br>Lat=%{lat}<br>Lon=%{lon}<extra></extra>",
           "lat": [
            40.72512,
            40.747225,
            40.7616,
            40.738475,
            40.757628571428576,
            40.7576375,
            40.72215,
            40.74812,
            40.76041666666666,
            40.7741,
            40.73069,
            40.756690000000006,
            40.78136666666666
           ],
           "legendgroup": "dbscan",
           "lon": [
            -74.00077999999999,
            -74.006925,
            -73.97175,
            -73.9896,
            -73.97775714285714,
            -73.9797625,
            -74.00215,
            -73.97994,
            -73.9768,
            -73.96306666666668,
            -73.99584,
            -73.97652000000001,
            -73.95916666666666
           ],
           "marker": {
            "color": "#EF553B"
           },
           "mode": "markers",
           "name": "dbscan",
           "showlegend": true,
           "subplot": "mapbox",
           "type": "scattermapbox"
          }
         ],
         "name": "Tuesday_16_hrs"
        },
        {
         "data": [
          {
           "hovertemplate": "algorithm=kmeans<br>Day_of_Week_and_Hour=Tuesday_17_hrs<br>Lat=%{lat}<br>Lon=%{lon}<extra></extra>",
           "lat": [
            40.75242727272728,
            40.69145,
            40.646125,
            40.72138,
            40.770833333333336,
            40.77162,
            40.74092105263158,
            40.7164,
            40.74527,
            40.76123181818182,
            40.66093333333333,
            40.7195,
            40.75882,
            40.72447142857143,
            40.7754,
            40.6925,
            40.76486,
            40.78106666666667,
            40.730466666666665,
            40.75256666666667,
            40.734325
           ],
           "legendgroup": "kmeans",
           "lon": [
            -73.97717272727273,
            -73.9745,
            -73.78435,
            -73.99228000000001,
            -73.87123333333334,
            -73.96227999999999,
            -73.98944736842105,
            -73.96036666666667,
            -74.00498999999999,
            -73.97537272727273,
            -73.998,
            -74.00663333333334,
            -73.98602000000001,
            -74.00221428571429,
            -73.98496666666666,
            -73.9868,
            -73.96513999999999,
            -73.9538,
            -73.9903,
            -73.98971666666667,
            -74.001875
           ],
           "marker": {
            "color": "#636efa"
           },
           "mode": "markers",
           "name": "kmeans",
           "showlegend": true,
           "subplot": "mapbox",
           "type": "scattermapbox"
          },
          {
           "hovertemplate": "algorithm=dbscan<br>Day_of_Week_and_Hour=Tuesday_17_hrs<br>Lat=%{lat}<br>Lon=%{lon}<extra></extra>",
           "lat": [
            40.756275,
            40.77525,
            40.7226,
            40.7606,
            40.736,
            40.74774,
            40.760266666666666,
            40.72246,
            40.76014,
            40.755375,
            40.73596666666666,
            40.725525,
            40.709966666666666,
            40.75264666666667,
            40.72205384615385,
            40.77133333333333
           ],
           "legendgroup": "dbscan",
           "lon": [
            -73.98244166666667,
            -73.95802499999999,
            -74.0068,
            -73.9765,
            -73.9917,
            -73.98849,
            -73.97626666666666,
            -74.00381999999999,
            -73.97154,
            -73.9964,
            -73.9853,
            -74.001,
            -74.0073,
            -73.98738666666667,
            -74.00464615384615,
            -73.96633333333334
           ],
           "marker": {
            "color": "#EF553B"
           },
           "mode": "markers",
           "name": "dbscan",
           "showlegend": true,
           "subplot": "mapbox",
           "type": "scattermapbox"
          }
         ],
         "name": "Tuesday_17_hrs"
        },
        {
         "data": [
          {
           "hovertemplate": "algorithm=kmeans<br>Day_of_Week_and_Hour=Tuesday_18_hrs<br>Lat=%{lat}<br>Lon=%{lon}<extra></extra>",
           "lat": [
            40.75272142857143,
            40.77245,
            40.77278333333334,
            40.74243333333333,
            40.78395,
            40.70758,
            40.74283333333333,
            40.76105,
            40.6673,
            40.71763333333333,
            40.76565,
            40.72483333333333,
            40.80765,
            40.76125,
            40.77835,
            40.75028,
            40.73366
           ],
           "legendgroup": "kmeans",
           "lon": [
            -73.97641428571428,
            -73.86925,
            -73.96255000000001,
            -73.98741111111111,
            -73.97524999999999,
            -74.01246,
            -74.00573333333334,
            -73.97422857142858,
            -74.0096,
            -74.00843333333333,
            -73.98375,
            -74.001775,
            -73.9383,
            -73.962425,
            -73.95185000000001,
            -73.99136000000001,
            -74.00424000000001
           ],
           "marker": {
            "color": "#636efa"
           },
           "mode": "markers",
           "name": "kmeans",
           "showlegend": true,
           "subplot": "mapbox",
           "type": "scattermapbox"
          },
          {
           "hovertemplate": "algorithm=dbscan<br>Day_of_Week_and_Hour=Tuesday_18_hrs<br>Lat=%{lat}<br>Lon=%{lon}<extra></extra>",
           "lat": [
            40.74455,
            40.75688,
            40.75663,
            40.74621428571429,
            40.7293,
            40.76283333333333,
            40.7483,
            40.72466666666667,
            40.73577777777778,
            40.756682352941176,
            40.7688,
            40.71833333333333
           ],
           "legendgroup": "dbscan",
           "lon": [
            -74.00465,
            -73.97583999999999,
            -73.98053999999999,
            -73.98966428571428,
            -74.00116,
            -73.97366666666666,
            -73.98882222222223,
            -73.99456666666667,
            -73.9963,
            -73.97941176470589,
            -73.95476666666667,
            -74.0064
           ],
           "marker": {
            "color": "#EF553B"
           },
           "mode": "markers",
           "name": "dbscan",
           "showlegend": true,
           "subplot": "mapbox",
           "type": "scattermapbox"
          }
         ],
         "name": "Tuesday_18_hrs"
        },
        {
         "data": [
          {
           "hovertemplate": "algorithm=kmeans<br>Day_of_Week_and_Hour=Tuesday_19_hrs<br>Lat=%{lat}<br>Lon=%{lon}<extra></extra>",
           "lat": [
            40.6927,
            40.75196666666667,
            40.6447,
            40.7209,
            40.77005,
            40.741375000000005,
            40.6757,
            40.7152,
            40.7902,
            40.70636666666667,
            40.74965,
            40.75993125,
            40.71524285714286,
            40.7579,
            40.723909090909096,
            40.76338,
            40.7305,
            40.7524,
            40.73565714285714
           ],
           "legendgroup": "kmeans",
           "lon": [
            -74.17896666666667,
            -73.98009333333333,
            -73.785725,
            -73.99386000000001,
            -73.86905,
            -73.98734999999999,
            -73.93939999999999,
            -73.9618,
            -73.9726,
            -74.0092,
            -74.006225,
            -73.9730375,
            -74.00984285714286,
            -73.98715,
            -74.00132727272727,
            -73.96430000000001,
            -73.988675,
            -73.99216,
            -74.00167142857143
           ],
           "marker": {
            "color": "#636efa"
           },
           "mode": "markers",
           "name": "kmeans",
           "showlegend": true,
           "subplot": "mapbox",
           "type": "scattermapbox"
          },
          {
           "hovertemplate": "algorithm=dbscan<br>Day_of_Week_and_Hour=Tuesday_19_hrs<br>Lat=%{lat}<br>Lon=%{lon}<extra></extra>",
           "lat": [
            40.7359,
            40.75531111111111,
            40.75215,
            40.7394,
            40.75793846153847,
            40.761,
            40.72473333333333,
            40.70076666666667,
            40.758025,
            40.73147142857143
           ],
           "legendgroup": "dbscan",
           "lon": [
            -74.00053333333334,
            -73.97696666666667,
            -73.982175,
            -73.990275,
            -73.97871538461538,
            -73.97703333333334,
            -74.0052,
            -73.97743333333334,
            -73.9755,
            -73.99307142857143
           ],
           "marker": {
            "color": "#EF553B"
           },
           "mode": "markers",
           "name": "dbscan",
           "showlegend": true,
           "subplot": "mapbox",
           "type": "scattermapbox"
          }
         ],
         "name": "Tuesday_19_hrs"
        },
        {
         "data": [
          {
           "hovertemplate": "algorithm=kmeans<br>Day_of_Week_and_Hour=Tuesday_20_hrs<br>Lat=%{lat}<br>Lon=%{lon}<extra></extra>",
           "lat": [
            40.714200000000005,
            40.75299166666667,
            40.719766666666665,
            40.769733333333335,
            40.7722,
            40.740566666666666,
            40.71843333333334,
            40.708016666666666,
            40.7467,
            40.759800000000006,
            40.71834,
            40.76072222222222,
            40.72545714285714,
            40.77045,
            40.729200000000006,
            40.762625,
            40.7341,
            40.7021,
            40.75078333333334,
            40.7338
           ],
           "legendgroup": "kmeans",
           "lon": [
            -74.16925,
            -73.97864166666666,
            -73.98976666666667,
            -73.865,
            -73.96045,
            -73.99215555555556,
            -73.95753333333333,
            -74.00968333333333,
            -74.00571666666667,
            -73.9738,
            -74.00652,
            -73.98846666666667,
            -74.00021428571428,
            -73.98725,
            -74.03155000000001,
            -73.966025,
            -73.9932,
            -73.9773,
            -73.98923333333333,
            -73.99957777777779
           ],
           "marker": {
            "color": "#636efa"
           },
           "mode": "markers",
           "name": "kmeans",
           "showlegend": true,
           "subplot": "mapbox",
           "type": "scattermapbox"
          },
          {
           "hovertemplate": "algorithm=dbscan<br>Day_of_Week_and_Hour=Tuesday_20_hrs<br>Lat=%{lat}<br>Lon=%{lon}<extra></extra>",
           "lat": [
            40.75067142857143,
            40.7218,
            40.72661111111111,
            40.761544444444446,
            40.76215,
            40.7241,
            40.735733333333336,
            40.757775,
            40.73661818181818
           ],
           "legendgroup": "dbscan",
           "lon": [
            -73.9836142857143,
            -74.00796666666666,
            -73.9965,
            -73.98293333333334,
            -73.978575,
            -73.999975,
            -73.99156666666666,
            -73.97425,
            -73.99831818181818
           ],
           "marker": {
            "color": "#EF553B"
           },
           "mode": "markers",
           "name": "dbscan",
           "showlegend": true,
           "subplot": "mapbox",
           "type": "scattermapbox"
          }
         ],
         "name": "Tuesday_20_hrs"
        },
        {
         "data": [
          {
           "hovertemplate": "algorithm=kmeans<br>Day_of_Week_and_Hour=Tuesday_21_hrs<br>Lat=%{lat}<br>Lon=%{lon}<extra></extra>",
           "lat": [
            40.75178,
            40.6462,
            40.71836666666667,
            40.771,
            40.74094615384615,
            40.70675,
            40.744414285714285,
            40.75999090909091,
            40.72048,
            40.75852,
            40.72512222222223,
            40.771566666666665,
            40.7387,
            40.76605,
            40.73094444444445,
            40.753775000000005,
            40.672,
            40.73527777777778
           ],
           "legendgroup": "kmeans",
           "lon": [
            -73.97574,
            -73.78495000000001,
            -73.99343333333333,
            -73.8668,
            -73.98839230769231,
            -74.00874999999999,
            -74.00435714285713,
            -73.97458181818182,
            -74.0122,
            -73.98786,
            -74.00287777777777,
            -73.9805,
            -74.03444999999999,
            -73.9633,
            -73.99037777777778,
            -73.993475,
            -73.97645,
            -74.0004
           ],
           "marker": {
            "color": "#636efa"
           },
           "mode": "markers",
           "name": "kmeans",
           "showlegend": true,
           "subplot": "mapbox",
           "type": "scattermapbox"
          },
          {
           "hovertemplate": "algorithm=dbscan<br>Day_of_Week_and_Hour=Tuesday_21_hrs<br>Lat=%{lat}<br>Lon=%{lon}<extra></extra>",
           "lat": [
            40.76,
            40.755225,
            40.73474,
            40.7596,
            40.72741,
            40.7566,
            40.7286,
            40.73865,
            40.720666666666666,
            40.75838
           ],
           "legendgroup": "dbscan",
           "lon": [
            -73.97153333333334,
            -73.98769999999999,
            -74.00183999999999,
            -73.97402,
            -73.99808,
            -73.9721,
            -74.00373333333333,
            -73.99956,
            -74.00001666666667,
            -73.97632000000002
           ],
           "marker": {
            "color": "#EF553B"
           },
           "mode": "markers",
           "name": "dbscan",
           "showlegend": true,
           "subplot": "mapbox",
           "type": "scattermapbox"
          }
         ],
         "name": "Tuesday_21_hrs"
        },
        {
         "data": [
          {
           "hovertemplate": "algorithm=kmeans<br>Day_of_Week_and_Hour=Tuesday_22_hrs<br>Lat=%{lat}<br>Lon=%{lon}<extra></extra>",
           "lat": [
            40.753,
            40.6477,
            40.721975,
            40.77515,
            40.73823333333333,
            40.722775,
            40.74766,
            40.76445,
            40.761383333333335,
            40.7194,
            40.759614285714285,
            40.725381818181816,
            40.77206666666667,
            40.80355,
            40.7659,
            40.72995,
            40.73295,
            40.70425
           ],
           "legendgroup": "kmeans",
           "lon": [
            -73.98085,
            -73.78659999999999,
            -73.98945,
            -73.96064999999999,
            -73.99210000000001,
            -73.957825,
            -74.00844,
            -73.92089999999999,
            -73.97463333333333,
            -74.011225,
            -73.98695714285714,
            -74.00011818181818,
            -73.98438333333333,
            -73.95655,
            -73.9665,
            -73.98179999999999,
            -74.000775,
            -73.93595
           ],
           "marker": {
            "color": "#636efa"
           },
           "mode": "markers",
           "name": "kmeans",
           "showlegend": true,
           "subplot": "mapbox",
           "type": "scattermapbox"
          },
          {
           "hovertemplate": "algorithm=dbscan<br>Day_of_Week_and_Hour=Tuesday_22_hrs<br>Lat=%{lat}<br>Lon=%{lon}<extra></extra>",
           "lat": [
            40.72838,
            40.75666,
            40.74583333333333
           ],
           "legendgroup": "dbscan",
           "lon": [
            -73.98922,
            -73.98664,
            -74.00853333333333
           ],
           "marker": {
            "color": "#EF553B"
           },
           "mode": "markers",
           "name": "dbscan",
           "showlegend": true,
           "subplot": "mapbox",
           "type": "scattermapbox"
          }
         ],
         "name": "Tuesday_22_hrs"
        },
        {
         "data": [
          {
           "hovertemplate": "algorithm=kmeans<br>Day_of_Week_and_Hour=Tuesday_23_hrs<br>Lat=%{lat}<br>Lon=%{lon}<extra></extra>",
           "lat": [
            40.752,
            40.64504,
            40.72045,
            40.7727,
            40.73973333333333,
            40.76323333333334,
            40.7606,
            40.72313333333333,
            40.7324,
            40.7358
           ],
           "legendgroup": "kmeans",
           "lon": [
            -73.976175,
            -73.78348000000001,
            -73.9906,
            -73.86925,
            -73.98630000000001,
            -73.9792,
            -73.9846,
            -74.00243333333333,
            -73.9878,
            -74.0047
           ],
           "marker": {
            "color": "#636efa"
           },
           "mode": "markers",
           "name": "kmeans",
           "showlegend": true,
           "subplot": "mapbox",
           "type": "scattermapbox"
          }
         ],
         "name": "Tuesday_23_hrs"
        },
        {
         "data": [
          {
           "hovertemplate": "algorithm=kmeans<br>Day_of_Week_and_Hour=Tuesday_3_hrs<br>Lat=%{lat}<br>Lon=%{lon}<extra></extra>",
           "lat": [
            40.7165,
            40.7413
           ],
           "legendgroup": "kmeans",
           "lon": [
            -73.9936,
            -73.9823
           ],
           "marker": {
            "color": "#636efa"
           },
           "mode": "markers",
           "name": "kmeans",
           "showlegend": true,
           "subplot": "mapbox",
           "type": "scattermapbox"
          }
         ],
         "name": "Tuesday_3_hrs"
        },
        {
         "data": [
          {
           "hovertemplate": "algorithm=kmeans<br>Day_of_Week_and_Hour=Tuesday_4_hrs<br>Lat=%{lat}<br>Lon=%{lon}<extra></extra>",
           "lat": [
            40.71015,
            40.75385
           ],
           "legendgroup": "kmeans",
           "lon": [
            -74.01140000000001,
            -74.0171
           ],
           "marker": {
            "color": "#636efa"
           },
           "mode": "markers",
           "name": "kmeans",
           "showlegend": true,
           "subplot": "mapbox",
           "type": "scattermapbox"
          }
         ],
         "name": "Tuesday_4_hrs"
        },
        {
         "data": [
          {
           "hovertemplate": "algorithm=kmeans<br>Day_of_Week_and_Hour=Tuesday_5_hrs<br>Lat=%{lat}<br>Lon=%{lon}<extra></extra>",
           "lat": [
            40.73833333333334,
            40.78736666666666,
            40.70705,
            40.7611,
            40.71895,
            40.76253333333333,
            40.72715
           ],
           "legendgroup": "kmeans",
           "lon": [
            -73.98656666666666,
            -73.98023333333333,
            -74.01304999999999,
            -73.97645,
            -74.01185000000001,
            -73.9877,
            -73.97915
           ],
           "marker": {
            "color": "#636efa"
           },
           "mode": "markers",
           "name": "kmeans",
           "showlegend": true,
           "subplot": "mapbox",
           "type": "scattermapbox"
          },
          {
           "hovertemplate": "algorithm=dbscan<br>Day_of_Week_and_Hour=Tuesday_5_hrs<br>Lat=%{lat}<br>Lon=%{lon}<extra></extra>",
           "lat": [
            40.73356666666667
           ],
           "legendgroup": "dbscan",
           "lon": [
            -73.98719999999999
           ],
           "marker": {
            "color": "#EF553B"
           },
           "mode": "markers",
           "name": "dbscan",
           "showlegend": true,
           "subplot": "mapbox",
           "type": "scattermapbox"
          }
         ],
         "name": "Tuesday_5_hrs"
        },
        {
         "data": [
          {
           "hovertemplate": "algorithm=kmeans<br>Day_of_Week_and_Hour=Tuesday_6_hrs<br>Lat=%{lat}<br>Lon=%{lon}<extra></extra>",
           "lat": [
            40.7178,
            40.77451111111111,
            40.73785,
            40.788725,
            40.74623333333333,
            40.76315,
            40.71615,
            40.7627,
            40.77722,
            40.7803625,
            40.72974285714286,
            40.73383333333334
           ],
           "legendgroup": "kmeans",
           "lon": [
            -73.99459999999999,
            -73.95833333333333,
            -73.98925,
            -73.9742,
            -74.00433333333332,
            -73.9743,
            -74.01245,
            -73.98476666666666,
            -73.98248,
            -73.951875,
            -73.98327142857143,
            -74.00486666666667
           ],
           "marker": {
            "color": "#636efa"
           },
           "mode": "markers",
           "name": "kmeans",
           "showlegend": true,
           "subplot": "mapbox",
           "type": "scattermapbox"
          },
          {
           "hovertemplate": "algorithm=dbscan<br>Day_of_Week_and_Hour=Tuesday_6_hrs<br>Lat=%{lat}<br>Lon=%{lon}<extra></extra>",
           "lat": [
            40.738075,
            40.78913333333333
           ],
           "legendgroup": "dbscan",
           "lon": [
            -74.004775,
            -73.9773
           ],
           "marker": {
            "color": "#EF553B"
           },
           "mode": "markers",
           "name": "dbscan",
           "showlegend": true,
           "subplot": "mapbox",
           "type": "scattermapbox"
          }
         ],
         "name": "Tuesday_6_hrs"
        },
        {
         "data": [
          {
           "hovertemplate": "algorithm=kmeans<br>Day_of_Week_and_Hour=Tuesday_7_hrs<br>Lat=%{lat}<br>Lon=%{lon}<extra></extra>",
           "lat": [
            40.7493,
            40.6874,
            40.71922,
            40.76996666666667,
            40.74018333333333,
            40.79063333333334,
            40.74583333333333,
            40.7594,
            40.71746666666667,
            40.7606,
            40.72418,
            40.77546666666667,
            40.73035,
            40.71585,
            40.76305,
            40.7785,
            40.72865,
            40.75103333333333,
            40.67495,
            40.73455
           ],
           "legendgroup": "kmeans",
           "lon": [
            -73.9775,
            -73.97465,
            -73.98754,
            -73.95916666666666,
            -73.9832,
            -73.97576666666667,
            -74.00333333333333,
            -73.9757,
            -74.00993333333334,
            -73.99375,
            -74.00278,
            -73.97926666666666,
            -74.03265,
            -73.9456,
            -73.963975,
            -73.95398,
            -73.983275,
            -73.99393333333333,
            -73.97175,
            -74.00225
           ],
           "marker": {
            "color": "#636efa"
           },
           "mode": "markers",
           "name": "kmeans",
           "showlegend": true,
           "subplot": "mapbox",
           "type": "scattermapbox"
          },
          {
           "hovertemplate": "algorithm=dbscan<br>Day_of_Week_and_Hour=Tuesday_7_hrs<br>Lat=%{lat}<br>Lon=%{lon}<extra></extra>",
           "lat": [
            40.7796,
            40.744825,
            40.76743333333334,
            40.75853333333333,
            40.7304,
            40.721025,
            40.7464,
            40.7356,
            40.72076666666666,
            40.7725
           ],
           "legendgroup": "dbscan",
           "lon": [
            -73.95198,
            -73.993675,
            -73.98933333333333,
            -73.99153333333334,
            -74.00056,
            -73.980925,
            -73.97776666666665,
            -74.00128,
            -74.00353333333334,
            -73.95483333333334
           ],
           "marker": {
            "color": "#EF553B"
           },
           "mode": "markers",
           "name": "dbscan",
           "showlegend": true,
           "subplot": "mapbox",
           "type": "scattermapbox"
          }
         ],
         "name": "Tuesday_7_hrs"
        },
        {
         "data": [
          {
           "hovertemplate": "algorithm=kmeans<br>Day_of_Week_and_Hour=Tuesday_8_hrs<br>Lat=%{lat}<br>Lon=%{lon}<extra></extra>",
           "lat": [
            40.7193,
            40.77025,
            40.77076666666667,
            40.74042,
            40.786566666666666,
            40.74763333333333,
            40.7639,
            40.720425,
            40.76096666666667,
            40.72356666666666,
            40.77523333333333,
            40.70795,
            40.76275,
            40.782042857142855,
            40.7293,
            40.748,
            40.73425
           ],
           "legendgroup": "kmeans",
           "lon": [
            -73.98728333333334,
            -73.87105,
            -73.95406666666668,
            -73.98714,
            -73.97590000000001,
            -74.00273333333332,
            -73.97735,
            -74.008425,
            -73.99676666666666,
            -74.0014,
            -73.98496666666666,
            -73.9454,
            -73.964375,
            -73.95307142857143,
            -73.98562222222222,
            -73.99095,
            -73.999925
           ],
           "marker": {
            "color": "#636efa"
           },
           "mode": "markers",
           "name": "kmeans",
           "showlegend": true,
           "subplot": "mapbox",
           "type": "scattermapbox"
          },
          {
           "hovertemplate": "algorithm=dbscan<br>Day_of_Week_and_Hour=Tuesday_8_hrs<br>Lat=%{lat}<br>Lon=%{lon}<extra></extra>",
           "lat": [
            40.72592,
            40.77242,
            40.74476666666667,
            40.7343,
            40.7201,
            40.724625,
            40.7176,
            40.7601
           ],
           "legendgroup": "dbscan",
           "lon": [
            -73.99046,
            -73.95712,
            -73.9887,
            -73.98386666666667,
            -74.00436666666667,
            -73.98275,
            -74.00816666666667,
            -73.97783333333334
           ],
           "marker": {
            "color": "#EF553B"
           },
           "mode": "markers",
           "name": "dbscan",
           "showlegend": true,
           "subplot": "mapbox",
           "type": "scattermapbox"
          }
         ],
         "name": "Tuesday_8_hrs"
        },
        {
         "data": [
          {
           "hovertemplate": "algorithm=kmeans<br>Day_of_Week_and_Hour=Tuesday_9_hrs<br>Lat=%{lat}<br>Lon=%{lon}<extra></extra>",
           "lat": [
            40.749625,
            40.72385,
            40.7756,
            40.73966666666667,
            40.78313333333333,
            40.70685,
            40.745133333333335,
            40.762775000000005,
            40.72,
            40.723600000000005,
            40.7785,
            40.765150000000006,
            40.73,
            40.7357
           ],
           "legendgroup": "kmeans",
           "lon": [
            -73.97525,
            -73.98965,
            -73.9576,
            -73.99063333333334,
            -73.9802,
            -74.00965,
            -74.0047,
            -73.97495,
            -74.00916666666667,
            -74.00014999999999,
            -73.98140000000001,
            -73.96435,
            -73.98734999999999,
            -74.00045
           ],
           "marker": {
            "color": "#636efa"
           },
           "mode": "markers",
           "name": "kmeans",
           "showlegend": true,
           "subplot": "mapbox",
           "type": "scattermapbox"
          },
          {
           "hovertemplate": "algorithm=dbscan<br>Day_of_Week_and_Hour=Tuesday_9_hrs<br>Lat=%{lat}<br>Lon=%{lon}<extra></extra>",
           "lat": [
            40.73755,
            40.7659,
            40.769466666666666
           ],
           "legendgroup": "dbscan",
           "lon": [
            -73.991725,
            -73.979275,
            -73.95723333333332
           ],
           "marker": {
            "color": "#EF553B"
           },
           "mode": "markers",
           "name": "dbscan",
           "showlegend": true,
           "subplot": "mapbox",
           "type": "scattermapbox"
          }
         ],
         "name": "Tuesday_9_hrs"
        },
        {
         "data": [
          {
           "hovertemplate": "algorithm=kmeans<br>Day_of_Week_and_Hour=Wednesday_0_hrs<br>Lat=%{lat}<br>Lon=%{lon}<extra></extra>",
           "lat": [
            40.7586,
            40.76335
           ],
           "legendgroup": "kmeans",
           "lon": [
            -73.97213333333333,
            -73.98955000000001
           ],
           "marker": {
            "color": "#636efa"
           },
           "mode": "markers",
           "name": "kmeans",
           "showlegend": true,
           "subplot": "mapbox",
           "type": "scattermapbox"
          }
         ],
         "name": "Wednesday_0_hrs"
        },
        {
         "data": [
          {
           "hovertemplate": "algorithm=kmeans<br>Day_of_Week_and_Hour=Wednesday_10_hrs<br>Lat=%{lat}<br>Lon=%{lon}<extra></extra>",
           "lat": [
            40.753,
            40.72156666666667,
            40.76285,
            40.770375,
            40.74064,
            40.7826,
            40.757914285714286,
            40.71704,
            40.7616,
            40.7234,
            40.7752,
            40.766075,
            40.72806666666667,
            40.710566666666665,
            40.7532,
            40.73515
           ],
           "legendgroup": "kmeans",
           "lon": [
            -73.97926666666666,
            -73.98863333333334,
            -73.87975,
            -73.95955,
            -73.98490000000001,
            -73.97710000000001,
            -73.97382857142858,
            -74.00825999999999,
            -73.98486666666666,
            -74.00049999999999,
            -73.9861,
            -73.96535,
            -73.9862,
            -73.98513333333334,
            -73.9932,
            -74.00319999999999
           ],
           "marker": {
            "color": "#636efa"
           },
           "mode": "markers",
           "name": "kmeans",
           "showlegend": true,
           "subplot": "mapbox",
           "type": "scattermapbox"
          },
          {
           "hovertemplate": "algorithm=dbscan<br>Day_of_Week_and_Hour=Wednesday_10_hrs<br>Lat=%{lat}<br>Lon=%{lon}<extra></extra>",
           "lat": [
            40.7612,
            40.757625,
            40.751075,
            40.74495
           ],
           "legendgroup": "dbscan",
           "lon": [
            -73.975825,
            -73.97460000000001,
            -73.98065,
            -74.00001666666667
           ],
           "marker": {
            "color": "#EF553B"
           },
           "mode": "markers",
           "name": "dbscan",
           "showlegend": true,
           "subplot": "mapbox",
           "type": "scattermapbox"
          }
         ],
         "name": "Wednesday_10_hrs"
        },
        {
         "data": [
          {
           "hovertemplate": "algorithm=kmeans<br>Day_of_Week_and_Hour=Wednesday_11_hrs<br>Lat=%{lat}<br>Lon=%{lon}<extra></extra>",
           "lat": [
            40.751025,
            40.77036666666667,
            40.7423,
            40.7088,
            40.74585,
            40.75858,
            40.71695,
            40.75905,
            40.72485,
            40.7732,
            40.6871,
            40.6857,
            40.709900000000005,
            40.765033333333335,
            40.728033333333336,
            40.7485,
            40.7363
           ],
           "legendgroup": "kmeans",
           "lon": [
            -73.982425,
            -73.95953333333334,
            -73.9892,
            -74.00965,
            -74.0033,
            -73.97626,
            -74.006,
            -73.98245,
            -74.00479999999999,
            -73.97954999999999,
            -73.9911,
            -73.94566666666667,
            -73.94905,
            -73.96486666666667,
            -73.9842,
            -73.9917,
            -74.00625
           ],
           "marker": {
            "color": "#636efa"
           },
           "mode": "markers",
           "name": "kmeans",
           "showlegend": true,
           "subplot": "mapbox",
           "type": "scattermapbox"
          },
          {
           "hovertemplate": "algorithm=dbscan<br>Day_of_Week_and_Hour=Wednesday_11_hrs<br>Lat=%{lat}<br>Lon=%{lon}<extra></extra>",
           "lat": [
            40.714533333333335,
            40.76396666666667,
            40.72183333333333,
            40.74803333333333,
            40.75546,
            40.72212
           ],
           "legendgroup": "dbscan",
           "lon": [
            -74.00636666666666,
            -73.97543333333334,
            -74.00093333333332,
            -73.98033333333332,
            -73.97729333333334,
            -73.9964
           ],
           "marker": {
            "color": "#EF553B"
           },
           "mode": "markers",
           "name": "dbscan",
           "showlegend": true,
           "subplot": "mapbox",
           "type": "scattermapbox"
          }
         ],
         "name": "Wednesday_11_hrs"
        },
        {
         "data": [
          {
           "hovertemplate": "algorithm=kmeans<br>Day_of_Week_and_Hour=Wednesday_12_hrs<br>Lat=%{lat}<br>Lon=%{lon}<extra></extra>",
           "lat": [
            40.75216,
            40.7185,
            40.77173333333334,
            40.78545,
            40.7088,
            40.7469,
            40.76124545454545,
            40.71526,
            40.7229,
            40.77345,
            40.69255,
            40.80544999999999,
            40.7785,
            40.73186666666667,
            40.75107777777778,
            40.736025
           ],
           "legendgroup": "kmeans",
           "lon": [
            -73.97771,
            -73.99395,
            -73.9603,
            -73.97635,
            -74.0127,
            -74.00595,
            -73.97318181818183,
            -74.0054,
            -74.0049,
            -73.9821,
            -73.98415,
            -73.95795,
            -73.94993333333333,
            -73.98559999999999,
            -73.99117777777776,
            -74.004475
           ],
           "marker": {
            "color": "#636efa"
           },
           "mode": "markers",
           "name": "kmeans",
           "showlegend": true,
           "subplot": "mapbox",
           "type": "scattermapbox"
          },
          {
           "hovertemplate": "algorithm=dbscan<br>Day_of_Week_and_Hour=Wednesday_12_hrs<br>Lat=%{lat}<br>Lon=%{lon}<extra></extra>",
           "lat": [
            40.7553,
            40.72372,
            40.756225,
            40.754875,
            40.7242,
            40.753
           ],
           "legendgroup": "dbscan",
           "lon": [
            -73.97426666666667,
            -73.99104,
            -73.979375,
            -73.973925,
            -74.0027,
            -73.9979
           ],
           "marker": {
            "color": "#EF553B"
           },
           "mode": "markers",
           "name": "dbscan",
           "showlegend": true,
           "subplot": "mapbox",
           "type": "scattermapbox"
          }
         ],
         "name": "Wednesday_12_hrs"
        },
        {
         "data": [
          {
           "hovertemplate": "algorithm=kmeans<br>Day_of_Week_and_Hour=Wednesday_13_hrs<br>Lat=%{lat}<br>Lon=%{lon}<extra></extra>",
           "lat": [
            40.75038888888889,
            40.719366666666666,
            40.774,
            40.772533333333335,
            40.741775,
            40.67285,
            40.6285,
            40.706700000000005,
            40.743766666666666,
            40.7619,
            40.71864000000001,
            40.76214,
            40.72445,
            40.77275,
            40.801375,
            40.76487142857143,
            40.779425,
            40.75236666666667,
            40.7324
           ],
           "legendgroup": "kmeans",
           "lon": [
            -73.97661111111111,
            -73.98866666666667,
            -73.8724,
            -73.9601,
            -73.9907,
            -73.9436,
            -74.02074999999999,
            -74.0111,
            -74.00606666666665,
            -73.974125,
            -74.009,
            -73.98442,
            -74.00127499999999,
            -73.9854,
            -73.946925,
            -73.96472857142858,
            -73.950875,
            -73.99046666666668,
            -74.0013
           ],
           "marker": {
            "color": "#636efa"
           },
           "mode": "markers",
           "name": "kmeans",
           "showlegend": true,
           "subplot": "mapbox",
           "type": "scattermapbox"
          },
          {
           "hovertemplate": "algorithm=dbscan<br>Day_of_Week_and_Hour=Wednesday_13_hrs<br>Lat=%{lat}<br>Lon=%{lon}<extra></extra>",
           "lat": [
            40.783233333333335,
            40.759257142857145,
            40.73651111111111,
            40.7607
           ],
           "legendgroup": "dbscan",
           "lon": [
            -73.97283333333333,
            -73.97865714285714,
            -73.99591111111111,
            -73.977725
           ],
           "marker": {
            "color": "#EF553B"
           },
           "mode": "markers",
           "name": "dbscan",
           "showlegend": true,
           "subplot": "mapbox",
           "type": "scattermapbox"
          }
         ],
         "name": "Wednesday_13_hrs"
        },
        {
         "data": [
          {
           "hovertemplate": "algorithm=kmeans<br>Day_of_Week_and_Hour=Wednesday_14_hrs<br>Lat=%{lat}<br>Lon=%{lon}<extra></extra>",
           "lat": [
            40.75187142857143,
            40.64986,
            40.7223,
            40.77676666666667,
            40.74187,
            40.787400000000005,
            40.70768,
            40.7469,
            40.76034285714286,
            40.7166,
            40.76121666666666,
            40.73055,
            40.724540000000005,
            40.77525,
            40.808,
            40.76273333333334,
            40.779316666666666,
            40.7315,
            40.7538,
            40.67635,
            40.7407,
            40.734860000000005
           ],
           "legendgroup": "kmeans",
           "lon": [
            -73.9773,
            -73.78202,
            -73.99435,
            -73.96226666666666,
            -73.99012,
            -73.97348,
            -74.01308,
            -74.00306666666667,
            -73.97324285714285,
            -74.01015,
            -73.984,
            -73.8171,
            -74.00318,
            -73.98717500000001,
            -73.96225,
            -73.96593333333334,
            -73.95406666666666,
            -73.98446666666666,
            -73.98805,
            -73.9722,
            -73.95165,
            -74.00538
           ],
           "marker": {
            "color": "#636efa"
           },
           "mode": "markers",
           "name": "kmeans",
           "showlegend": true,
           "subplot": "mapbox",
           "type": "scattermapbox"
          },
          {
           "hovertemplate": "algorithm=dbscan<br>Day_of_Week_and_Hour=Wednesday_14_hrs<br>Lat=%{lat}<br>Lon=%{lon}<extra></extra>",
           "lat": [
            40.76038,
            40.723725,
            40.723866666666666,
            40.7238,
            40.749675,
            40.75525,
            40.712633333333336,
            40.709575,
            40.76641428571428,
            40.72432,
            40.73507142857142
           ],
           "legendgroup": "dbscan",
           "lon": [
            -73.97488,
            -74.0006,
            -74.0021,
            -74.00553333333333,
            -73.99510000000001,
            -73.976775,
            -74.00916666666666,
            -74.011375,
            -73.96964285714286,
            -74.00413999999999,
            -73.99115714285713
           ],
           "marker": {
            "color": "#EF553B"
           },
           "mode": "markers",
           "name": "dbscan",
           "showlegend": true,
           "subplot": "mapbox",
           "type": "scattermapbox"
          }
         ],
         "name": "Wednesday_14_hrs"
        },
        {
         "data": [
          {
           "hovertemplate": "algorithm=kmeans<br>Day_of_Week_and_Hour=Wednesday_15_hrs<br>Lat=%{lat}<br>Lon=%{lon}<extra></extra>",
           "lat": [
            40.70285,
            40.75226363636364,
            40.646550000000005,
            40.71886666666666,
            40.775275,
            40.74045714285714,
            40.70715714285715,
            40.7442625,
            40.761138095238096,
            40.71684444444444,
            40.7610375,
            40.7249,
            40.768025,
            40.693250000000006,
            40.766380000000005,
            40.78865,
            40.73085,
            40.75182
           ],
           "legendgroup": "kmeans",
           "lon": [
            -74.19335000000001,
            -73.97928181818182,
            -73.7897,
            -73.99323333333332,
            -73.960425,
            -73.98949523809523,
            -74.01055714285714,
            -74.0046875,
            -73.97312857142857,
            -74.00966666666666,
            -73.9851375,
            -73.998825,
            -73.984175,
            -73.99055,
            -73.96408,
            -73.9479,
            -73.990575,
            -73.99278
           ],
           "marker": {
            "color": "#636efa"
           },
           "mode": "markers",
           "name": "kmeans",
           "showlegend": true,
           "subplot": "mapbox",
           "type": "scattermapbox"
          },
          {
           "hovertemplate": "algorithm=dbscan<br>Day_of_Week_and_Hour=Wednesday_15_hrs<br>Lat=%{lat}<br>Lon=%{lon}<extra></extra>",
           "lat": [
            40.768033333333335,
            40.73975,
            40.75873333333333,
            40.76903333333333,
            40.7642375,
            40.7386,
            40.72636666666667,
            40.741225,
            40.7617,
            40.75291111111111,
            40.74512,
            40.76073333333333
           ],
           "legendgroup": "dbscan",
           "lon": [
            -73.96816666666666,
            -73.9888,
            -73.97773333333333,
            -73.96446666666667,
            -73.970475,
            -73.99386666666668,
            -74.0041,
            -73.9928875,
            -73.973925,
            -73.98006666666667,
            -74.00717999999999,
            -73.9826
           ],
           "marker": {
            "color": "#EF553B"
           },
           "mode": "markers",
           "name": "dbscan",
           "showlegend": true,
           "subplot": "mapbox",
           "type": "scattermapbox"
          }
         ],
         "name": "Wednesday_15_hrs"
        },
        {
         "data": [
          {
           "hovertemplate": "algorithm=kmeans<br>Day_of_Week_and_Hour=Wednesday_16_hrs<br>Lat=%{lat}<br>Lon=%{lon}<extra></extra>",
           "lat": [
            40.75254,
            40.64325,
            40.71985,
            40.7711,
            40.77226,
            40.740390909090905,
            40.70656666666667,
            40.74737,
            40.76011,
            40.717125,
            40.76104,
            40.72331111111111,
            40.77,
            40.76416666666667,
            40.77855,
            40.7308,
            40.750725,
            40.67035,
            40.7537,
            40.735075
           ],
           "legendgroup": "kmeans",
           "lon": [
            -73.978565,
            -73.78555,
            -73.98859999999999,
            -73.86775,
            -73.96266,
            -73.99141818181819,
            -74.00776666666667,
            -74.00737000000001,
            -73.974255,
            -74.0099,
            -73.98922,
            -73.99954444444444,
            -73.9851,
            -73.96183333333333,
            -73.95563333333332,
            -73.9935,
            -73.992225,
            -73.96940000000001,
            -73.94205,
            -74.0073
           ],
           "marker": {
            "color": "#636efa"
           },
           "mode": "markers",
           "name": "kmeans",
           "showlegend": true,
           "subplot": "mapbox",
           "type": "scattermapbox"
          },
          {
           "hovertemplate": "algorithm=dbscan<br>Day_of_Week_and_Hour=Wednesday_16_hrs<br>Lat=%{lat}<br>Lon=%{lon}<extra></extra>",
           "lat": [
            40.75483684210526,
            40.71043333333333,
            40.72592,
            40.7425,
            40.76141666666667,
            40.7570375,
            40.7565,
            40.74325,
            40.7228,
            40.75160714285715,
            40.746566666666666,
            40.7600875,
            40.76486666666667,
            40.776925
           ],
           "legendgroup": "dbscan",
           "lon": [
            -73.98227894736841,
            -74.01186666666666,
            -74.0062,
            -73.988,
            -73.98131666666667,
            -73.97915,
            -73.99856666666666,
            -73.9915,
            -74.0065,
            -73.98247857142857,
            -73.98711666666667,
            -73.9730875,
            -73.95516666666667,
            -73.957825
           ],
           "marker": {
            "color": "#EF553B"
           },
           "mode": "markers",
           "name": "dbscan",
           "showlegend": true,
           "subplot": "mapbox",
           "type": "scattermapbox"
          }
         ],
         "name": "Wednesday_16_hrs"
        },
        {
         "data": [
          {
           "hovertemplate": "algorithm=kmeans<br>Day_of_Week_and_Hour=Wednesday_17_hrs<br>Lat=%{lat}<br>Lon=%{lon}<extra></extra>",
           "lat": [
            40.7516,
            40.64495,
            40.72116666666667,
            40.774525,
            40.74216666666667,
            40.7229,
            40.78785,
            40.70576,
            40.74816666666667,
            40.76119565217392,
            40.71694166666666,
            40.7578,
            40.72361818181818,
            40.77035,
            40.76341818181818,
            40.77793333333333,
            40.73021111111112,
            40.75124615384616,
            40.73448333333334
           ],
           "legendgroup": "kmeans",
           "lon": [
            -73.97644666666666,
            -73.7821,
            -73.98776666666667,
            -73.956475,
            -73.98900555555555,
            -73.96215000000001,
            -73.9675,
            -74.01056,
            -74.00555,
            -73.97477391304348,
            -74.01121666666667,
            -73.98376363636363,
            -74.00245454545455,
            -73.98185000000001,
            -73.96566363636363,
            -73.95443333333333,
            -73.98752222222222,
            -73.99021538461538,
            -74.00398333333332
           ],
           "marker": {
            "color": "#636efa"
           },
           "mode": "markers",
           "name": "kmeans",
           "showlegend": true,
           "subplot": "mapbox",
           "type": "scattermapbox"
          },
          {
           "hovertemplate": "algorithm=dbscan<br>Day_of_Week_and_Hour=Wednesday_17_hrs<br>Lat=%{lat}<br>Lon=%{lon}<extra></extra>",
           "lat": [
            40.7645,
            40.7377,
            40.7517,
            40.75685,
            40.76976666666667,
            40.7449,
            40.75493333333333,
            40.75768,
            40.72015,
            40.740825,
            40.75252916666667,
            40.7222,
            40.75241538461538,
            40.7259,
            40.7155,
            40.769850000000005,
            40.72560000000001
           ],
           "legendgroup": "dbscan",
           "lon": [
            -73.976475,
            -73.9898,
            -73.9799,
            -73.981975,
            -73.96566666666666,
            -73.9786,
            -74.00136666666667,
            -73.97526,
            -74.0054,
            -73.987525,
            -73.982175,
            -73.998675,
            -73.98519615384615,
            -74.003825,
            -74.007325,
            -73.9609,
            -73.98926666666667
           ],
           "marker": {
            "color": "#EF553B"
           },
           "mode": "markers",
           "name": "dbscan",
           "showlegend": true,
           "subplot": "mapbox",
           "type": "scattermapbox"
          }
         ],
         "name": "Wednesday_17_hrs"
        },
        {
         "data": [
          {
           "hovertemplate": "algorithm=kmeans<br>Day_of_Week_and_Hour=Wednesday_18_hrs<br>Lat=%{lat}<br>Lon=%{lon}<extra></extra>",
           "lat": [
            40.7519,
            40.6869,
            40.7196,
            40.77385,
            40.771640000000005,
            40.74105,
            40.78876,
            40.70885,
            40.74470909090909,
            40.75969333333333,
            40.7155,
            40.759640000000005,
            40.72544,
            40.76192,
            40.77875,
            40.7294,
            40.7028,
            40.75192857142857,
            40.7356625
           ],
           "legendgroup": "kmeans",
           "lon": [
            -73.97864,
            -73.97749999999999,
            -73.988325,
            -73.87299999999999,
            -73.95894,
            -73.98923888888889,
            -73.97498,
            -74.00475,
            -74.00563636363637,
            -73.97264666666666,
            -74.01295999999999,
            -73.98532,
            -74.00237999999999,
            -73.96248,
            -73.95335,
            -73.9905,
            -73.98865,
            -73.99130714285715,
            -74.0029
           ],
           "marker": {
            "color": "#636efa"
           },
           "mode": "markers",
           "name": "kmeans",
           "showlegend": true,
           "subplot": "mapbox",
           "type": "scattermapbox"
          },
          {
           "hovertemplate": "algorithm=dbscan<br>Day_of_Week_and_Hour=Wednesday_18_hrs<br>Lat=%{lat}<br>Lon=%{lon}<extra></extra>",
           "lat": [
            40.724475,
            40.757666666666665,
            40.7233,
            40.76255,
            40.745925,
            40.759690909090914,
            40.72024,
            40.7408,
            40.75805555555556,
            40.7124,
            40.7355962962963,
            40.77113333333333,
            40.75964
           ],
           "legendgroup": "dbscan",
           "lon": [
            -74.002625,
            -73.9786,
            -74.00468000000001,
            -73.97037499999999,
            -73.988225,
            -73.97913636363637,
            -74.00846,
            -73.98882499999999,
            -73.9746,
            -74.0111,
            -74.00054074074075,
            -73.95668333333333,
            -73.97806666666666
           ],
           "marker": {
            "color": "#EF553B"
           },
           "mode": "markers",
           "name": "dbscan",
           "showlegend": true,
           "subplot": "mapbox",
           "type": "scattermapbox"
          }
         ],
         "name": "Wednesday_18_hrs"
        },
        {
         "data": [
          {
           "hovertemplate": "algorithm=kmeans<br>Day_of_Week_and_Hour=Wednesday_19_hrs<br>Lat=%{lat}<br>Lon=%{lon}<extra></extra>",
           "lat": [
            40.75310714285714,
            40.71898571428572,
            40.76974,
            40.77495,
            40.74058333333333,
            40.72285,
            40.70616666666667,
            40.74607,
            40.76057142857143,
            40.71725,
            40.76181666666667,
            40.726866666666666,
            40.76876666666666,
            40.76306666666667,
            40.72765,
            40.7021,
            40.7513875,
            40.733575
           ],
           "legendgroup": "kmeans",
           "lon": [
            -73.97803571428571,
            -73.9883,
            -73.86762,
            -73.95474999999999,
            -73.98856666666667,
            -73.959,
            -74.009,
            -74.00417999999999,
            -73.97569285714285,
            -74.00718333333333,
            -73.98378333333334,
            -74.00151666666666,
            -73.98396666666666,
            -73.9646,
            -73.99029999999999,
            -73.98855,
            -73.9915125,
            -74.00319999999999
           ],
           "marker": {
            "color": "#636efa"
           },
           "mode": "markers",
           "name": "kmeans",
           "showlegend": true,
           "subplot": "mapbox",
           "type": "scattermapbox"
          },
          {
           "hovertemplate": "algorithm=dbscan<br>Day_of_Week_and_Hour=Wednesday_19_hrs<br>Lat=%{lat}<br>Lon=%{lon}<extra></extra>",
           "lat": [
            40.758125,
            40.7426,
            40.755425,
            40.75808333333333,
            40.75965,
            40.742075,
            40.72626666666667,
            40.74537708333333
           ],
           "legendgroup": "dbscan",
           "lon": [
            -73.9755,
            -73.98646666666666,
            -73.975675,
            -73.97748333333334,
            -73.98026666666667,
            -73.9919,
            -73.9977,
            -73.99163958333334
           ],
           "marker": {
            "color": "#EF553B"
           },
           "mode": "markers",
           "name": "dbscan",
           "showlegend": true,
           "subplot": "mapbox",
           "type": "scattermapbox"
          }
         ],
         "name": "Wednesday_19_hrs"
        },
        {
         "data": [
          {
           "hovertemplate": "algorithm=kmeans<br>Day_of_Week_and_Hour=Wednesday_1_hrs<br>Lat=%{lat}<br>Lon=%{lon}<extra></extra>",
           "lat": [
            40.71615
           ],
           "legendgroup": "kmeans",
           "lon": [
            -73.96085
           ],
           "marker": {
            "color": "#636efa"
           },
           "mode": "markers",
           "name": "kmeans",
           "showlegend": true,
           "subplot": "mapbox",
           "type": "scattermapbox"
          }
         ],
         "name": "Wednesday_1_hrs"
        },
        {
         "data": [
          {
           "hovertemplate": "algorithm=kmeans<br>Day_of_Week_and_Hour=Wednesday_20_hrs<br>Lat=%{lat}<br>Lon=%{lon}<extra></extra>",
           "lat": [
            40.753031578947365,
            40.721916666666665,
            40.771,
            40.77266,
            40.74136666666666,
            40.72,
            40.7067,
            40.74575454545455,
            40.761545454545455,
            40.71835,
            40.759883333333335,
            40.72484545454545,
            40.77016666666666,
            40.72715,
            40.76455,
            40.7793,
            40.72992222222222,
            40.75334285714285,
            40.7336125
           ],
           "legendgroup": "kmeans",
           "lon": [
            -73.97826842105263,
            -73.99028333333332,
            -73.87355000000001,
            -73.95848,
            -73.98795,
            -73.95778333333332,
            -74.0113,
            -74.00867272727272,
            -73.9767,
            -74.01158749999999,
            -73.9855,
            -74.00283636363636,
            -73.98526666666667,
            -74.03547499999999,
            -73.96485,
            -73.95689999999999,
            -73.98803333333333,
            -73.99124285714286,
            -74.0009625
           ],
           "marker": {
            "color": "#636efa"
           },
           "mode": "markers",
           "name": "kmeans",
           "showlegend": true,
           "subplot": "mapbox",
           "type": "scattermapbox"
          },
          {
           "hovertemplate": "algorithm=dbscan<br>Day_of_Week_and_Hour=Wednesday_20_hrs<br>Lat=%{lat}<br>Lon=%{lon}<extra></extra>",
           "lat": [
            40.761825,
            40.75656666666666,
            40.75028,
            40.76021428571429,
            40.719366666666666,
            40.757125,
            40.76122857142857,
            40.7219,
            40.75196666666667,
            40.7418,
            40.74038620689655,
            40.76153846153846
           ],
           "legendgroup": "dbscan",
           "lon": [
            -73.970425,
            -73.9834,
            -73.99278,
            -73.97602857142859,
            -74,
            -73.9707,
            -73.97557142857143,
            -74.00175,
            -73.9869,
            -73.9876,
            -73.9941448275862,
            -73.97623846153846
           ],
           "marker": {
            "color": "#EF553B"
           },
           "mode": "markers",
           "name": "dbscan",
           "showlegend": true,
           "subplot": "mapbox",
           "type": "scattermapbox"
          }
         ],
         "name": "Wednesday_20_hrs"
        },
        {
         "data": [
          {
           "hovertemplate": "algorithm=kmeans<br>Day_of_Week_and_Hour=Wednesday_21_hrs<br>Lat=%{lat}<br>Lon=%{lon}<extra></extra>",
           "lat": [
            40.752675,
            40.646033333333335,
            40.721125,
            40.774,
            40.741084615384615,
            40.674850000000006,
            40.71845,
            40.70686,
            40.743341666666666,
            40.83825,
            40.76176,
            40.719620000000006,
            40.76076666666666,
            40.72628,
            40.77765,
            40.6867,
            40.7325,
            40.78293333333333,
            40.730266666666665,
            40.75082857142858,
            40.7348125
           ],
           "legendgroup": "kmeans",
           "lon": [
            -73.977875,
            -73.7867,
            -73.9909,
            -73.8726,
            -73.99101538461538,
            -73.9288,
            -73.9538,
            -74.00847999999999,
            -74.00556666666667,
            -73.9325,
            -73.97569333333334,
            -74.01097999999999,
            -73.98673333333333,
            -74.00234,
            -73.97785,
            -73.99640000000001,
            -74.033525,
            -73.9525,
            -73.98776666666667,
            -73.98967142857144,
            -74.0023875
           ],
           "marker": {
            "color": "#636efa"
           },
           "mode": "markers",
           "name": "kmeans",
           "showlegend": true,
           "subplot": "mapbox",
           "type": "scattermapbox"
          },
          {
           "hovertemplate": "algorithm=dbscan<br>Day_of_Week_and_Hour=Wednesday_21_hrs<br>Lat=%{lat}<br>Lon=%{lon}<extra></extra>",
           "lat": [
            40.7307,
            40.75615,
            40.754425,
            40.73929166666667,
            40.7209,
            40.76116666666667,
            40.7415,
            40.75826,
            40.7459
           ],
           "legendgroup": "dbscan",
           "lon": [
            -74.0011090909091,
            -73.98625,
            -73.986,
            -73.99016666666667,
            -74.00086666666667,
            -73.9735,
            -73.9985090909091,
            -73.98128,
            -73.98922068965517
           ],
           "marker": {
            "color": "#EF553B"
           },
           "mode": "markers",
           "name": "dbscan",
           "showlegend": true,
           "subplot": "mapbox",
           "type": "scattermapbox"
          }
         ],
         "name": "Wednesday_21_hrs"
        },
        {
         "data": [
          {
           "hovertemplate": "algorithm=kmeans<br>Day_of_Week_and_Hour=Wednesday_22_hrs<br>Lat=%{lat}<br>Lon=%{lon}<extra></extra>",
           "lat": [
            40.7501,
            40.64586666666667,
            40.741166666666665,
            40.71523333333334,
            40.74191666666667,
            40.761880000000005,
            40.66863333333333,
            40.71635,
            40.76166363636364,
            40.68525,
            40.75655,
            40.728922222222224,
            40.75155,
            40.734425
           ],
           "legendgroup": "kmeans",
           "lon": [
            -73.9844,
            -73.78276666666666,
            -73.98826666666666,
            -73.96133333333333,
            -74.0049,
            -73.97502,
            -73.99586666666666,
            -74.00885,
            -73.9860909090909,
            -73.95495,
            -73.96270000000001,
            -73.98851111111111,
            -73.99033333333334,
            -73.999525
           ],
           "marker": {
            "color": "#636efa"
           },
           "mode": "markers",
           "name": "kmeans",
           "showlegend": true,
           "subplot": "mapbox",
           "type": "scattermapbox"
          },
          {
           "hovertemplate": "algorithm=dbscan<br>Day_of_Week_and_Hour=Wednesday_22_hrs<br>Lat=%{lat}<br>Lon=%{lon}<extra></extra>",
           "lat": [
            40.76,
            40.754325,
            40.71887777777778,
            40.74692413793104,
            40.70743333333333
           ],
           "legendgroup": "dbscan",
           "lon": [
            -73.980375,
            -73.984375,
            -74.00016666666666,
            -73.9886172413793,
            -74.01073333333333
           ],
           "marker": {
            "color": "#EF553B"
           },
           "mode": "markers",
           "name": "dbscan",
           "showlegend": true,
           "subplot": "mapbox",
           "type": "scattermapbox"
          }
         ],
         "name": "Wednesday_22_hrs"
        },
        {
         "data": [
          {
           "hovertemplate": "algorithm=kmeans<br>Day_of_Week_and_Hour=Wednesday_23_hrs<br>Lat=%{lat}<br>Lon=%{lon}<extra></extra>",
           "lat": [
            40.6466,
            40.77175,
            40.7422,
            40.70746666666667,
            40.74333333333333,
            40.7596,
            40.71595,
            40.7622,
            40.72685,
            40.736125
           ],
           "legendgroup": "kmeans",
           "lon": [
            -73.78046666666667,
            -73.87045,
            -73.9896,
            -74.00983333333333,
            -74.00636666666666,
            -73.97423333333334,
            -74.02145,
            -73.99369999999999,
            -73.98615,
            -73.998625
           ],
           "marker": {
            "color": "#636efa"
           },
           "mode": "markers",
           "name": "kmeans",
           "showlegend": true,
           "subplot": "mapbox",
           "type": "scattermapbox"
          },
          {
           "hovertemplate": "algorithm=dbscan<br>Day_of_Week_and_Hour=Wednesday_23_hrs<br>Lat=%{lat}<br>Lon=%{lon}<extra></extra>",
           "lat": [
            40.712825
           ],
           "legendgroup": "dbscan",
           "lon": [
            -74.010175
           ],
           "marker": {
            "color": "#EF553B"
           },
           "mode": "markers",
           "name": "dbscan",
           "showlegend": true,
           "subplot": "mapbox",
           "type": "scattermapbox"
          }
         ],
         "name": "Wednesday_23_hrs"
        },
        {
         "data": [
          {
           "hovertemplate": "algorithm=kmeans<br>Day_of_Week_and_Hour=Wednesday_4_hrs<br>Lat=%{lat}<br>Lon=%{lon}<extra></extra>",
           "lat": [
            40.7487,
            40.73855
           ],
           "legendgroup": "kmeans",
           "lon": [
            -73.97625,
            -74.00319999999999
           ],
           "marker": {
            "color": "#636efa"
           },
           "mode": "markers",
           "name": "kmeans",
           "showlegend": true,
           "subplot": "mapbox",
           "type": "scattermapbox"
          }
         ],
         "name": "Wednesday_4_hrs"
        },
        {
         "data": [
          {
           "hovertemplate": "algorithm=kmeans<br>Day_of_Week_and_Hour=Wednesday_5_hrs<br>Lat=%{lat}<br>Lon=%{lon}<extra></extra>",
           "lat": [
            40.7505,
            40.7174,
            40.77685,
            40.72705,
            40.749,
            40.73793333333333
           ],
           "legendgroup": "kmeans",
           "lon": [
            -74.0034,
            -74.008,
            -73.98554999999999,
            -73.980725,
            -73.99036666666667,
            -74.00673333333333
           ],
           "marker": {
            "color": "#636efa"
           },
           "mode": "markers",
           "name": "kmeans",
           "showlegend": true,
           "subplot": "mapbox",
           "type": "scattermapbox"
          }
         ],
         "name": "Wednesday_5_hrs"
        },
        {
         "data": [
          {
           "hovertemplate": "algorithm=kmeans<br>Day_of_Week_and_Hour=Wednesday_6_hrs<br>Lat=%{lat}<br>Lon=%{lon}<extra></extra>",
           "lat": [
            40.68495,
            40.645,
            40.77303333333333,
            40.78735,
            40.707233333333335,
            40.7442,
            40.76015,
            40.71905,
            40.7622,
            40.7236,
            40.76956666666667,
            40.6877,
            40.713233333333335,
            40.77805,
            40.728275,
            40.751450000000006,
            40.73712
           ],
           "legendgroup": "kmeans",
           "lon": [
            -73.96195,
            -73.7818,
            -73.95763333333333,
            -73.9756,
            -74.0081,
            -74.0046,
            -73.97585000000001,
            -74.01214999999999,
            -73.9877,
            -73.99841428571429,
            -73.98236666666666,
            -73.98695000000001,
            -73.94435,
            -73.951,
            -73.982125,
            -73.9885,
            -74.00576
           ],
           "marker": {
            "color": "#636efa"
           },
           "mode": "markers",
           "name": "kmeans",
           "showlegend": true,
           "subplot": "mapbox",
           "type": "scattermapbox"
          },
          {
           "hovertemplate": "algorithm=dbscan<br>Day_of_Week_and_Hour=Wednesday_6_hrs<br>Lat=%{lat}<br>Lon=%{lon}<extra></extra>",
           "lat": [
            40.73446666666667,
            40.77538,
            40.77148333333333
           ],
           "legendgroup": "dbscan",
           "lon": [
            -74.00128333333333,
            -73.95554,
            -73.9592
           ],
           "marker": {
            "color": "#EF553B"
           },
           "mode": "markers",
           "name": "dbscan",
           "showlegend": true,
           "subplot": "mapbox",
           "type": "scattermapbox"
          }
         ],
         "name": "Wednesday_6_hrs"
        },
        {
         "data": [
          {
           "hovertemplate": "algorithm=kmeans<br>Day_of_Week_and_Hour=Wednesday_7_hrs<br>Lat=%{lat}<br>Lon=%{lon}<extra></extra>",
           "lat": [
            40.74874285714286,
            40.72175,
            40.772,
            40.74058333333333,
            40.7188,
            40.6168,
            40.78557142857143,
            40.74568,
            40.75955,
            40.71565,
            40.76221666666667,
            40.7247,
            40.77345,
            40.691950000000006,
            40.6836,
            40.77806666666667,
            40.7297625,
            40.7548,
            40.733175
           ],
           "legendgroup": "kmeans",
           "lon": [
            -73.97879999999999,
            -73.99073333333334,
            -73.95844444444444,
            -73.98761666666667,
            -73.95736666666666,
            -74.01335,
            -73.9747,
            -74.00431999999999,
            -73.97149999999999,
            -74.0078,
            -73.99381666666666,
            -74.00202,
            -73.98456666666667,
            -73.9845,
            -73.94735,
            -73.95118333333333,
            -73.9806375,
            -73.99154999999999,
            -74.00325000000001
           ],
           "marker": {
            "color": "#636efa"
           },
           "mode": "markers",
           "name": "kmeans",
           "showlegend": true,
           "subplot": "mapbox",
           "type": "scattermapbox"
          },
          {
           "hovertemplate": "algorithm=dbscan<br>Day_of_Week_and_Hour=Wednesday_7_hrs<br>Lat=%{lat}<br>Lon=%{lon}<extra></extra>",
           "lat": [
            40.77375,
            40.77826666666667,
            40.776225,
            40.78776666666666,
            40.77793333333333,
            40.72728333333333,
            40.72013333333333
           ],
           "legendgroup": "dbscan",
           "lon": [
            -73.9487,
            -73.9523,
            -73.95422500000001,
            -73.97733333333333,
            -73.95826666666666,
            -73.9979,
            -74.00488333333332
           ],
           "marker": {
            "color": "#EF553B"
           },
           "mode": "markers",
           "name": "dbscan",
           "showlegend": true,
           "subplot": "mapbox",
           "type": "scattermapbox"
          }
         ],
         "name": "Wednesday_7_hrs"
        },
        {
         "data": [
          {
           "hovertemplate": "algorithm=kmeans<br>Day_of_Week_and_Hour=Wednesday_8_hrs<br>Lat=%{lat}<br>Lon=%{lon}<extra></extra>",
           "lat": [
            40.7508,
            40.72193333333333,
            40.7718,
            40.77278333333333,
            40.737925,
            40.6804,
            40.79078571428572,
            40.70976666666667,
            40.7439,
            40.76043333333333,
            40.71815,
            40.72513333333333,
            40.76923333333333,
            40.68535,
            40.76564285714286,
            40.7759,
            40.73034444444445,
            40.75176666666667,
            40.676550000000006,
            40.73625
           ],
           "legendgroup": "kmeans",
           "lon": [
            -73.97710000000001,
            -73.98675,
            -73.87548,
            -73.9575,
            -73.98005,
            -73.93455,
            -73.97248571428572,
            -74.00886666666666,
            -74.0032,
            -73.97313333333334,
            -74.00425,
            -74.0005,
            -73.98806666666667,
            -73.99645000000001,
            -73.96379999999999,
            -73.9488,
            -73.98502222222221,
            -73.9918,
            -73.9734,
            -74.00252499999999
           ],
           "marker": {
            "color": "#636efa"
           },
           "mode": "markers",
           "name": "kmeans",
           "showlegend": true,
           "subplot": "mapbox",
           "type": "scattermapbox"
          },
          {
           "hovertemplate": "algorithm=dbscan<br>Day_of_Week_and_Hour=Wednesday_8_hrs<br>Lat=%{lat}<br>Lon=%{lon}<extra></extra>",
           "lat": [
            40.7314625,
            40.77235454545455,
            40.74023,
            40.7697
           ],
           "legendgroup": "dbscan",
           "lon": [
            -73.9917875,
            -73.95675454545454,
            -73.98997,
            -73.98666666666666
           ],
           "marker": {
            "color": "#EF553B"
           },
           "mode": "markers",
           "name": "dbscan",
           "showlegend": true,
           "subplot": "mapbox",
           "type": "scattermapbox"
          }
         ],
         "name": "Wednesday_8_hrs"
        },
        {
         "data": [
          {
           "hovertemplate": "algorithm=kmeans<br>Day_of_Week_and_Hour=Wednesday_9_hrs<br>Lat=%{lat}<br>Lon=%{lon}<extra></extra>",
           "lat": [
            40.75545,
            40.71905,
            40.77375,
            40.7711,
            40.7421,
            40.6836,
            40.7215,
            40.7854,
            40.70735,
            40.74685,
            40.76035,
            40.7635,
            40.75955,
            40.723957142857145,
            40.77505,
            40.6924,
            40.76162,
            40.7828,
            40.730266666666665,
            40.748825,
            40.73235
           ],
           "legendgroup": "kmeans",
           "lon": [
            -73.98315,
            -73.9876,
            -73.87545,
            -73.95658333333334,
            -73.9905,
            -73.93455,
            -73.96260000000001,
            -73.97443333333332,
            -74.00955,
            -74.0048,
            -73.9243,
            -73.97568,
            -73.9886,
            -74.00075714285715,
            -73.98045,
            -73.99625,
            -73.96348,
            -73.94663333333334,
            -73.98666666666666,
            -73.989625,
            -74.00413333333334
           ],
           "marker": {
            "color": "#636efa"
           },
           "mode": "markers",
           "name": "kmeans",
           "showlegend": true,
           "subplot": "mapbox",
           "type": "scattermapbox"
          },
          {
           "hovertemplate": "algorithm=dbscan<br>Day_of_Week_and_Hour=Wednesday_9_hrs<br>Lat=%{lat}<br>Lon=%{lon}<extra></extra>",
           "lat": [
            40.755833333333335,
            40.7238,
            40.76441666666667,
            40.74318333333333
           ],
           "legendgroup": "dbscan",
           "lon": [
            -73.98643333333332,
            -73.9912,
            -73.96470000000001,
            -73.98951666666666
           ],
           "marker": {
            "color": "#EF553B"
           },
           "mode": "markers",
           "name": "dbscan",
           "showlegend": true,
           "subplot": "mapbox",
           "type": "scattermapbox"
          }
         ],
         "name": "Wednesday_9_hrs"
        }
       ],
       "layout": {
        "legend": {
         "title": {
          "text": "algorithm"
         },
         "tracegroupgap": 0
        },
        "mapbox": {
         "center": {
          "lat": 40.740075979189605,
          "lon": -73.97922632177652
         },
         "domain": {
          "x": [
           0,
           1
          ],
          "y": [
           0,
           1
          ]
         },
         "style": "open-street-map",
         "zoom": 10
        },
        "margin": {
         "t": 60
        },
        "sliders": [
         {
          "active": 0,
          "currentvalue": {
           "prefix": "Day_of_Week_and_Hour="
          },
          "len": 0.9,
          "pad": {
           "b": 10,
           "t": 60
          },
          "steps": [
           {
            "args": [
             [
              "Friday_0_hrs"
             ],
             {
              "frame": {
               "duration": 0,
               "redraw": true
              },
              "fromcurrent": true,
              "mode": "immediate",
              "transition": {
               "duration": 0,
               "easing": "linear"
              }
             }
            ],
            "label": "Friday_0_hrs",
            "method": "animate"
           },
           {
            "args": [
             [
              "Friday_10_hrs"
             ],
             {
              "frame": {
               "duration": 0,
               "redraw": true
              },
              "fromcurrent": true,
              "mode": "immediate",
              "transition": {
               "duration": 0,
               "easing": "linear"
              }
             }
            ],
            "label": "Friday_10_hrs",
            "method": "animate"
           },
           {
            "args": [
             [
              "Friday_11_hrs"
             ],
             {
              "frame": {
               "duration": 0,
               "redraw": true
              },
              "fromcurrent": true,
              "mode": "immediate",
              "transition": {
               "duration": 0,
               "easing": "linear"
              }
             }
            ],
            "label": "Friday_11_hrs",
            "method": "animate"
           },
           {
            "args": [
             [
              "Friday_12_hrs"
             ],
             {
              "frame": {
               "duration": 0,
               "redraw": true
              },
              "fromcurrent": true,
              "mode": "immediate",
              "transition": {
               "duration": 0,
               "easing": "linear"
              }
             }
            ],
            "label": "Friday_12_hrs",
            "method": "animate"
           },
           {
            "args": [
             [
              "Friday_13_hrs"
             ],
             {
              "frame": {
               "duration": 0,
               "redraw": true
              },
              "fromcurrent": true,
              "mode": "immediate",
              "transition": {
               "duration": 0,
               "easing": "linear"
              }
             }
            ],
            "label": "Friday_13_hrs",
            "method": "animate"
           },
           {
            "args": [
             [
              "Friday_14_hrs"
             ],
             {
              "frame": {
               "duration": 0,
               "redraw": true
              },
              "fromcurrent": true,
              "mode": "immediate",
              "transition": {
               "duration": 0,
               "easing": "linear"
              }
             }
            ],
            "label": "Friday_14_hrs",
            "method": "animate"
           },
           {
            "args": [
             [
              "Friday_15_hrs"
             ],
             {
              "frame": {
               "duration": 0,
               "redraw": true
              },
              "fromcurrent": true,
              "mode": "immediate",
              "transition": {
               "duration": 0,
               "easing": "linear"
              }
             }
            ],
            "label": "Friday_15_hrs",
            "method": "animate"
           },
           {
            "args": [
             [
              "Friday_16_hrs"
             ],
             {
              "frame": {
               "duration": 0,
               "redraw": true
              },
              "fromcurrent": true,
              "mode": "immediate",
              "transition": {
               "duration": 0,
               "easing": "linear"
              }
             }
            ],
            "label": "Friday_16_hrs",
            "method": "animate"
           },
           {
            "args": [
             [
              "Friday_17_hrs"
             ],
             {
              "frame": {
               "duration": 0,
               "redraw": true
              },
              "fromcurrent": true,
              "mode": "immediate",
              "transition": {
               "duration": 0,
               "easing": "linear"
              }
             }
            ],
            "label": "Friday_17_hrs",
            "method": "animate"
           },
           {
            "args": [
             [
              "Friday_18_hrs"
             ],
             {
              "frame": {
               "duration": 0,
               "redraw": true
              },
              "fromcurrent": true,
              "mode": "immediate",
              "transition": {
               "duration": 0,
               "easing": "linear"
              }
             }
            ],
            "label": "Friday_18_hrs",
            "method": "animate"
           },
           {
            "args": [
             [
              "Friday_19_hrs"
             ],
             {
              "frame": {
               "duration": 0,
               "redraw": true
              },
              "fromcurrent": true,
              "mode": "immediate",
              "transition": {
               "duration": 0,
               "easing": "linear"
              }
             }
            ],
            "label": "Friday_19_hrs",
            "method": "animate"
           },
           {
            "args": [
             [
              "Friday_1_hrs"
             ],
             {
              "frame": {
               "duration": 0,
               "redraw": true
              },
              "fromcurrent": true,
              "mode": "immediate",
              "transition": {
               "duration": 0,
               "easing": "linear"
              }
             }
            ],
            "label": "Friday_1_hrs",
            "method": "animate"
           },
           {
            "args": [
             [
              "Friday_20_hrs"
             ],
             {
              "frame": {
               "duration": 0,
               "redraw": true
              },
              "fromcurrent": true,
              "mode": "immediate",
              "transition": {
               "duration": 0,
               "easing": "linear"
              }
             }
            ],
            "label": "Friday_20_hrs",
            "method": "animate"
           },
           {
            "args": [
             [
              "Friday_21_hrs"
             ],
             {
              "frame": {
               "duration": 0,
               "redraw": true
              },
              "fromcurrent": true,
              "mode": "immediate",
              "transition": {
               "duration": 0,
               "easing": "linear"
              }
             }
            ],
            "label": "Friday_21_hrs",
            "method": "animate"
           },
           {
            "args": [
             [
              "Friday_22_hrs"
             ],
             {
              "frame": {
               "duration": 0,
               "redraw": true
              },
              "fromcurrent": true,
              "mode": "immediate",
              "transition": {
               "duration": 0,
               "easing": "linear"
              }
             }
            ],
            "label": "Friday_22_hrs",
            "method": "animate"
           },
           {
            "args": [
             [
              "Friday_23_hrs"
             ],
             {
              "frame": {
               "duration": 0,
               "redraw": true
              },
              "fromcurrent": true,
              "mode": "immediate",
              "transition": {
               "duration": 0,
               "easing": "linear"
              }
             }
            ],
            "label": "Friday_23_hrs",
            "method": "animate"
           },
           {
            "args": [
             [
              "Friday_3_hrs"
             ],
             {
              "frame": {
               "duration": 0,
               "redraw": true
              },
              "fromcurrent": true,
              "mode": "immediate",
              "transition": {
               "duration": 0,
               "easing": "linear"
              }
             }
            ],
            "label": "Friday_3_hrs",
            "method": "animate"
           },
           {
            "args": [
             [
              "Friday_4_hrs"
             ],
             {
              "frame": {
               "duration": 0,
               "redraw": true
              },
              "fromcurrent": true,
              "mode": "immediate",
              "transition": {
               "duration": 0,
               "easing": "linear"
              }
             }
            ],
            "label": "Friday_4_hrs",
            "method": "animate"
           },
           {
            "args": [
             [
              "Friday_5_hrs"
             ],
             {
              "frame": {
               "duration": 0,
               "redraw": true
              },
              "fromcurrent": true,
              "mode": "immediate",
              "transition": {
               "duration": 0,
               "easing": "linear"
              }
             }
            ],
            "label": "Friday_5_hrs",
            "method": "animate"
           },
           {
            "args": [
             [
              "Friday_6_hrs"
             ],
             {
              "frame": {
               "duration": 0,
               "redraw": true
              },
              "fromcurrent": true,
              "mode": "immediate",
              "transition": {
               "duration": 0,
               "easing": "linear"
              }
             }
            ],
            "label": "Friday_6_hrs",
            "method": "animate"
           },
           {
            "args": [
             [
              "Friday_7_hrs"
             ],
             {
              "frame": {
               "duration": 0,
               "redraw": true
              },
              "fromcurrent": true,
              "mode": "immediate",
              "transition": {
               "duration": 0,
               "easing": "linear"
              }
             }
            ],
            "label": "Friday_7_hrs",
            "method": "animate"
           },
           {
            "args": [
             [
              "Friday_8_hrs"
             ],
             {
              "frame": {
               "duration": 0,
               "redraw": true
              },
              "fromcurrent": true,
              "mode": "immediate",
              "transition": {
               "duration": 0,
               "easing": "linear"
              }
             }
            ],
            "label": "Friday_8_hrs",
            "method": "animate"
           },
           {
            "args": [
             [
              "Friday_9_hrs"
             ],
             {
              "frame": {
               "duration": 0,
               "redraw": true
              },
              "fromcurrent": true,
              "mode": "immediate",
              "transition": {
               "duration": 0,
               "easing": "linear"
              }
             }
            ],
            "label": "Friday_9_hrs",
            "method": "animate"
           },
           {
            "args": [
             [
              "Monday_0_hrs"
             ],
             {
              "frame": {
               "duration": 0,
               "redraw": true
              },
              "fromcurrent": true,
              "mode": "immediate",
              "transition": {
               "duration": 0,
               "easing": "linear"
              }
             }
            ],
            "label": "Monday_0_hrs",
            "method": "animate"
           },
           {
            "args": [
             [
              "Monday_10_hrs"
             ],
             {
              "frame": {
               "duration": 0,
               "redraw": true
              },
              "fromcurrent": true,
              "mode": "immediate",
              "transition": {
               "duration": 0,
               "easing": "linear"
              }
             }
            ],
            "label": "Monday_10_hrs",
            "method": "animate"
           },
           {
            "args": [
             [
              "Monday_11_hrs"
             ],
             {
              "frame": {
               "duration": 0,
               "redraw": true
              },
              "fromcurrent": true,
              "mode": "immediate",
              "transition": {
               "duration": 0,
               "easing": "linear"
              }
             }
            ],
            "label": "Monday_11_hrs",
            "method": "animate"
           },
           {
            "args": [
             [
              "Monday_12_hrs"
             ],
             {
              "frame": {
               "duration": 0,
               "redraw": true
              },
              "fromcurrent": true,
              "mode": "immediate",
              "transition": {
               "duration": 0,
               "easing": "linear"
              }
             }
            ],
            "label": "Monday_12_hrs",
            "method": "animate"
           },
           {
            "args": [
             [
              "Monday_13_hrs"
             ],
             {
              "frame": {
               "duration": 0,
               "redraw": true
              },
              "fromcurrent": true,
              "mode": "immediate",
              "transition": {
               "duration": 0,
               "easing": "linear"
              }
             }
            ],
            "label": "Monday_13_hrs",
            "method": "animate"
           },
           {
            "args": [
             [
              "Monday_14_hrs"
             ],
             {
              "frame": {
               "duration": 0,
               "redraw": true
              },
              "fromcurrent": true,
              "mode": "immediate",
              "transition": {
               "duration": 0,
               "easing": "linear"
              }
             }
            ],
            "label": "Monday_14_hrs",
            "method": "animate"
           },
           {
            "args": [
             [
              "Monday_15_hrs"
             ],
             {
              "frame": {
               "duration": 0,
               "redraw": true
              },
              "fromcurrent": true,
              "mode": "immediate",
              "transition": {
               "duration": 0,
               "easing": "linear"
              }
             }
            ],
            "label": "Monday_15_hrs",
            "method": "animate"
           },
           {
            "args": [
             [
              "Monday_16_hrs"
             ],
             {
              "frame": {
               "duration": 0,
               "redraw": true
              },
              "fromcurrent": true,
              "mode": "immediate",
              "transition": {
               "duration": 0,
               "easing": "linear"
              }
             }
            ],
            "label": "Monday_16_hrs",
            "method": "animate"
           },
           {
            "args": [
             [
              "Monday_17_hrs"
             ],
             {
              "frame": {
               "duration": 0,
               "redraw": true
              },
              "fromcurrent": true,
              "mode": "immediate",
              "transition": {
               "duration": 0,
               "easing": "linear"
              }
             }
            ],
            "label": "Monday_17_hrs",
            "method": "animate"
           },
           {
            "args": [
             [
              "Monday_18_hrs"
             ],
             {
              "frame": {
               "duration": 0,
               "redraw": true
              },
              "fromcurrent": true,
              "mode": "immediate",
              "transition": {
               "duration": 0,
               "easing": "linear"
              }
             }
            ],
            "label": "Monday_18_hrs",
            "method": "animate"
           },
           {
            "args": [
             [
              "Monday_19_hrs"
             ],
             {
              "frame": {
               "duration": 0,
               "redraw": true
              },
              "fromcurrent": true,
              "mode": "immediate",
              "transition": {
               "duration": 0,
               "easing": "linear"
              }
             }
            ],
            "label": "Monday_19_hrs",
            "method": "animate"
           },
           {
            "args": [
             [
              "Monday_20_hrs"
             ],
             {
              "frame": {
               "duration": 0,
               "redraw": true
              },
              "fromcurrent": true,
              "mode": "immediate",
              "transition": {
               "duration": 0,
               "easing": "linear"
              }
             }
            ],
            "label": "Monday_20_hrs",
            "method": "animate"
           },
           {
            "args": [
             [
              "Monday_21_hrs"
             ],
             {
              "frame": {
               "duration": 0,
               "redraw": true
              },
              "fromcurrent": true,
              "mode": "immediate",
              "transition": {
               "duration": 0,
               "easing": "linear"
              }
             }
            ],
            "label": "Monday_21_hrs",
            "method": "animate"
           },
           {
            "args": [
             [
              "Monday_22_hrs"
             ],
             {
              "frame": {
               "duration": 0,
               "redraw": true
              },
              "fromcurrent": true,
              "mode": "immediate",
              "transition": {
               "duration": 0,
               "easing": "linear"
              }
             }
            ],
            "label": "Monday_22_hrs",
            "method": "animate"
           },
           {
            "args": [
             [
              "Monday_23_hrs"
             ],
             {
              "frame": {
               "duration": 0,
               "redraw": true
              },
              "fromcurrent": true,
              "mode": "immediate",
              "transition": {
               "duration": 0,
               "easing": "linear"
              }
             }
            ],
            "label": "Monday_23_hrs",
            "method": "animate"
           },
           {
            "args": [
             [
              "Monday_3_hrs"
             ],
             {
              "frame": {
               "duration": 0,
               "redraw": true
              },
              "fromcurrent": true,
              "mode": "immediate",
              "transition": {
               "duration": 0,
               "easing": "linear"
              }
             }
            ],
            "label": "Monday_3_hrs",
            "method": "animate"
           },
           {
            "args": [
             [
              "Monday_4_hrs"
             ],
             {
              "frame": {
               "duration": 0,
               "redraw": true
              },
              "fromcurrent": true,
              "mode": "immediate",
              "transition": {
               "duration": 0,
               "easing": "linear"
              }
             }
            ],
            "label": "Monday_4_hrs",
            "method": "animate"
           },
           {
            "args": [
             [
              "Monday_5_hrs"
             ],
             {
              "frame": {
               "duration": 0,
               "redraw": true
              },
              "fromcurrent": true,
              "mode": "immediate",
              "transition": {
               "duration": 0,
               "easing": "linear"
              }
             }
            ],
            "label": "Monday_5_hrs",
            "method": "animate"
           },
           {
            "args": [
             [
              "Monday_6_hrs"
             ],
             {
              "frame": {
               "duration": 0,
               "redraw": true
              },
              "fromcurrent": true,
              "mode": "immediate",
              "transition": {
               "duration": 0,
               "easing": "linear"
              }
             }
            ],
            "label": "Monday_6_hrs",
            "method": "animate"
           },
           {
            "args": [
             [
              "Monday_7_hrs"
             ],
             {
              "frame": {
               "duration": 0,
               "redraw": true
              },
              "fromcurrent": true,
              "mode": "immediate",
              "transition": {
               "duration": 0,
               "easing": "linear"
              }
             }
            ],
            "label": "Monday_7_hrs",
            "method": "animate"
           },
           {
            "args": [
             [
              "Monday_8_hrs"
             ],
             {
              "frame": {
               "duration": 0,
               "redraw": true
              },
              "fromcurrent": true,
              "mode": "immediate",
              "transition": {
               "duration": 0,
               "easing": "linear"
              }
             }
            ],
            "label": "Monday_8_hrs",
            "method": "animate"
           },
           {
            "args": [
             [
              "Monday_9_hrs"
             ],
             {
              "frame": {
               "duration": 0,
               "redraw": true
              },
              "fromcurrent": true,
              "mode": "immediate",
              "transition": {
               "duration": 0,
               "easing": "linear"
              }
             }
            ],
            "label": "Monday_9_hrs",
            "method": "animate"
           },
           {
            "args": [
             [
              "Saturday_0_hrs"
             ],
             {
              "frame": {
               "duration": 0,
               "redraw": true
              },
              "fromcurrent": true,
              "mode": "immediate",
              "transition": {
               "duration": 0,
               "easing": "linear"
              }
             }
            ],
            "label": "Saturday_0_hrs",
            "method": "animate"
           },
           {
            "args": [
             [
              "Saturday_10_hrs"
             ],
             {
              "frame": {
               "duration": 0,
               "redraw": true
              },
              "fromcurrent": true,
              "mode": "immediate",
              "transition": {
               "duration": 0,
               "easing": "linear"
              }
             }
            ],
            "label": "Saturday_10_hrs",
            "method": "animate"
           },
           {
            "args": [
             [
              "Saturday_11_hrs"
             ],
             {
              "frame": {
               "duration": 0,
               "redraw": true
              },
              "fromcurrent": true,
              "mode": "immediate",
              "transition": {
               "duration": 0,
               "easing": "linear"
              }
             }
            ],
            "label": "Saturday_11_hrs",
            "method": "animate"
           },
           {
            "args": [
             [
              "Saturday_12_hrs"
             ],
             {
              "frame": {
               "duration": 0,
               "redraw": true
              },
              "fromcurrent": true,
              "mode": "immediate",
              "transition": {
               "duration": 0,
               "easing": "linear"
              }
             }
            ],
            "label": "Saturday_12_hrs",
            "method": "animate"
           },
           {
            "args": [
             [
              "Saturday_13_hrs"
             ],
             {
              "frame": {
               "duration": 0,
               "redraw": true
              },
              "fromcurrent": true,
              "mode": "immediate",
              "transition": {
               "duration": 0,
               "easing": "linear"
              }
             }
            ],
            "label": "Saturday_13_hrs",
            "method": "animate"
           },
           {
            "args": [
             [
              "Saturday_14_hrs"
             ],
             {
              "frame": {
               "duration": 0,
               "redraw": true
              },
              "fromcurrent": true,
              "mode": "immediate",
              "transition": {
               "duration": 0,
               "easing": "linear"
              }
             }
            ],
            "label": "Saturday_14_hrs",
            "method": "animate"
           },
           {
            "args": [
             [
              "Saturday_15_hrs"
             ],
             {
              "frame": {
               "duration": 0,
               "redraw": true
              },
              "fromcurrent": true,
              "mode": "immediate",
              "transition": {
               "duration": 0,
               "easing": "linear"
              }
             }
            ],
            "label": "Saturday_15_hrs",
            "method": "animate"
           },
           {
            "args": [
             [
              "Saturday_16_hrs"
             ],
             {
              "frame": {
               "duration": 0,
               "redraw": true
              },
              "fromcurrent": true,
              "mode": "immediate",
              "transition": {
               "duration": 0,
               "easing": "linear"
              }
             }
            ],
            "label": "Saturday_16_hrs",
            "method": "animate"
           },
           {
            "args": [
             [
              "Saturday_17_hrs"
             ],
             {
              "frame": {
               "duration": 0,
               "redraw": true
              },
              "fromcurrent": true,
              "mode": "immediate",
              "transition": {
               "duration": 0,
               "easing": "linear"
              }
             }
            ],
            "label": "Saturday_17_hrs",
            "method": "animate"
           },
           {
            "args": [
             [
              "Saturday_18_hrs"
             ],
             {
              "frame": {
               "duration": 0,
               "redraw": true
              },
              "fromcurrent": true,
              "mode": "immediate",
              "transition": {
               "duration": 0,
               "easing": "linear"
              }
             }
            ],
            "label": "Saturday_18_hrs",
            "method": "animate"
           },
           {
            "args": [
             [
              "Saturday_19_hrs"
             ],
             {
              "frame": {
               "duration": 0,
               "redraw": true
              },
              "fromcurrent": true,
              "mode": "immediate",
              "transition": {
               "duration": 0,
               "easing": "linear"
              }
             }
            ],
            "label": "Saturday_19_hrs",
            "method": "animate"
           },
           {
            "args": [
             [
              "Saturday_1_hrs"
             ],
             {
              "frame": {
               "duration": 0,
               "redraw": true
              },
              "fromcurrent": true,
              "mode": "immediate",
              "transition": {
               "duration": 0,
               "easing": "linear"
              }
             }
            ],
            "label": "Saturday_1_hrs",
            "method": "animate"
           },
           {
            "args": [
             [
              "Saturday_20_hrs"
             ],
             {
              "frame": {
               "duration": 0,
               "redraw": true
              },
              "fromcurrent": true,
              "mode": "immediate",
              "transition": {
               "duration": 0,
               "easing": "linear"
              }
             }
            ],
            "label": "Saturday_20_hrs",
            "method": "animate"
           },
           {
            "args": [
             [
              "Saturday_21_hrs"
             ],
             {
              "frame": {
               "duration": 0,
               "redraw": true
              },
              "fromcurrent": true,
              "mode": "immediate",
              "transition": {
               "duration": 0,
               "easing": "linear"
              }
             }
            ],
            "label": "Saturday_21_hrs",
            "method": "animate"
           },
           {
            "args": [
             [
              "Saturday_22_hrs"
             ],
             {
              "frame": {
               "duration": 0,
               "redraw": true
              },
              "fromcurrent": true,
              "mode": "immediate",
              "transition": {
               "duration": 0,
               "easing": "linear"
              }
             }
            ],
            "label": "Saturday_22_hrs",
            "method": "animate"
           },
           {
            "args": [
             [
              "Saturday_23_hrs"
             ],
             {
              "frame": {
               "duration": 0,
               "redraw": true
              },
              "fromcurrent": true,
              "mode": "immediate",
              "transition": {
               "duration": 0,
               "easing": "linear"
              }
             }
            ],
            "label": "Saturday_23_hrs",
            "method": "animate"
           },
           {
            "args": [
             [
              "Saturday_2_hrs"
             ],
             {
              "frame": {
               "duration": 0,
               "redraw": true
              },
              "fromcurrent": true,
              "mode": "immediate",
              "transition": {
               "duration": 0,
               "easing": "linear"
              }
             }
            ],
            "label": "Saturday_2_hrs",
            "method": "animate"
           },
           {
            "args": [
             [
              "Saturday_3_hrs"
             ],
             {
              "frame": {
               "duration": 0,
               "redraw": true
              },
              "fromcurrent": true,
              "mode": "immediate",
              "transition": {
               "duration": 0,
               "easing": "linear"
              }
             }
            ],
            "label": "Saturday_3_hrs",
            "method": "animate"
           },
           {
            "args": [
             [
              "Saturday_4_hrs"
             ],
             {
              "frame": {
               "duration": 0,
               "redraw": true
              },
              "fromcurrent": true,
              "mode": "immediate",
              "transition": {
               "duration": 0,
               "easing": "linear"
              }
             }
            ],
            "label": "Saturday_4_hrs",
            "method": "animate"
           },
           {
            "args": [
             [
              "Saturday_6_hrs"
             ],
             {
              "frame": {
               "duration": 0,
               "redraw": true
              },
              "fromcurrent": true,
              "mode": "immediate",
              "transition": {
               "duration": 0,
               "easing": "linear"
              }
             }
            ],
            "label": "Saturday_6_hrs",
            "method": "animate"
           },
           {
            "args": [
             [
              "Saturday_7_hrs"
             ],
             {
              "frame": {
               "duration": 0,
               "redraw": true
              },
              "fromcurrent": true,
              "mode": "immediate",
              "transition": {
               "duration": 0,
               "easing": "linear"
              }
             }
            ],
            "label": "Saturday_7_hrs",
            "method": "animate"
           },
           {
            "args": [
             [
              "Saturday_8_hrs"
             ],
             {
              "frame": {
               "duration": 0,
               "redraw": true
              },
              "fromcurrent": true,
              "mode": "immediate",
              "transition": {
               "duration": 0,
               "easing": "linear"
              }
             }
            ],
            "label": "Saturday_8_hrs",
            "method": "animate"
           },
           {
            "args": [
             [
              "Saturday_9_hrs"
             ],
             {
              "frame": {
               "duration": 0,
               "redraw": true
              },
              "fromcurrent": true,
              "mode": "immediate",
              "transition": {
               "duration": 0,
               "easing": "linear"
              }
             }
            ],
            "label": "Saturday_9_hrs",
            "method": "animate"
           },
           {
            "args": [
             [
              "Sunday_0_hrs"
             ],
             {
              "frame": {
               "duration": 0,
               "redraw": true
              },
              "fromcurrent": true,
              "mode": "immediate",
              "transition": {
               "duration": 0,
               "easing": "linear"
              }
             }
            ],
            "label": "Sunday_0_hrs",
            "method": "animate"
           },
           {
            "args": [
             [
              "Sunday_10_hrs"
             ],
             {
              "frame": {
               "duration": 0,
               "redraw": true
              },
              "fromcurrent": true,
              "mode": "immediate",
              "transition": {
               "duration": 0,
               "easing": "linear"
              }
             }
            ],
            "label": "Sunday_10_hrs",
            "method": "animate"
           },
           {
            "args": [
             [
              "Sunday_11_hrs"
             ],
             {
              "frame": {
               "duration": 0,
               "redraw": true
              },
              "fromcurrent": true,
              "mode": "immediate",
              "transition": {
               "duration": 0,
               "easing": "linear"
              }
             }
            ],
            "label": "Sunday_11_hrs",
            "method": "animate"
           },
           {
            "args": [
             [
              "Sunday_12_hrs"
             ],
             {
              "frame": {
               "duration": 0,
               "redraw": true
              },
              "fromcurrent": true,
              "mode": "immediate",
              "transition": {
               "duration": 0,
               "easing": "linear"
              }
             }
            ],
            "label": "Sunday_12_hrs",
            "method": "animate"
           },
           {
            "args": [
             [
              "Sunday_13_hrs"
             ],
             {
              "frame": {
               "duration": 0,
               "redraw": true
              },
              "fromcurrent": true,
              "mode": "immediate",
              "transition": {
               "duration": 0,
               "easing": "linear"
              }
             }
            ],
            "label": "Sunday_13_hrs",
            "method": "animate"
           },
           {
            "args": [
             [
              "Sunday_14_hrs"
             ],
             {
              "frame": {
               "duration": 0,
               "redraw": true
              },
              "fromcurrent": true,
              "mode": "immediate",
              "transition": {
               "duration": 0,
               "easing": "linear"
              }
             }
            ],
            "label": "Sunday_14_hrs",
            "method": "animate"
           },
           {
            "args": [
             [
              "Sunday_15_hrs"
             ],
             {
              "frame": {
               "duration": 0,
               "redraw": true
              },
              "fromcurrent": true,
              "mode": "immediate",
              "transition": {
               "duration": 0,
               "easing": "linear"
              }
             }
            ],
            "label": "Sunday_15_hrs",
            "method": "animate"
           },
           {
            "args": [
             [
              "Sunday_16_hrs"
             ],
             {
              "frame": {
               "duration": 0,
               "redraw": true
              },
              "fromcurrent": true,
              "mode": "immediate",
              "transition": {
               "duration": 0,
               "easing": "linear"
              }
             }
            ],
            "label": "Sunday_16_hrs",
            "method": "animate"
           },
           {
            "args": [
             [
              "Sunday_17_hrs"
             ],
             {
              "frame": {
               "duration": 0,
               "redraw": true
              },
              "fromcurrent": true,
              "mode": "immediate",
              "transition": {
               "duration": 0,
               "easing": "linear"
              }
             }
            ],
            "label": "Sunday_17_hrs",
            "method": "animate"
           },
           {
            "args": [
             [
              "Sunday_18_hrs"
             ],
             {
              "frame": {
               "duration": 0,
               "redraw": true
              },
              "fromcurrent": true,
              "mode": "immediate",
              "transition": {
               "duration": 0,
               "easing": "linear"
              }
             }
            ],
            "label": "Sunday_18_hrs",
            "method": "animate"
           },
           {
            "args": [
             [
              "Sunday_19_hrs"
             ],
             {
              "frame": {
               "duration": 0,
               "redraw": true
              },
              "fromcurrent": true,
              "mode": "immediate",
              "transition": {
               "duration": 0,
               "easing": "linear"
              }
             }
            ],
            "label": "Sunday_19_hrs",
            "method": "animate"
           },
           {
            "args": [
             [
              "Sunday_1_hrs"
             ],
             {
              "frame": {
               "duration": 0,
               "redraw": true
              },
              "fromcurrent": true,
              "mode": "immediate",
              "transition": {
               "duration": 0,
               "easing": "linear"
              }
             }
            ],
            "label": "Sunday_1_hrs",
            "method": "animate"
           },
           {
            "args": [
             [
              "Sunday_20_hrs"
             ],
             {
              "frame": {
               "duration": 0,
               "redraw": true
              },
              "fromcurrent": true,
              "mode": "immediate",
              "transition": {
               "duration": 0,
               "easing": "linear"
              }
             }
            ],
            "label": "Sunday_20_hrs",
            "method": "animate"
           },
           {
            "args": [
             [
              "Sunday_21_hrs"
             ],
             {
              "frame": {
               "duration": 0,
               "redraw": true
              },
              "fromcurrent": true,
              "mode": "immediate",
              "transition": {
               "duration": 0,
               "easing": "linear"
              }
             }
            ],
            "label": "Sunday_21_hrs",
            "method": "animate"
           },
           {
            "args": [
             [
              "Sunday_22_hrs"
             ],
             {
              "frame": {
               "duration": 0,
               "redraw": true
              },
              "fromcurrent": true,
              "mode": "immediate",
              "transition": {
               "duration": 0,
               "easing": "linear"
              }
             }
            ],
            "label": "Sunday_22_hrs",
            "method": "animate"
           },
           {
            "args": [
             [
              "Sunday_23_hrs"
             ],
             {
              "frame": {
               "duration": 0,
               "redraw": true
              },
              "fromcurrent": true,
              "mode": "immediate",
              "transition": {
               "duration": 0,
               "easing": "linear"
              }
             }
            ],
            "label": "Sunday_23_hrs",
            "method": "animate"
           },
           {
            "args": [
             [
              "Sunday_2_hrs"
             ],
             {
              "frame": {
               "duration": 0,
               "redraw": true
              },
              "fromcurrent": true,
              "mode": "immediate",
              "transition": {
               "duration": 0,
               "easing": "linear"
              }
             }
            ],
            "label": "Sunday_2_hrs",
            "method": "animate"
           },
           {
            "args": [
             [
              "Sunday_3_hrs"
             ],
             {
              "frame": {
               "duration": 0,
               "redraw": true
              },
              "fromcurrent": true,
              "mode": "immediate",
              "transition": {
               "duration": 0,
               "easing": "linear"
              }
             }
            ],
            "label": "Sunday_3_hrs",
            "method": "animate"
           },
           {
            "args": [
             [
              "Sunday_4_hrs"
             ],
             {
              "frame": {
               "duration": 0,
               "redraw": true
              },
              "fromcurrent": true,
              "mode": "immediate",
              "transition": {
               "duration": 0,
               "easing": "linear"
              }
             }
            ],
            "label": "Sunday_4_hrs",
            "method": "animate"
           },
           {
            "args": [
             [
              "Sunday_5_hrs"
             ],
             {
              "frame": {
               "duration": 0,
               "redraw": true
              },
              "fromcurrent": true,
              "mode": "immediate",
              "transition": {
               "duration": 0,
               "easing": "linear"
              }
             }
            ],
            "label": "Sunday_5_hrs",
            "method": "animate"
           },
           {
            "args": [
             [
              "Sunday_6_hrs"
             ],
             {
              "frame": {
               "duration": 0,
               "redraw": true
              },
              "fromcurrent": true,
              "mode": "immediate",
              "transition": {
               "duration": 0,
               "easing": "linear"
              }
             }
            ],
            "label": "Sunday_6_hrs",
            "method": "animate"
           },
           {
            "args": [
             [
              "Sunday_7_hrs"
             ],
             {
              "frame": {
               "duration": 0,
               "redraw": true
              },
              "fromcurrent": true,
              "mode": "immediate",
              "transition": {
               "duration": 0,
               "easing": "linear"
              }
             }
            ],
            "label": "Sunday_7_hrs",
            "method": "animate"
           },
           {
            "args": [
             [
              "Sunday_8_hrs"
             ],
             {
              "frame": {
               "duration": 0,
               "redraw": true
              },
              "fromcurrent": true,
              "mode": "immediate",
              "transition": {
               "duration": 0,
               "easing": "linear"
              }
             }
            ],
            "label": "Sunday_8_hrs",
            "method": "animate"
           },
           {
            "args": [
             [
              "Sunday_9_hrs"
             ],
             {
              "frame": {
               "duration": 0,
               "redraw": true
              },
              "fromcurrent": true,
              "mode": "immediate",
              "transition": {
               "duration": 0,
               "easing": "linear"
              }
             }
            ],
            "label": "Sunday_9_hrs",
            "method": "animate"
           },
           {
            "args": [
             [
              "Thursday_0_hrs"
             ],
             {
              "frame": {
               "duration": 0,
               "redraw": true
              },
              "fromcurrent": true,
              "mode": "immediate",
              "transition": {
               "duration": 0,
               "easing": "linear"
              }
             }
            ],
            "label": "Thursday_0_hrs",
            "method": "animate"
           },
           {
            "args": [
             [
              "Thursday_10_hrs"
             ],
             {
              "frame": {
               "duration": 0,
               "redraw": true
              },
              "fromcurrent": true,
              "mode": "immediate",
              "transition": {
               "duration": 0,
               "easing": "linear"
              }
             }
            ],
            "label": "Thursday_10_hrs",
            "method": "animate"
           },
           {
            "args": [
             [
              "Thursday_11_hrs"
             ],
             {
              "frame": {
               "duration": 0,
               "redraw": true
              },
              "fromcurrent": true,
              "mode": "immediate",
              "transition": {
               "duration": 0,
               "easing": "linear"
              }
             }
            ],
            "label": "Thursday_11_hrs",
            "method": "animate"
           },
           {
            "args": [
             [
              "Thursday_12_hrs"
             ],
             {
              "frame": {
               "duration": 0,
               "redraw": true
              },
              "fromcurrent": true,
              "mode": "immediate",
              "transition": {
               "duration": 0,
               "easing": "linear"
              }
             }
            ],
            "label": "Thursday_12_hrs",
            "method": "animate"
           },
           {
            "args": [
             [
              "Thursday_13_hrs"
             ],
             {
              "frame": {
               "duration": 0,
               "redraw": true
              },
              "fromcurrent": true,
              "mode": "immediate",
              "transition": {
               "duration": 0,
               "easing": "linear"
              }
             }
            ],
            "label": "Thursday_13_hrs",
            "method": "animate"
           },
           {
            "args": [
             [
              "Thursday_14_hrs"
             ],
             {
              "frame": {
               "duration": 0,
               "redraw": true
              },
              "fromcurrent": true,
              "mode": "immediate",
              "transition": {
               "duration": 0,
               "easing": "linear"
              }
             }
            ],
            "label": "Thursday_14_hrs",
            "method": "animate"
           },
           {
            "args": [
             [
              "Thursday_15_hrs"
             ],
             {
              "frame": {
               "duration": 0,
               "redraw": true
              },
              "fromcurrent": true,
              "mode": "immediate",
              "transition": {
               "duration": 0,
               "easing": "linear"
              }
             }
            ],
            "label": "Thursday_15_hrs",
            "method": "animate"
           },
           {
            "args": [
             [
              "Thursday_16_hrs"
             ],
             {
              "frame": {
               "duration": 0,
               "redraw": true
              },
              "fromcurrent": true,
              "mode": "immediate",
              "transition": {
               "duration": 0,
               "easing": "linear"
              }
             }
            ],
            "label": "Thursday_16_hrs",
            "method": "animate"
           },
           {
            "args": [
             [
              "Thursday_17_hrs"
             ],
             {
              "frame": {
               "duration": 0,
               "redraw": true
              },
              "fromcurrent": true,
              "mode": "immediate",
              "transition": {
               "duration": 0,
               "easing": "linear"
              }
             }
            ],
            "label": "Thursday_17_hrs",
            "method": "animate"
           },
           {
            "args": [
             [
              "Thursday_18_hrs"
             ],
             {
              "frame": {
               "duration": 0,
               "redraw": true
              },
              "fromcurrent": true,
              "mode": "immediate",
              "transition": {
               "duration": 0,
               "easing": "linear"
              }
             }
            ],
            "label": "Thursday_18_hrs",
            "method": "animate"
           },
           {
            "args": [
             [
              "Thursday_19_hrs"
             ],
             {
              "frame": {
               "duration": 0,
               "redraw": true
              },
              "fromcurrent": true,
              "mode": "immediate",
              "transition": {
               "duration": 0,
               "easing": "linear"
              }
             }
            ],
            "label": "Thursday_19_hrs",
            "method": "animate"
           },
           {
            "args": [
             [
              "Thursday_20_hrs"
             ],
             {
              "frame": {
               "duration": 0,
               "redraw": true
              },
              "fromcurrent": true,
              "mode": "immediate",
              "transition": {
               "duration": 0,
               "easing": "linear"
              }
             }
            ],
            "label": "Thursday_20_hrs",
            "method": "animate"
           },
           {
            "args": [
             [
              "Thursday_21_hrs"
             ],
             {
              "frame": {
               "duration": 0,
               "redraw": true
              },
              "fromcurrent": true,
              "mode": "immediate",
              "transition": {
               "duration": 0,
               "easing": "linear"
              }
             }
            ],
            "label": "Thursday_21_hrs",
            "method": "animate"
           },
           {
            "args": [
             [
              "Thursday_22_hrs"
             ],
             {
              "frame": {
               "duration": 0,
               "redraw": true
              },
              "fromcurrent": true,
              "mode": "immediate",
              "transition": {
               "duration": 0,
               "easing": "linear"
              }
             }
            ],
            "label": "Thursday_22_hrs",
            "method": "animate"
           },
           {
            "args": [
             [
              "Thursday_23_hrs"
             ],
             {
              "frame": {
               "duration": 0,
               "redraw": true
              },
              "fromcurrent": true,
              "mode": "immediate",
              "transition": {
               "duration": 0,
               "easing": "linear"
              }
             }
            ],
            "label": "Thursday_23_hrs",
            "method": "animate"
           },
           {
            "args": [
             [
              "Thursday_3_hrs"
             ],
             {
              "frame": {
               "duration": 0,
               "redraw": true
              },
              "fromcurrent": true,
              "mode": "immediate",
              "transition": {
               "duration": 0,
               "easing": "linear"
              }
             }
            ],
            "label": "Thursday_3_hrs",
            "method": "animate"
           },
           {
            "args": [
             [
              "Thursday_4_hrs"
             ],
             {
              "frame": {
               "duration": 0,
               "redraw": true
              },
              "fromcurrent": true,
              "mode": "immediate",
              "transition": {
               "duration": 0,
               "easing": "linear"
              }
             }
            ],
            "label": "Thursday_4_hrs",
            "method": "animate"
           },
           {
            "args": [
             [
              "Thursday_5_hrs"
             ],
             {
              "frame": {
               "duration": 0,
               "redraw": true
              },
              "fromcurrent": true,
              "mode": "immediate",
              "transition": {
               "duration": 0,
               "easing": "linear"
              }
             }
            ],
            "label": "Thursday_5_hrs",
            "method": "animate"
           },
           {
            "args": [
             [
              "Thursday_6_hrs"
             ],
             {
              "frame": {
               "duration": 0,
               "redraw": true
              },
              "fromcurrent": true,
              "mode": "immediate",
              "transition": {
               "duration": 0,
               "easing": "linear"
              }
             }
            ],
            "label": "Thursday_6_hrs",
            "method": "animate"
           },
           {
            "args": [
             [
              "Thursday_7_hrs"
             ],
             {
              "frame": {
               "duration": 0,
               "redraw": true
              },
              "fromcurrent": true,
              "mode": "immediate",
              "transition": {
               "duration": 0,
               "easing": "linear"
              }
             }
            ],
            "label": "Thursday_7_hrs",
            "method": "animate"
           },
           {
            "args": [
             [
              "Thursday_8_hrs"
             ],
             {
              "frame": {
               "duration": 0,
               "redraw": true
              },
              "fromcurrent": true,
              "mode": "immediate",
              "transition": {
               "duration": 0,
               "easing": "linear"
              }
             }
            ],
            "label": "Thursday_8_hrs",
            "method": "animate"
           },
           {
            "args": [
             [
              "Thursday_9_hrs"
             ],
             {
              "frame": {
               "duration": 0,
               "redraw": true
              },
              "fromcurrent": true,
              "mode": "immediate",
              "transition": {
               "duration": 0,
               "easing": "linear"
              }
             }
            ],
            "label": "Thursday_9_hrs",
            "method": "animate"
           },
           {
            "args": [
             [
              "Tuesday_0_hrs"
             ],
             {
              "frame": {
               "duration": 0,
               "redraw": true
              },
              "fromcurrent": true,
              "mode": "immediate",
              "transition": {
               "duration": 0,
               "easing": "linear"
              }
             }
            ],
            "label": "Tuesday_0_hrs",
            "method": "animate"
           },
           {
            "args": [
             [
              "Tuesday_10_hrs"
             ],
             {
              "frame": {
               "duration": 0,
               "redraw": true
              },
              "fromcurrent": true,
              "mode": "immediate",
              "transition": {
               "duration": 0,
               "easing": "linear"
              }
             }
            ],
            "label": "Tuesday_10_hrs",
            "method": "animate"
           },
           {
            "args": [
             [
              "Tuesday_11_hrs"
             ],
             {
              "frame": {
               "duration": 0,
               "redraw": true
              },
              "fromcurrent": true,
              "mode": "immediate",
              "transition": {
               "duration": 0,
               "easing": "linear"
              }
             }
            ],
            "label": "Tuesday_11_hrs",
            "method": "animate"
           },
           {
            "args": [
             [
              "Tuesday_12_hrs"
             ],
             {
              "frame": {
               "duration": 0,
               "redraw": true
              },
              "fromcurrent": true,
              "mode": "immediate",
              "transition": {
               "duration": 0,
               "easing": "linear"
              }
             }
            ],
            "label": "Tuesday_12_hrs",
            "method": "animate"
           },
           {
            "args": [
             [
              "Tuesday_13_hrs"
             ],
             {
              "frame": {
               "duration": 0,
               "redraw": true
              },
              "fromcurrent": true,
              "mode": "immediate",
              "transition": {
               "duration": 0,
               "easing": "linear"
              }
             }
            ],
            "label": "Tuesday_13_hrs",
            "method": "animate"
           },
           {
            "args": [
             [
              "Tuesday_14_hrs"
             ],
             {
              "frame": {
               "duration": 0,
               "redraw": true
              },
              "fromcurrent": true,
              "mode": "immediate",
              "transition": {
               "duration": 0,
               "easing": "linear"
              }
             }
            ],
            "label": "Tuesday_14_hrs",
            "method": "animate"
           },
           {
            "args": [
             [
              "Tuesday_15_hrs"
             ],
             {
              "frame": {
               "duration": 0,
               "redraw": true
              },
              "fromcurrent": true,
              "mode": "immediate",
              "transition": {
               "duration": 0,
               "easing": "linear"
              }
             }
            ],
            "label": "Tuesday_15_hrs",
            "method": "animate"
           },
           {
            "args": [
             [
              "Tuesday_16_hrs"
             ],
             {
              "frame": {
               "duration": 0,
               "redraw": true
              },
              "fromcurrent": true,
              "mode": "immediate",
              "transition": {
               "duration": 0,
               "easing": "linear"
              }
             }
            ],
            "label": "Tuesday_16_hrs",
            "method": "animate"
           },
           {
            "args": [
             [
              "Tuesday_17_hrs"
             ],
             {
              "frame": {
               "duration": 0,
               "redraw": true
              },
              "fromcurrent": true,
              "mode": "immediate",
              "transition": {
               "duration": 0,
               "easing": "linear"
              }
             }
            ],
            "label": "Tuesday_17_hrs",
            "method": "animate"
           },
           {
            "args": [
             [
              "Tuesday_18_hrs"
             ],
             {
              "frame": {
               "duration": 0,
               "redraw": true
              },
              "fromcurrent": true,
              "mode": "immediate",
              "transition": {
               "duration": 0,
               "easing": "linear"
              }
             }
            ],
            "label": "Tuesday_18_hrs",
            "method": "animate"
           },
           {
            "args": [
             [
              "Tuesday_19_hrs"
             ],
             {
              "frame": {
               "duration": 0,
               "redraw": true
              },
              "fromcurrent": true,
              "mode": "immediate",
              "transition": {
               "duration": 0,
               "easing": "linear"
              }
             }
            ],
            "label": "Tuesday_19_hrs",
            "method": "animate"
           },
           {
            "args": [
             [
              "Tuesday_20_hrs"
             ],
             {
              "frame": {
               "duration": 0,
               "redraw": true
              },
              "fromcurrent": true,
              "mode": "immediate",
              "transition": {
               "duration": 0,
               "easing": "linear"
              }
             }
            ],
            "label": "Tuesday_20_hrs",
            "method": "animate"
           },
           {
            "args": [
             [
              "Tuesday_21_hrs"
             ],
             {
              "frame": {
               "duration": 0,
               "redraw": true
              },
              "fromcurrent": true,
              "mode": "immediate",
              "transition": {
               "duration": 0,
               "easing": "linear"
              }
             }
            ],
            "label": "Tuesday_21_hrs",
            "method": "animate"
           },
           {
            "args": [
             [
              "Tuesday_22_hrs"
             ],
             {
              "frame": {
               "duration": 0,
               "redraw": true
              },
              "fromcurrent": true,
              "mode": "immediate",
              "transition": {
               "duration": 0,
               "easing": "linear"
              }
             }
            ],
            "label": "Tuesday_22_hrs",
            "method": "animate"
           },
           {
            "args": [
             [
              "Tuesday_23_hrs"
             ],
             {
              "frame": {
               "duration": 0,
               "redraw": true
              },
              "fromcurrent": true,
              "mode": "immediate",
              "transition": {
               "duration": 0,
               "easing": "linear"
              }
             }
            ],
            "label": "Tuesday_23_hrs",
            "method": "animate"
           },
           {
            "args": [
             [
              "Tuesday_3_hrs"
             ],
             {
              "frame": {
               "duration": 0,
               "redraw": true
              },
              "fromcurrent": true,
              "mode": "immediate",
              "transition": {
               "duration": 0,
               "easing": "linear"
              }
             }
            ],
            "label": "Tuesday_3_hrs",
            "method": "animate"
           },
           {
            "args": [
             [
              "Tuesday_4_hrs"
             ],
             {
              "frame": {
               "duration": 0,
               "redraw": true
              },
              "fromcurrent": true,
              "mode": "immediate",
              "transition": {
               "duration": 0,
               "easing": "linear"
              }
             }
            ],
            "label": "Tuesday_4_hrs",
            "method": "animate"
           },
           {
            "args": [
             [
              "Tuesday_5_hrs"
             ],
             {
              "frame": {
               "duration": 0,
               "redraw": true
              },
              "fromcurrent": true,
              "mode": "immediate",
              "transition": {
               "duration": 0,
               "easing": "linear"
              }
             }
            ],
            "label": "Tuesday_5_hrs",
            "method": "animate"
           },
           {
            "args": [
             [
              "Tuesday_6_hrs"
             ],
             {
              "frame": {
               "duration": 0,
               "redraw": true
              },
              "fromcurrent": true,
              "mode": "immediate",
              "transition": {
               "duration": 0,
               "easing": "linear"
              }
             }
            ],
            "label": "Tuesday_6_hrs",
            "method": "animate"
           },
           {
            "args": [
             [
              "Tuesday_7_hrs"
             ],
             {
              "frame": {
               "duration": 0,
               "redraw": true
              },
              "fromcurrent": true,
              "mode": "immediate",
              "transition": {
               "duration": 0,
               "easing": "linear"
              }
             }
            ],
            "label": "Tuesday_7_hrs",
            "method": "animate"
           },
           {
            "args": [
             [
              "Tuesday_8_hrs"
             ],
             {
              "frame": {
               "duration": 0,
               "redraw": true
              },
              "fromcurrent": true,
              "mode": "immediate",
              "transition": {
               "duration": 0,
               "easing": "linear"
              }
             }
            ],
            "label": "Tuesday_8_hrs",
            "method": "animate"
           },
           {
            "args": [
             [
              "Tuesday_9_hrs"
             ],
             {
              "frame": {
               "duration": 0,
               "redraw": true
              },
              "fromcurrent": true,
              "mode": "immediate",
              "transition": {
               "duration": 0,
               "easing": "linear"
              }
             }
            ],
            "label": "Tuesday_9_hrs",
            "method": "animate"
           },
           {
            "args": [
             [
              "Wednesday_0_hrs"
             ],
             {
              "frame": {
               "duration": 0,
               "redraw": true
              },
              "fromcurrent": true,
              "mode": "immediate",
              "transition": {
               "duration": 0,
               "easing": "linear"
              }
             }
            ],
            "label": "Wednesday_0_hrs",
            "method": "animate"
           },
           {
            "args": [
             [
              "Wednesday_10_hrs"
             ],
             {
              "frame": {
               "duration": 0,
               "redraw": true
              },
              "fromcurrent": true,
              "mode": "immediate",
              "transition": {
               "duration": 0,
               "easing": "linear"
              }
             }
            ],
            "label": "Wednesday_10_hrs",
            "method": "animate"
           },
           {
            "args": [
             [
              "Wednesday_11_hrs"
             ],
             {
              "frame": {
               "duration": 0,
               "redraw": true
              },
              "fromcurrent": true,
              "mode": "immediate",
              "transition": {
               "duration": 0,
               "easing": "linear"
              }
             }
            ],
            "label": "Wednesday_11_hrs",
            "method": "animate"
           },
           {
            "args": [
             [
              "Wednesday_12_hrs"
             ],
             {
              "frame": {
               "duration": 0,
               "redraw": true
              },
              "fromcurrent": true,
              "mode": "immediate",
              "transition": {
               "duration": 0,
               "easing": "linear"
              }
             }
            ],
            "label": "Wednesday_12_hrs",
            "method": "animate"
           },
           {
            "args": [
             [
              "Wednesday_13_hrs"
             ],
             {
              "frame": {
               "duration": 0,
               "redraw": true
              },
              "fromcurrent": true,
              "mode": "immediate",
              "transition": {
               "duration": 0,
               "easing": "linear"
              }
             }
            ],
            "label": "Wednesday_13_hrs",
            "method": "animate"
           },
           {
            "args": [
             [
              "Wednesday_14_hrs"
             ],
             {
              "frame": {
               "duration": 0,
               "redraw": true
              },
              "fromcurrent": true,
              "mode": "immediate",
              "transition": {
               "duration": 0,
               "easing": "linear"
              }
             }
            ],
            "label": "Wednesday_14_hrs",
            "method": "animate"
           },
           {
            "args": [
             [
              "Wednesday_15_hrs"
             ],
             {
              "frame": {
               "duration": 0,
               "redraw": true
              },
              "fromcurrent": true,
              "mode": "immediate",
              "transition": {
               "duration": 0,
               "easing": "linear"
              }
             }
            ],
            "label": "Wednesday_15_hrs",
            "method": "animate"
           },
           {
            "args": [
             [
              "Wednesday_16_hrs"
             ],
             {
              "frame": {
               "duration": 0,
               "redraw": true
              },
              "fromcurrent": true,
              "mode": "immediate",
              "transition": {
               "duration": 0,
               "easing": "linear"
              }
             }
            ],
            "label": "Wednesday_16_hrs",
            "method": "animate"
           },
           {
            "args": [
             [
              "Wednesday_17_hrs"
             ],
             {
              "frame": {
               "duration": 0,
               "redraw": true
              },
              "fromcurrent": true,
              "mode": "immediate",
              "transition": {
               "duration": 0,
               "easing": "linear"
              }
             }
            ],
            "label": "Wednesday_17_hrs",
            "method": "animate"
           },
           {
            "args": [
             [
              "Wednesday_18_hrs"
             ],
             {
              "frame": {
               "duration": 0,
               "redraw": true
              },
              "fromcurrent": true,
              "mode": "immediate",
              "transition": {
               "duration": 0,
               "easing": "linear"
              }
             }
            ],
            "label": "Wednesday_18_hrs",
            "method": "animate"
           },
           {
            "args": [
             [
              "Wednesday_19_hrs"
             ],
             {
              "frame": {
               "duration": 0,
               "redraw": true
              },
              "fromcurrent": true,
              "mode": "immediate",
              "transition": {
               "duration": 0,
               "easing": "linear"
              }
             }
            ],
            "label": "Wednesday_19_hrs",
            "method": "animate"
           },
           {
            "args": [
             [
              "Wednesday_1_hrs"
             ],
             {
              "frame": {
               "duration": 0,
               "redraw": true
              },
              "fromcurrent": true,
              "mode": "immediate",
              "transition": {
               "duration": 0,
               "easing": "linear"
              }
             }
            ],
            "label": "Wednesday_1_hrs",
            "method": "animate"
           },
           {
            "args": [
             [
              "Wednesday_20_hrs"
             ],
             {
              "frame": {
               "duration": 0,
               "redraw": true
              },
              "fromcurrent": true,
              "mode": "immediate",
              "transition": {
               "duration": 0,
               "easing": "linear"
              }
             }
            ],
            "label": "Wednesday_20_hrs",
            "method": "animate"
           },
           {
            "args": [
             [
              "Wednesday_21_hrs"
             ],
             {
              "frame": {
               "duration": 0,
               "redraw": true
              },
              "fromcurrent": true,
              "mode": "immediate",
              "transition": {
               "duration": 0,
               "easing": "linear"
              }
             }
            ],
            "label": "Wednesday_21_hrs",
            "method": "animate"
           },
           {
            "args": [
             [
              "Wednesday_22_hrs"
             ],
             {
              "frame": {
               "duration": 0,
               "redraw": true
              },
              "fromcurrent": true,
              "mode": "immediate",
              "transition": {
               "duration": 0,
               "easing": "linear"
              }
             }
            ],
            "label": "Wednesday_22_hrs",
            "method": "animate"
           },
           {
            "args": [
             [
              "Wednesday_23_hrs"
             ],
             {
              "frame": {
               "duration": 0,
               "redraw": true
              },
              "fromcurrent": true,
              "mode": "immediate",
              "transition": {
               "duration": 0,
               "easing": "linear"
              }
             }
            ],
            "label": "Wednesday_23_hrs",
            "method": "animate"
           },
           {
            "args": [
             [
              "Wednesday_4_hrs"
             ],
             {
              "frame": {
               "duration": 0,
               "redraw": true
              },
              "fromcurrent": true,
              "mode": "immediate",
              "transition": {
               "duration": 0,
               "easing": "linear"
              }
             }
            ],
            "label": "Wednesday_4_hrs",
            "method": "animate"
           },
           {
            "args": [
             [
              "Wednesday_5_hrs"
             ],
             {
              "frame": {
               "duration": 0,
               "redraw": true
              },
              "fromcurrent": true,
              "mode": "immediate",
              "transition": {
               "duration": 0,
               "easing": "linear"
              }
             }
            ],
            "label": "Wednesday_5_hrs",
            "method": "animate"
           },
           {
            "args": [
             [
              "Wednesday_6_hrs"
             ],
             {
              "frame": {
               "duration": 0,
               "redraw": true
              },
              "fromcurrent": true,
              "mode": "immediate",
              "transition": {
               "duration": 0,
               "easing": "linear"
              }
             }
            ],
            "label": "Wednesday_6_hrs",
            "method": "animate"
           },
           {
            "args": [
             [
              "Wednesday_7_hrs"
             ],
             {
              "frame": {
               "duration": 0,
               "redraw": true
              },
              "fromcurrent": true,
              "mode": "immediate",
              "transition": {
               "duration": 0,
               "easing": "linear"
              }
             }
            ],
            "label": "Wednesday_7_hrs",
            "method": "animate"
           },
           {
            "args": [
             [
              "Wednesday_8_hrs"
             ],
             {
              "frame": {
               "duration": 0,
               "redraw": true
              },
              "fromcurrent": true,
              "mode": "immediate",
              "transition": {
               "duration": 0,
               "easing": "linear"
              }
             }
            ],
            "label": "Wednesday_8_hrs",
            "method": "animate"
           },
           {
            "args": [
             [
              "Wednesday_9_hrs"
             ],
             {
              "frame": {
               "duration": 0,
               "redraw": true
              },
              "fromcurrent": true,
              "mode": "immediate",
              "transition": {
               "duration": 0,
               "easing": "linear"
              }
             }
            ],
            "label": "Wednesday_9_hrs",
            "method": "animate"
           }
          ],
          "x": 0.1,
          "xanchor": "left",
          "y": 0,
          "yanchor": "top"
         }
        ],
        "template": {
         "data": {
          "bar": [
           {
            "error_x": {
             "color": "#2a3f5f"
            },
            "error_y": {
             "color": "#2a3f5f"
            },
            "marker": {
             "line": {
              "color": "#E5ECF6",
              "width": 0.5
             }
            },
            "type": "bar"
           }
          ],
          "barpolar": [
           {
            "marker": {
             "line": {
              "color": "#E5ECF6",
              "width": 0.5
             }
            },
            "type": "barpolar"
           }
          ],
          "carpet": [
           {
            "aaxis": {
             "endlinecolor": "#2a3f5f",
             "gridcolor": "white",
             "linecolor": "white",
             "minorgridcolor": "white",
             "startlinecolor": "#2a3f5f"
            },
            "baxis": {
             "endlinecolor": "#2a3f5f",
             "gridcolor": "white",
             "linecolor": "white",
             "minorgridcolor": "white",
             "startlinecolor": "#2a3f5f"
            },
            "type": "carpet"
           }
          ],
          "choropleth": [
           {
            "colorbar": {
             "outlinewidth": 0,
             "ticks": ""
            },
            "type": "choropleth"
           }
          ],
          "contour": [
           {
            "colorbar": {
             "outlinewidth": 0,
             "ticks": ""
            },
            "colorscale": [
             [
              0,
              "#0d0887"
             ],
             [
              0.1111111111111111,
              "#46039f"
             ],
             [
              0.2222222222222222,
              "#7201a8"
             ],
             [
              0.3333333333333333,
              "#9c179e"
             ],
             [
              0.4444444444444444,
              "#bd3786"
             ],
             [
              0.5555555555555556,
              "#d8576b"
             ],
             [
              0.6666666666666666,
              "#ed7953"
             ],
             [
              0.7777777777777778,
              "#fb9f3a"
             ],
             [
              0.8888888888888888,
              "#fdca26"
             ],
             [
              1,
              "#f0f921"
             ]
            ],
            "type": "contour"
           }
          ],
          "contourcarpet": [
           {
            "colorbar": {
             "outlinewidth": 0,
             "ticks": ""
            },
            "type": "contourcarpet"
           }
          ],
          "heatmap": [
           {
            "colorbar": {
             "outlinewidth": 0,
             "ticks": ""
            },
            "colorscale": [
             [
              0,
              "#0d0887"
             ],
             [
              0.1111111111111111,
              "#46039f"
             ],
             [
              0.2222222222222222,
              "#7201a8"
             ],
             [
              0.3333333333333333,
              "#9c179e"
             ],
             [
              0.4444444444444444,
              "#bd3786"
             ],
             [
              0.5555555555555556,
              "#d8576b"
             ],
             [
              0.6666666666666666,
              "#ed7953"
             ],
             [
              0.7777777777777778,
              "#fb9f3a"
             ],
             [
              0.8888888888888888,
              "#fdca26"
             ],
             [
              1,
              "#f0f921"
             ]
            ],
            "type": "heatmap"
           }
          ],
          "heatmapgl": [
           {
            "colorbar": {
             "outlinewidth": 0,
             "ticks": ""
            },
            "colorscale": [
             [
              0,
              "#0d0887"
             ],
             [
              0.1111111111111111,
              "#46039f"
             ],
             [
              0.2222222222222222,
              "#7201a8"
             ],
             [
              0.3333333333333333,
              "#9c179e"
             ],
             [
              0.4444444444444444,
              "#bd3786"
             ],
             [
              0.5555555555555556,
              "#d8576b"
             ],
             [
              0.6666666666666666,
              "#ed7953"
             ],
             [
              0.7777777777777778,
              "#fb9f3a"
             ],
             [
              0.8888888888888888,
              "#fdca26"
             ],
             [
              1,
              "#f0f921"
             ]
            ],
            "type": "heatmapgl"
           }
          ],
          "histogram": [
           {
            "marker": {
             "colorbar": {
              "outlinewidth": 0,
              "ticks": ""
             }
            },
            "type": "histogram"
           }
          ],
          "histogram2d": [
           {
            "colorbar": {
             "outlinewidth": 0,
             "ticks": ""
            },
            "colorscale": [
             [
              0,
              "#0d0887"
             ],
             [
              0.1111111111111111,
              "#46039f"
             ],
             [
              0.2222222222222222,
              "#7201a8"
             ],
             [
              0.3333333333333333,
              "#9c179e"
             ],
             [
              0.4444444444444444,
              "#bd3786"
             ],
             [
              0.5555555555555556,
              "#d8576b"
             ],
             [
              0.6666666666666666,
              "#ed7953"
             ],
             [
              0.7777777777777778,
              "#fb9f3a"
             ],
             [
              0.8888888888888888,
              "#fdca26"
             ],
             [
              1,
              "#f0f921"
             ]
            ],
            "type": "histogram2d"
           }
          ],
          "histogram2dcontour": [
           {
            "colorbar": {
             "outlinewidth": 0,
             "ticks": ""
            },
            "colorscale": [
             [
              0,
              "#0d0887"
             ],
             [
              0.1111111111111111,
              "#46039f"
             ],
             [
              0.2222222222222222,
              "#7201a8"
             ],
             [
              0.3333333333333333,
              "#9c179e"
             ],
             [
              0.4444444444444444,
              "#bd3786"
             ],
             [
              0.5555555555555556,
              "#d8576b"
             ],
             [
              0.6666666666666666,
              "#ed7953"
             ],
             [
              0.7777777777777778,
              "#fb9f3a"
             ],
             [
              0.8888888888888888,
              "#fdca26"
             ],
             [
              1,
              "#f0f921"
             ]
            ],
            "type": "histogram2dcontour"
           }
          ],
          "mesh3d": [
           {
            "colorbar": {
             "outlinewidth": 0,
             "ticks": ""
            },
            "type": "mesh3d"
           }
          ],
          "parcoords": [
           {
            "line": {
             "colorbar": {
              "outlinewidth": 0,
              "ticks": ""
             }
            },
            "type": "parcoords"
           }
          ],
          "pie": [
           {
            "automargin": true,
            "type": "pie"
           }
          ],
          "scatter": [
           {
            "marker": {
             "colorbar": {
              "outlinewidth": 0,
              "ticks": ""
             }
            },
            "type": "scatter"
           }
          ],
          "scatter3d": [
           {
            "line": {
             "colorbar": {
              "outlinewidth": 0,
              "ticks": ""
             }
            },
            "marker": {
             "colorbar": {
              "outlinewidth": 0,
              "ticks": ""
             }
            },
            "type": "scatter3d"
           }
          ],
          "scattercarpet": [
           {
            "marker": {
             "colorbar": {
              "outlinewidth": 0,
              "ticks": ""
             }
            },
            "type": "scattercarpet"
           }
          ],
          "scattergeo": [
           {
            "marker": {
             "colorbar": {
              "outlinewidth": 0,
              "ticks": ""
             }
            },
            "type": "scattergeo"
           }
          ],
          "scattergl": [
           {
            "marker": {
             "colorbar": {
              "outlinewidth": 0,
              "ticks": ""
             }
            },
            "type": "scattergl"
           }
          ],
          "scattermapbox": [
           {
            "marker": {
             "colorbar": {
              "outlinewidth": 0,
              "ticks": ""
             }
            },
            "type": "scattermapbox"
           }
          ],
          "scatterpolar": [
           {
            "marker": {
             "colorbar": {
              "outlinewidth": 0,
              "ticks": ""
             }
            },
            "type": "scatterpolar"
           }
          ],
          "scatterpolargl": [
           {
            "marker": {
             "colorbar": {
              "outlinewidth": 0,
              "ticks": ""
             }
            },
            "type": "scatterpolargl"
           }
          ],
          "scatterternary": [
           {
            "marker": {
             "colorbar": {
              "outlinewidth": 0,
              "ticks": ""
             }
            },
            "type": "scatterternary"
           }
          ],
          "surface": [
           {
            "colorbar": {
             "outlinewidth": 0,
             "ticks": ""
            },
            "colorscale": [
             [
              0,
              "#0d0887"
             ],
             [
              0.1111111111111111,
              "#46039f"
             ],
             [
              0.2222222222222222,
              "#7201a8"
             ],
             [
              0.3333333333333333,
              "#9c179e"
             ],
             [
              0.4444444444444444,
              "#bd3786"
             ],
             [
              0.5555555555555556,
              "#d8576b"
             ],
             [
              0.6666666666666666,
              "#ed7953"
             ],
             [
              0.7777777777777778,
              "#fb9f3a"
             ],
             [
              0.8888888888888888,
              "#fdca26"
             ],
             [
              1,
              "#f0f921"
             ]
            ],
            "type": "surface"
           }
          ],
          "table": [
           {
            "cells": {
             "fill": {
              "color": "#EBF0F8"
             },
             "line": {
              "color": "white"
             }
            },
            "header": {
             "fill": {
              "color": "#C8D4E3"
             },
             "line": {
              "color": "white"
             }
            },
            "type": "table"
           }
          ]
         },
         "layout": {
          "annotationdefaults": {
           "arrowcolor": "#2a3f5f",
           "arrowhead": 0,
           "arrowwidth": 1
          },
          "coloraxis": {
           "colorbar": {
            "outlinewidth": 0,
            "ticks": ""
           }
          },
          "colorscale": {
           "diverging": [
            [
             0,
             "#8e0152"
            ],
            [
             0.1,
             "#c51b7d"
            ],
            [
             0.2,
             "#de77ae"
            ],
            [
             0.3,
             "#f1b6da"
            ],
            [
             0.4,
             "#fde0ef"
            ],
            [
             0.5,
             "#f7f7f7"
            ],
            [
             0.6,
             "#e6f5d0"
            ],
            [
             0.7,
             "#b8e186"
            ],
            [
             0.8,
             "#7fbc41"
            ],
            [
             0.9,
             "#4d9221"
            ],
            [
             1,
             "#276419"
            ]
           ],
           "sequential": [
            [
             0,
             "#0d0887"
            ],
            [
             0.1111111111111111,
             "#46039f"
            ],
            [
             0.2222222222222222,
             "#7201a8"
            ],
            [
             0.3333333333333333,
             "#9c179e"
            ],
            [
             0.4444444444444444,
             "#bd3786"
            ],
            [
             0.5555555555555556,
             "#d8576b"
            ],
            [
             0.6666666666666666,
             "#ed7953"
            ],
            [
             0.7777777777777778,
             "#fb9f3a"
            ],
            [
             0.8888888888888888,
             "#fdca26"
            ],
            [
             1,
             "#f0f921"
            ]
           ],
           "sequentialminus": [
            [
             0,
             "#0d0887"
            ],
            [
             0.1111111111111111,
             "#46039f"
            ],
            [
             0.2222222222222222,
             "#7201a8"
            ],
            [
             0.3333333333333333,
             "#9c179e"
            ],
            [
             0.4444444444444444,
             "#bd3786"
            ],
            [
             0.5555555555555556,
             "#d8576b"
            ],
            [
             0.6666666666666666,
             "#ed7953"
            ],
            [
             0.7777777777777778,
             "#fb9f3a"
            ],
            [
             0.8888888888888888,
             "#fdca26"
            ],
            [
             1,
             "#f0f921"
            ]
           ]
          },
          "colorway": [
           "#636efa",
           "#EF553B",
           "#00cc96",
           "#ab63fa",
           "#FFA15A",
           "#19d3f3",
           "#FF6692",
           "#B6E880",
           "#FF97FF",
           "#FECB52"
          ],
          "font": {
           "color": "#2a3f5f"
          },
          "geo": {
           "bgcolor": "white",
           "lakecolor": "white",
           "landcolor": "#E5ECF6",
           "showlakes": true,
           "showland": true,
           "subunitcolor": "white"
          },
          "hoverlabel": {
           "align": "left"
          },
          "hovermode": "closest",
          "mapbox": {
           "style": "light"
          },
          "paper_bgcolor": "white",
          "plot_bgcolor": "#E5ECF6",
          "polar": {
           "angularaxis": {
            "gridcolor": "white",
            "linecolor": "white",
            "ticks": ""
           },
           "bgcolor": "#E5ECF6",
           "radialaxis": {
            "gridcolor": "white",
            "linecolor": "white",
            "ticks": ""
           }
          },
          "scene": {
           "xaxis": {
            "backgroundcolor": "#E5ECF6",
            "gridcolor": "white",
            "gridwidth": 2,
            "linecolor": "white",
            "showbackground": true,
            "ticks": "",
            "zerolinecolor": "white"
           },
           "yaxis": {
            "backgroundcolor": "#E5ECF6",
            "gridcolor": "white",
            "gridwidth": 2,
            "linecolor": "white",
            "showbackground": true,
            "ticks": "",
            "zerolinecolor": "white"
           },
           "zaxis": {
            "backgroundcolor": "#E5ECF6",
            "gridcolor": "white",
            "gridwidth": 2,
            "linecolor": "white",
            "showbackground": true,
            "ticks": "",
            "zerolinecolor": "white"
           }
          },
          "shapedefaults": {
           "line": {
            "color": "#2a3f5f"
           }
          },
          "ternary": {
           "aaxis": {
            "gridcolor": "white",
            "linecolor": "white",
            "ticks": ""
           },
           "baxis": {
            "gridcolor": "white",
            "linecolor": "white",
            "ticks": ""
           },
           "bgcolor": "#E5ECF6",
           "caxis": {
            "gridcolor": "white",
            "linecolor": "white",
            "ticks": ""
           }
          },
          "title": {
           "x": 0.05
          },
          "xaxis": {
           "automargin": true,
           "gridcolor": "white",
           "linecolor": "white",
           "ticks": "",
           "title": {
            "standoff": 15
           },
           "zerolinecolor": "white",
           "zerolinewidth": 2
          },
          "yaxis": {
           "automargin": true,
           "gridcolor": "white",
           "linecolor": "white",
           "ticks": "",
           "title": {
            "standoff": 15
           },
           "zerolinecolor": "white",
           "zerolinewidth": 2
          }
         }
        },
        "updatemenus": [
         {
          "buttons": [
           {
            "args": [
             null,
             {
              "frame": {
               "duration": 500,
               "redraw": true
              },
              "fromcurrent": true,
              "mode": "immediate",
              "transition": {
               "duration": 500,
               "easing": "linear"
              }
             }
            ],
            "label": "&#9654;",
            "method": "animate"
           },
           {
            "args": [
             [
              null
             ],
             {
              "frame": {
               "duration": 0,
               "redraw": true
              },
              "fromcurrent": true,
              "mode": "immediate",
              "transition": {
               "duration": 0,
               "easing": "linear"
              }
             }
            ],
            "label": "&#9724;",
            "method": "animate"
           }
          ],
          "direction": "left",
          "pad": {
           "r": 10,
           "t": 70
          },
          "showactive": false,
          "type": "buttons",
          "x": 0.1,
          "xanchor": "right",
          "y": 0,
          "yanchor": "top"
         }
        ]
       }
      }
     },
     "metadata": {},
     "output_type": "display_data"
    }
   ],
   "source": [
    "# Visualising driver positions on the same map for comparison\n",
    "fig = px.scatter_mapbox(comparison_df, \n",
    "                        lat=\"Lat\", lon=\"Lon\", animation_frame='Day_of_Week_and_Hour', zoom=10,\n",
    "                        color = \"algorithm\",\n",
    "                        mapbox_style=\"open-street-map\")\n",
    "\n",
    "fig.show()"
   ]
  },
  {
   "attachments": {},
   "cell_type": "markdown",
   "metadata": {},
   "source": [
    "It looks like the KMeans algorithm is better suited to find clusters that are situated outside Manhattan (airports, suburbs) since DBScan seems to consider such pickup points as outliers. "
   ]
  }
 ],
 "metadata": {
  "kernelspec": {
   "display_name": "Python 3",
   "language": "python",
   "name": "python3"
  },
  "language_info": {
   "codemirror_mode": {
    "name": "ipython",
    "version": 3
   },
   "file_extension": ".py",
   "mimetype": "text/x-python",
   "name": "python",
   "nbconvert_exporter": "python",
   "pygments_lexer": "ipython3",
   "version": "3.10.10"
  },
  "orig_nbformat": 4
 },
 "nbformat": 4,
 "nbformat_minor": 2
}
